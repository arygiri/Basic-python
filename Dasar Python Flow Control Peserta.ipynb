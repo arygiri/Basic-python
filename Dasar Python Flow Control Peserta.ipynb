{
 "cells": [
  {
   "cell_type": "markdown",
   "id": "484c11f4",
   "metadata": {},
   "source": [
    "# Conditional Statement"
   ]
  },
  {
   "cell_type": "markdown",
   "id": "6b936d08",
   "metadata": {},
   "source": [
    "Ada 3 jenis conditionals yang bisa digunakan:\n",
    "\n",
    "if......\n",
    "\n",
    "elif....\n",
    "\n",
    "else...."
   ]
  },
  {
   "cell_type": "markdown",
   "id": "eaa0e0ea",
   "metadata": {},
   "source": [
    "if (**sebuah kondisi = True**):\n",
    "\n",
    "    eksekusi"
   ]
  },
  {
   "cell_type": "code",
   "execution_count": 2,
   "id": "f9898f3a",
   "metadata": {},
   "outputs": [
    {
     "name": "stdout",
     "output_type": "stream",
     "text": [
      "Delapan lebih besar dari angka enam\n"
     ]
    }
   ],
   "source": [
    "#contoh untuk if\n",
    "nilai = 8\n",
    "\n",
    "#jika benar maka akan di eksekusi\n",
    "if (nilai > 6):\n",
    "    print ('Delapan lebih besar dari angka enam')\n"
   ]
  },
  {
   "cell_type": "code",
   "execution_count": 3,
   "id": "414d022b",
   "metadata": {},
   "outputs": [],
   "source": [
    "#jika benar maka akan di eksekusi\n",
    "if (nilai < 4):\n",
    "    print ('Delapan lebih besar dari angka enam')\n"
   ]
  },
  {
   "cell_type": "markdown",
   "id": "8bc71614",
   "metadata": {},
   "source": [
    "if (**sebuah kondisi = True**):\n",
    "\n",
    "    eksekusi\n",
    "    \n",
    "else:\n",
    "\n",
    "    eksekusi"
   ]
  },
  {
   "cell_type": "code",
   "execution_count": 4,
   "id": "da8f22f7",
   "metadata": {},
   "outputs": [
    {
     "name": "stdout",
     "output_type": "stream",
     "text": [
      "Enam lebih besar dari lima\n"
     ]
    }
   ],
   "source": [
    "#contoh if else\n",
    "nilai = 6\n",
    "\n",
    "if (nilai < 5):\n",
    "    print('Enam lebih kecil dari lima')\n",
    "else:\n",
    "    print('Enam lebih besar dari lima')\n",
    "\n"
   ]
  },
  {
   "cell_type": "markdown",
   "id": "c27d14b4",
   "metadata": {},
   "source": [
    "if (**sebuah kondisi = True**):\n",
    "\n",
    "    eksekusi\n",
    "\n",
    "elif (**sebuah kondisi == True**):\n",
    "    \n",
    "    eksekusi\n",
    "    \n",
    "else:\n",
    "\n",
    "    eksekusi"
   ]
  },
  {
   "cell_type": "code",
   "execution_count": 6,
   "id": "4da80d95",
   "metadata": {},
   "outputs": [
    {
     "name": "stdout",
     "output_type": "stream",
     "text": [
      "Saya mengikuti bootcamp\n"
     ]
    }
   ],
   "source": [
    "#contoh elif\n",
    "\n",
    "hari_ini = 'Selasa'\n",
    "\n",
    "if ( hari_ini == 'Senin'):\n",
    "    print('Saya mengikuti bootcamp')\n",
    "elif ( hari_ini == 'Selasa'):\n",
    "    print('Saya mengikuti bootcamp')\n",
    "elif ( hari_ini == 'Rabu'):\n",
    "    print('Saya mengikuti bootcamp')\n",
    "elif ( hari_ini == 'Jumat'):\n",
    "    print('Saya mengikuti Sertifikasi Kompetensi')\n",
    "\n"
   ]
  },
  {
   "cell_type": "markdown",
   "id": "763850ac",
   "metadata": {},
   "source": [
    "## For loops\n",
    "\n",
    "Digunakan untuk melakukan iterasi. hampir seluruh objek dapat dilakukan iterasi di python.\n",
    "\n",
    "Aturan penuliasan:\n",
    "\n",
    "**for `item` in `items`:**\n",
    "\n",
    "   **eksekusi perintah**"
   ]
  },
  {
   "cell_type": "markdown",
   "id": "af63c114",
   "metadata": {},
   "source": [
    "for i in 'Python Bootcamp by OCY':\n",
    "\n",
    "    print(i)"
   ]
  },
  {
   "cell_type": "code",
   "execution_count": 11,
   "id": "c11bd678",
   "metadata": {},
   "outputs": [
    {
     "name": "stdout",
     "output_type": "stream",
     "text": [
      "Python Bootcamp by OCY"
     ]
    }
   ],
   "source": [
    "#misal eksekusi tanpa membuat baris baru dibawahnya maka\n",
    "for i in 'Python Bootcamp by OCY':\n",
    "    print(i, end='')"
   ]
  },
  {
   "cell_type": "markdown",
   "id": "793e0796",
   "metadata": {},
   "source": [
    "**Iterasi data list**"
   ]
  },
  {
   "cell_type": "code",
   "execution_count": 8,
   "id": "2a4c0644",
   "metadata": {},
   "outputs": [],
   "source": [
    "#buat variabel angka berisi 1-5\n",
    "angka = [1,2,3,4,5]\n"
   ]
  },
  {
   "cell_type": "code",
   "execution_count": 13,
   "id": "f6badc7e",
   "metadata": {},
   "outputs": [
    {
     "name": "stdout",
     "output_type": "stream",
     "text": [
      "1\n",
      "2\n",
      "3\n",
      "4\n",
      "5\n"
     ]
    }
   ],
   "source": [
    "#perintah print isi angka dengan for:\n",
    "for isi in angka:\n",
    "    print(isi)"
   ]
  },
  {
   "cell_type": "code",
   "execution_count": 14,
   "id": "91a34f8c",
   "metadata": {},
   "outputs": [],
   "source": [
    "#buat variabel jumlah = 0\n",
    "jumlah = 0"
   ]
  },
  {
   "cell_type": "code",
   "execution_count": 18,
   "id": "798e2ddc",
   "metadata": {},
   "outputs": [
    {
     "name": "stdout",
     "output_type": "stream",
     "text": [
      "Hasil penjumlahan pada iterator ke-1 adalah 46\n",
      "Hasil penjumlahan pada iterator ke-2 adalah 48\n",
      "Hasil penjumlahan pada iterator ke-3 adalah 51\n",
      "Hasil penjumlahan pada iterator ke-4 adalah 55\n",
      "Hasil penjumlahan pada iterator ke-5 adalah 60\n"
     ]
    }
   ],
   "source": [
    "#iterasi penjumlahan pada list (variabel angka)\n",
    "for isi in angka:\n",
    "    jumlah = jumlah + isi\n",
    "    print('Hasil penjumlahan pada iterator ke-{} adalah {}'.format(isi, jumlah))"
   ]
  },
  {
   "cell_type": "code",
   "execution_count": 20,
   "id": "5d207270",
   "metadata": {},
   "outputs": [
    {
     "data": {
      "text/plain": [
       "1"
      ]
     },
     "execution_count": 20,
     "metadata": {},
     "output_type": "execute_result"
    }
   ],
   "source": [
    "jumlah = 0\n",
    "jumlah = jumlah + 1\n",
    "jumlah"
   ]
  },
  {
   "cell_type": "code",
   "execution_count": 22,
   "id": "3adec72c",
   "metadata": {},
   "outputs": [
    {
     "data": {
      "text/plain": [
       "1"
      ]
     },
     "execution_count": 22,
     "metadata": {},
     "output_type": "execute_result"
    }
   ],
   "source": [
    "jumlah=0\n",
    "jumlah += 1\n",
    "jumlah"
   ]
  },
  {
   "cell_type": "code",
   "execution_count": 23,
   "id": "e6d2a32b",
   "metadata": {},
   "outputs": [
    {
     "name": "stdout",
     "output_type": "stream",
     "text": [
      "Hasil penjumlahan total adalah 1\n",
      "Hasil penjumlahan total adalah 3\n",
      "Hasil penjumlahan total adalah 6\n",
      "Hasil penjumlahan total adalah 10\n",
      "Hasil penjumlahan total adalah 15\n"
     ]
    }
   ],
   "source": [
    "jumlah = 0\n",
    "#membuat perintah penjumlahan total\n",
    "for isi in angka:\n",
    "    jumlah += isi\n",
    "    print('Hasil penjumlahan total adalah', jumlah)"
   ]
  },
  {
   "cell_type": "markdown",
   "id": "b79715b0",
   "metadata": {},
   "source": [
    "## Looping dan conditional"
   ]
  },
  {
   "cell_type": "code",
   "execution_count": 24,
   "id": "287fa86d",
   "metadata": {},
   "outputs": [
    {
     "name": "stdout",
     "output_type": "stream",
     "text": [
      "hey kamu berada di huruf A, selamat! 2\n",
      "hey kamu berada di huruf A, selamat! 4\n",
      "hey kamu berada di huruf A, selamat! 9\n",
      "hey kamu berada di huruf A, selamat! 11\n"
     ]
    }
   ],
   "source": [
    "# pada huruf Saya belajar python, ketika pada huruf A maka print hey kamu berada di huruf A, selamat! indeks\n",
    "\n",
    "jumlah = 0\n",
    "for huruf in 'Saya belajar python':\n",
    "    jumlah += 1\n",
    "    if (huruf == 'a'):\n",
    "        print('hey kamu berada di huruf A, selamat!', jumlah)\n"
   ]
  },
  {
   "cell_type": "markdown",
   "id": "a5ae9027",
   "metadata": {},
   "source": [
    "## Tantangan\n",
    "\n",
    "angka = [1,2,3,4,5,6,7,8,9,10]\n",
    "lakukan iterasi list angka, kemudian cetak dilayar apakah ia ganjil atau genap. gunakan fungsi modulus (%)"
   ]
  },
  {
   "cell_type": "code",
   "execution_count": 27,
   "id": "3251d5a3",
   "metadata": {},
   "outputs": [
    {
     "data": {
      "text/plain": [
       "0"
      ]
     },
     "execution_count": 27,
     "metadata": {},
     "output_type": "execute_result"
    }
   ],
   "source": [
    "2%2"
   ]
  },
  {
   "cell_type": "code",
   "execution_count": 28,
   "id": "d4499672",
   "metadata": {},
   "outputs": [
    {
     "data": {
      "text/plain": [
       "1"
      ]
     },
     "execution_count": 28,
     "metadata": {},
     "output_type": "execute_result"
    }
   ],
   "source": [
    "3%2"
   ]
  },
  {
   "cell_type": "code",
   "execution_count": 26,
   "id": "e597fcb2",
   "metadata": {},
   "outputs": [],
   "source": [
    "#buat variabel angka\n",
    "angka = [1,2,3,4,5,6,7,8,9,10] "
   ]
  },
  {
   "cell_type": "code",
   "execution_count": 29,
   "id": "e2ac8ec5",
   "metadata": {},
   "outputs": [
    {
     "name": "stdout",
     "output_type": "stream",
     "text": [
      "Angka 1 adalah bilangan ganjil\n",
      "Angka 2 adalah bilangan genap\n",
      "Angka 3 adalah bilangan ganjil\n",
      "Angka 4 adalah bilangan genap\n",
      "Angka 5 adalah bilangan ganjil\n",
      "Angka 6 adalah bilangan genap\n",
      "Angka 7 adalah bilangan ganjil\n",
      "Angka 8 adalah bilangan genap\n",
      "Angka 9 adalah bilangan ganjil\n",
      "Angka 10 adalah bilangan genap\n"
     ]
    }
   ],
   "source": [
    "#buat perintah iterasi\n",
    "for item in angka:\n",
    "    if item%2 == 0:\n",
    "        print('Angka {} adalah bilangan genap' .format(item))\n",
    "    else:\n",
    "        print('Angka {} adalah bilangan ganjil' .format(item))"
   ]
  },
  {
   "cell_type": "code",
   "execution_count": 30,
   "id": "61c8bef2",
   "metadata": {},
   "outputs": [],
   "source": [
    "import pandas as pd"
   ]
  },
  {
   "cell_type": "code",
   "execution_count": 31,
   "id": "64c1bd40",
   "metadata": {},
   "outputs": [],
   "source": [
    "#import data Kualitas_Air.xlsx Sheet 1  sebagai variabl data\n",
    "data = pd.read_excel('Kualitas_Air.xlsx', sheet_name = 'Sheet1')"
   ]
  },
  {
   "cell_type": "code",
   "execution_count": 32,
   "id": "4935c476",
   "metadata": {
    "scrolled": false
   },
   "outputs": [
    {
     "data": {
      "text/html": [
       "<div>\n",
       "<style scoped>\n",
       "    .dataframe tbody tr th:only-of-type {\n",
       "        vertical-align: middle;\n",
       "    }\n",
       "\n",
       "    .dataframe tbody tr th {\n",
       "        vertical-align: top;\n",
       "    }\n",
       "\n",
       "    .dataframe thead th {\n",
       "        text-align: right;\n",
       "    }\n",
       "</style>\n",
       "<table border=\"1\" class=\"dataframe\">\n",
       "  <thead>\n",
       "    <tr style=\"text-align: right;\">\n",
       "      <th></th>\n",
       "      <th>DO</th>\n",
       "      <th>PH</th>\n",
       "      <th>Salinitas</th>\n",
       "      <th>Kecerahan</th>\n",
       "      <th>Klorofil</th>\n",
       "      <th>Ammonia</th>\n",
       "      <th>Ammonium</th>\n",
       "      <th>Nitrat</th>\n",
       "      <th>Nitrit</th>\n",
       "    </tr>\n",
       "  </thead>\n",
       "  <tbody>\n",
       "    <tr>\n",
       "      <th>0</th>\n",
       "      <td>4.40</td>\n",
       "      <td>7.60</td>\n",
       "      <td>20.000000</td>\n",
       "      <td>7.000000</td>\n",
       "      <td>26.700</td>\n",
       "      <td>135.294463</td>\n",
       "      <td>841.352550</td>\n",
       "      <td>29.078347</td>\n",
       "      <td>23.062711</td>\n",
       "    </tr>\n",
       "    <tr>\n",
       "      <th>1</th>\n",
       "      <td>4.40</td>\n",
       "      <td>7.60</td>\n",
       "      <td>22.000000</td>\n",
       "      <td>7.000000</td>\n",
       "      <td>13.350</td>\n",
       "      <td>79.320063</td>\n",
       "      <td>878.159645</td>\n",
       "      <td>15.497162</td>\n",
       "      <td>23.127921</td>\n",
       "    </tr>\n",
       "    <tr>\n",
       "      <th>2</th>\n",
       "      <td>3.20</td>\n",
       "      <td>7.52</td>\n",
       "      <td>21.000000</td>\n",
       "      <td>5.500000</td>\n",
       "      <td>2.670</td>\n",
       "      <td>79.284834</td>\n",
       "      <td>892.572062</td>\n",
       "      <td>8.612223</td>\n",
       "      <td>23.019237</td>\n",
       "    </tr>\n",
       "    <tr>\n",
       "      <th>3</th>\n",
       "      <td>3.20</td>\n",
       "      <td>7.52</td>\n",
       "      <td>21.000000</td>\n",
       "      <td>5.500000</td>\n",
       "      <td>2.670</td>\n",
       "      <td>110.187306</td>\n",
       "      <td>804.157428</td>\n",
       "      <td>1.715993</td>\n",
       "      <td>23.345289</td>\n",
       "    </tr>\n",
       "    <tr>\n",
       "      <th>4</th>\n",
       "      <td>3.30</td>\n",
       "      <td>7.50</td>\n",
       "      <td>20.000000</td>\n",
       "      <td>9.500000</td>\n",
       "      <td>5.340</td>\n",
       "      <td>171.992249</td>\n",
       "      <td>847.283814</td>\n",
       "      <td>0.653174</td>\n",
       "      <td>22.997500</td>\n",
       "    </tr>\n",
       "    <tr>\n",
       "      <th>5</th>\n",
       "      <td>2.35</td>\n",
       "      <td>6.90</td>\n",
       "      <td>21.000000</td>\n",
       "      <td>9.500000</td>\n",
       "      <td>2.670</td>\n",
       "      <td>121.777934</td>\n",
       "      <td>846.840355</td>\n",
       "      <td>18.482410</td>\n",
       "      <td>22.975764</td>\n",
       "    </tr>\n",
       "    <tr>\n",
       "      <th>6</th>\n",
       "      <td>2.32</td>\n",
       "      <td>7.42</td>\n",
       "      <td>20.000000</td>\n",
       "      <td>3.000000</td>\n",
       "      <td>8.010</td>\n",
       "      <td>150.748635</td>\n",
       "      <td>812.084257</td>\n",
       "      <td>6.193059</td>\n",
       "      <td>23.019237</td>\n",
       "    </tr>\n",
       "    <tr>\n",
       "      <th>7</th>\n",
       "      <td>3.20</td>\n",
       "      <td>7.52</td>\n",
       "      <td>21.000000</td>\n",
       "      <td>5.500000</td>\n",
       "      <td>18.690</td>\n",
       "      <td>181.651107</td>\n",
       "      <td>847.727273</td>\n",
       "      <td>16.676101</td>\n",
       "      <td>24.084339</td>\n",
       "    </tr>\n",
       "    <tr>\n",
       "      <th>8</th>\n",
       "      <td>4.08</td>\n",
       "      <td>7.90</td>\n",
       "      <td>20.466667</td>\n",
       "      <td>5.666667</td>\n",
       "      <td>20.025</td>\n",
       "      <td>183.776643</td>\n",
       "      <td>830.127494</td>\n",
       "      <td>11.899290</td>\n",
       "      <td>23.581288</td>\n",
       "    </tr>\n",
       "    <tr>\n",
       "      <th>9</th>\n",
       "      <td>4.96</td>\n",
       "      <td>7.50</td>\n",
       "      <td>20.409524</td>\n",
       "      <td>5.452381</td>\n",
       "      <td>24.564</td>\n",
       "      <td>195.945041</td>\n",
       "      <td>826.784922</td>\n",
       "      <td>12.451608</td>\n",
       "      <td>23.670564</td>\n",
       "    </tr>\n",
       "    <tr>\n",
       "      <th>10</th>\n",
       "      <td>5.84</td>\n",
       "      <td>6.90</td>\n",
       "      <td>20.352381</td>\n",
       "      <td>5.238095</td>\n",
       "      <td>29.103</td>\n",
       "      <td>208.113440</td>\n",
       "      <td>823.442350</td>\n",
       "      <td>13.003926</td>\n",
       "      <td>23.759840</td>\n",
       "    </tr>\n",
       "    <tr>\n",
       "      <th>11</th>\n",
       "      <td>6.72</td>\n",
       "      <td>7.42</td>\n",
       "      <td>20.295238</td>\n",
       "      <td>5.023810</td>\n",
       "      <td>33.642</td>\n",
       "      <td>220.281839</td>\n",
       "      <td>820.099778</td>\n",
       "      <td>13.556244</td>\n",
       "      <td>23.849116</td>\n",
       "    </tr>\n",
       "    <tr>\n",
       "      <th>12</th>\n",
       "      <td>7.60</td>\n",
       "      <td>7.52</td>\n",
       "      <td>20.238095</td>\n",
       "      <td>4.809524</td>\n",
       "      <td>38.181</td>\n",
       "      <td>232.450238</td>\n",
       "      <td>816.757206</td>\n",
       "      <td>14.108562</td>\n",
       "      <td>23.938392</td>\n",
       "    </tr>\n",
       "    <tr>\n",
       "      <th>13</th>\n",
       "      <td>8.48</td>\n",
       "      <td>7.90</td>\n",
       "      <td>20.180952</td>\n",
       "      <td>4.595238</td>\n",
       "      <td>42.720</td>\n",
       "      <td>244.618637</td>\n",
       "      <td>813.414634</td>\n",
       "      <td>14.660880</td>\n",
       "      <td>24.027668</td>\n",
       "    </tr>\n",
       "  </tbody>\n",
       "</table>\n",
       "</div>"
      ],
      "text/plain": [
       "      DO    PH  Salinitas  Kecerahan  Klorofil     Ammonia    Ammonium  \\\n",
       "0   4.40  7.60  20.000000   7.000000    26.700  135.294463  841.352550   \n",
       "1   4.40  7.60  22.000000   7.000000    13.350   79.320063  878.159645   \n",
       "2   3.20  7.52  21.000000   5.500000     2.670   79.284834  892.572062   \n",
       "3   3.20  7.52  21.000000   5.500000     2.670  110.187306  804.157428   \n",
       "4   3.30  7.50  20.000000   9.500000     5.340  171.992249  847.283814   \n",
       "5   2.35  6.90  21.000000   9.500000     2.670  121.777934  846.840355   \n",
       "6   2.32  7.42  20.000000   3.000000     8.010  150.748635  812.084257   \n",
       "7   3.20  7.52  21.000000   5.500000    18.690  181.651107  847.727273   \n",
       "8   4.08  7.90  20.466667   5.666667    20.025  183.776643  830.127494   \n",
       "9   4.96  7.50  20.409524   5.452381    24.564  195.945041  826.784922   \n",
       "10  5.84  6.90  20.352381   5.238095    29.103  208.113440  823.442350   \n",
       "11  6.72  7.42  20.295238   5.023810    33.642  220.281839  820.099778   \n",
       "12  7.60  7.52  20.238095   4.809524    38.181  232.450238  816.757206   \n",
       "13  8.48  7.90  20.180952   4.595238    42.720  244.618637  813.414634   \n",
       "\n",
       "       Nitrat     Nitrit  \n",
       "0   29.078347  23.062711  \n",
       "1   15.497162  23.127921  \n",
       "2    8.612223  23.019237  \n",
       "3    1.715993  23.345289  \n",
       "4    0.653174  22.997500  \n",
       "5   18.482410  22.975764  \n",
       "6    6.193059  23.019237  \n",
       "7   16.676101  24.084339  \n",
       "8   11.899290  23.581288  \n",
       "9   12.451608  23.670564  \n",
       "10  13.003926  23.759840  \n",
       "11  13.556244  23.849116  \n",
       "12  14.108562  23.938392  \n",
       "13  14.660880  24.027668  "
      ]
     },
     "execution_count": 32,
     "metadata": {},
     "output_type": "execute_result"
    }
   ],
   "source": [
    "# panggil variabel \n",
    "data"
   ]
  },
  {
   "cell_type": "code",
   "execution_count": 33,
   "id": "a7bf93c5",
   "metadata": {},
   "outputs": [
    {
     "name": "stdout",
     "output_type": "stream",
     "text": [
      "Nilai DO masih dibawah ambang batas baku mutu\n",
      "Nilai DO masih dibawah ambang batas baku mutu\n",
      "Nilai DO masih dibawah ambang batas baku mutu\n",
      "Nilai DO masih dibawah ambang batas baku mutu\n",
      "Nilai DO masih dibawah ambang batas baku mutu\n",
      "Nilai DO masih dibawah ambang batas baku mutu\n",
      "Nilai DO masih dibawah ambang batas baku mutu\n",
      "Nilai DO masih dibawah ambang batas baku mutu\n",
      "Nilai DO masih dibawah ambang batas baku mutu\n",
      "Nilai DO masih dibawah ambang batas baku mutu\n",
      "Nilai DO masih diatas ambang batas baku mutu\n",
      "Nilai DO masih diatas ambang batas baku mutu\n",
      "Nilai DO masih diatas ambang batas baku mutu\n",
      "Nilai DO masih diatas ambang batas baku mutu\n"
     ]
    }
   ],
   "source": [
    "# buat perintah jika data DO < 5  print 'Nilai DO masih dibawah ambang batas baku mutu' dan sebaliknya\n",
    "for i in data.DO:\n",
    "    if i < 5:\n",
    "        print('Nilai DO masih dibawah ambang batas baku mutu')\n",
    "    else:\n",
    "        print('Nilai DO masih diatas ambang batas baku mutu')"
   ]
  },
  {
   "cell_type": "markdown",
   "id": "a2e1c3af",
   "metadata": {},
   "source": [
    "### buatlah perintah for loop, untuk nilai pH pada variabel. Nilai baku mutunya adalah 7-8.5"
   ]
  },
  {
   "cell_type": "markdown",
   "id": "8221bdfb",
   "metadata": {},
   "source": [
    "# While loop"
   ]
  },
  {
   "cell_type": "markdown",
   "id": "eb770d3f",
   "metadata": {},
   "source": [
    "ada 3 argumen yang bisa digunakan:\n",
    "1. break= menghentikan looping\n",
    "2. continue = melanjutkan looping ke iterator selanjutnya dan melewati iterator saat ini\n",
    "3. pass = tidak melakukan apa-apa\n",
    "\n",
    "while (sebuah kondisi = True):\n",
    "    \n",
    "    eksekusi"
   ]
  },
  {
   "cell_type": "code",
   "execution_count": 36,
   "id": "0dcc7f07",
   "metadata": {},
   "outputs": [
    {
     "name": "stdout",
     "output_type": "stream",
     "text": [
      "Saya berhasil menjalankan while loop\n",
      "Saya berhasil menjalankan while loop\n",
      "Saya berhasil menjalankan while loop\n",
      "Saya berhasil menjalankan while loop\n",
      "Saya berhasil menjalankan while loop\n"
     ]
    }
   ],
   "source": [
    "indeks = 0\n",
    "while True:\n",
    "    print('Saya berhasil menjalankan while loop')\n",
    "    indeks += 1\n",
    "    if indeks == 5:\n",
    "        break"
   ]
  },
  {
   "cell_type": "code",
   "execution_count": 37,
   "id": "267c9600",
   "metadata": {},
   "outputs": [],
   "source": [
    "# while dengan kondisi\n",
    "x=0"
   ]
  },
  {
   "cell_type": "code",
   "execution_count": 39,
   "id": "2c2fb213",
   "metadata": {},
   "outputs": [
    {
     "name": "stdout",
     "output_type": "stream",
     "text": [
      "Bilangan x saat ini adalah:  0\n",
      "Bilangan x saat ini adalah:  2\n",
      "Bilangan x saat ini adalah:  4\n",
      "Bilangan x saat ini adalah:  6\n",
      "Bilangan x saat ini adalah:  8\n",
      "Bilangan x saat ini adalah:  10\n",
      "Bilangan x saat ini adalah:  12\n",
      "Bilangan x saat ini adalah:  14\n",
      "Bilangan x saat ini adalah:  16\n",
      "Bilangan x saat ini adalah:  18\n",
      "Bilangan x saat ini adalah:  20\n",
      "Bilangan x saat ini adalah:  22\n",
      "Bilangan x saat ini adalah:  24\n",
      "Bilangan x saat ini adalah:  26\n",
      "Bilangan x saat ini adalah:  28\n",
      "Bilangan x saat ini adalah:  30\n",
      "Bilangan x saat ini adalah:  32\n",
      "Bilangan x saat ini adalah:  34\n",
      "Bilangan x saat ini adalah:  36\n",
      "Bilangan x saat ini adalah:  38\n",
      "Bilangan x saat ini adalah:  40\n",
      "Bilangan x saat ini adalah:  42\n",
      "Bilangan x saat ini adalah:  44\n",
      "Bilangan x saat ini adalah:  46\n",
      "Bilangan x saat ini adalah:  48\n"
     ]
    }
   ],
   "source": [
    "#membuat perintah jika x< 50 maka print Bilangan x saat ini adalah:x\n",
    "while x < 50:\n",
    "    print('Bilangan x saat ini adalah: ', x)\n",
    "    x += 2"
   ]
  },
  {
   "cell_type": "code",
   "execution_count": 40,
   "id": "0c2c8af8",
   "metadata": {},
   "outputs": [],
   "source": [
    "#membuat variabel angka bersisi 1-10\n",
    "angka = list(range(1,11))"
   ]
  },
  {
   "cell_type": "code",
   "execution_count": 41,
   "id": "4cb6055d",
   "metadata": {},
   "outputs": [
    {
     "data": {
      "text/plain": [
       "[1, 2, 3, 4, 5, 6, 7, 8, 9, 10]"
      ]
     },
     "execution_count": 41,
     "metadata": {},
     "output_type": "execute_result"
    }
   ],
   "source": [
    "angka"
   ]
  },
  {
   "cell_type": "code",
   "execution_count": 42,
   "id": "2b34c894",
   "metadata": {},
   "outputs": [
    {
     "name": "stdout",
     "output_type": "stream",
     "text": [
      "Anda berada di angka ganjil =  1\n",
      "Anda berada di angka ganjil =  3\n",
      "Anda berada di angka ganjil =  5\n",
      "Anda berada di angka ganjil =  7\n",
      "Anda berada di angka ganjil =  9\n"
     ]
    }
   ],
   "source": [
    "# membuat perintah jika item di variabel angka ganjil maka print Anda berada di angka ganjil = item\n",
    "for item in angka:\n",
    "    if item%2 == 0:\n",
    "        continue\n",
    "    else:\n",
    "        print('Anda berada di angka ganjil = ', item)"
   ]
  },
  {
   "cell_type": "code",
   "execution_count": 43,
   "id": "d9c68ff3",
   "metadata": {},
   "outputs": [],
   "source": [
    "for i in 'Saya sudah mulai mahir di Python':\n",
    "    if i == 'a':\n",
    "        pass\n",
    "    else:\n",
    "        continue"
   ]
  },
  {
   "cell_type": "code",
   "execution_count": 44,
   "id": "14dc7d5e",
   "metadata": {},
   "outputs": [],
   "source": [
    "for i in 'abcd':\n",
    "    pass"
   ]
  },
  {
   "cell_type": "code",
   "execution_count": 45,
   "id": "ab99dade",
   "metadata": {},
   "outputs": [
    {
     "ename": "IndentationError",
     "evalue": "expected an indented block (Temp/ipykernel_210828/2177730198.py, line 2)",
     "output_type": "error",
     "traceback": [
      "\u001b[1;36m  File \u001b[1;32m\"C:\\Users\\EBCKOM~1\\AppData\\Local\\Temp/ipykernel_210828/2177730198.py\"\u001b[1;36m, line \u001b[1;32m2\u001b[0m\n\u001b[1;33m    for i in 'abcd':\u001b[0m\n\u001b[1;37m                    ^\u001b[0m\n\u001b[1;31mIndentationError\u001b[0m\u001b[1;31m:\u001b[0m expected an indented block\n"
     ]
    }
   ],
   "source": [
    "#setidaknya tambahkan passa agar tdk error\n",
    "for i in 'abcd':"
   ]
  },
  {
   "cell_type": "code",
   "execution_count": null,
   "id": "68511bd1",
   "metadata": {},
   "outputs": [],
   "source": []
  }
 ],
 "metadata": {
  "kernelspec": {
   "display_name": "Python 3 (ipykernel)",
   "language": "python",
   "name": "python3"
  },
  "language_info": {
   "codemirror_mode": {
    "name": "ipython",
    "version": 3
   },
   "file_extension": ".py",
   "mimetype": "text/x-python",
   "name": "python",
   "nbconvert_exporter": "python",
   "pygments_lexer": "ipython3",
   "version": "3.9.7"
  }
 },
 "nbformat": 4,
 "nbformat_minor": 5
}
