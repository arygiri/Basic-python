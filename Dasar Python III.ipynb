{
 "cells": [
  {
   "cell_type": "markdown",
   "id": "65364a5f",
   "metadata": {},
   "source": [
    "# Dasar-Dasar Python II\n",
    "\n",
    "## 1. Tipe Data\n"
   ]
  },
  {
   "attachments": {
    "image_2023-01-24_053039225.png": {
     "image/png": "[encoded data removed]"
    }
   },
   "cell_type": "markdown",
   "id": "e0fcb4a5",
   "metadata": {},
   "source": [
    "![image_2023-01-24_053039225.png](attachment:image_2023-01-24_053039225.png)"
   ]
  },
  {
   "cell_type": "markdown",
   "id": "7c9daabc",
   "metadata": {},
   "source": [
    "### Int (Integer)\n",
    "Seluruh bilangan bulat contoh: 1, 6, 30\n",
    " "
   ]
  },
  {
   "cell_type": "code",
   "execution_count": 8,
   "id": "8d6e7cb6",
   "metadata": {},
   "outputs": [],
   "source": [
    "numerik= 1 #inputkan variabel numerik yang berisi angka 1"
   ]
  },
  {
   "cell_type": "code",
   "execution_count": 7,
   "id": "cf2243e0",
   "metadata": {},
   "outputs": [
    {
     "data": {
      "text/plain": [
       "int"
      ]
     },
     "execution_count": 7,
     "metadata": {},
     "output_type": "execute_result"
    }
   ],
   "source": [
    "type(numerik) #cek tipe data"
   ]
  },
  {
   "cell_type": "markdown",
   "id": "5f7a1be7",
   "metadata": {},
   "source": [
    " Fungsi `int()` digunakan untuk mengkonversi variabel menjadi integer. Contoh int(2.1) maka akan keluar output 2."
   ]
  },
  {
   "cell_type": "code",
   "execution_count": 9,
   "id": "d545b0d7",
   "metadata": {},
   "outputs": [
    {
     "data": {
      "text/plain": [
       "2"
      ]
     },
     "execution_count": 9,
     "metadata": {},
     "output_type": "execute_result"
    }
   ],
   "source": [
    "int(2.1) #konversi 2.1 menjadi integer"
   ]
  },
  {
   "cell_type": "code",
   "execution_count": 10,
   "id": "51dc83ab",
   "metadata": {},
   "outputs": [
    {
     "data": {
      "text/plain": [
       "int"
      ]
     },
     "execution_count": 10,
     "metadata": {},
     "output_type": "execute_result"
    }
   ],
   "source": [
    "type(int(2.1))#cek tipe data"
   ]
  },
  {
   "cell_type": "markdown",
   "id": "f358eeae",
   "metadata": {},
   "source": [
    "### Float"
   ]
  },
  {
   "cell_type": "markdown",
   "id": "a47ce5c7",
   "metadata": {},
   "source": [
    "Float termasuk dalam kategori Numerik yang terdiri dari seluruh bilangan desimal contoh: 0.25, -1.5, 9.3435.  Fungsi:`float()` digunakan untuk mengkonversi variabel menjadi float. Contoh float(3) →  3.0"
   ]
  },
  {
   "cell_type": "code",
   "execution_count": 17,
   "id": "5077fcc3",
   "metadata": {},
   "outputs": [],
   "source": [
    "float = -34.5"
   ]
  },
  {
   "cell_type": "code",
   "execution_count": 11,
   "id": "fb3d2cf8",
   "metadata": {},
   "outputs": [
    {
     "data": {
      "text/plain": [
       "3.0"
      ]
     },
     "execution_count": 11,
     "metadata": {},
     "output_type": "execute_result"
    }
   ],
   "source": [
    "float(3) #konversi 3 menjadi float"
   ]
  },
  {
   "cell_type": "code",
   "execution_count": 13,
   "id": "17858013",
   "metadata": {},
   "outputs": [
    {
     "data": {
      "text/plain": [
       "float"
      ]
     },
     "execution_count": 13,
     "metadata": {},
     "output_type": "execute_result"
    }
   ],
   "source": [
    "type(float(3)) #cek tipe data"
   ]
  },
  {
   "cell_type": "markdown",
   "id": "cbbbfc27",
   "metadata": {},
   "source": [
    "### Complex "
   ]
  },
  {
   "cell_type": "markdown",
   "id": "f755f824",
   "metadata": {},
   "source": [
    "Complex termasuk kedalam kategori numerik dengan kombinasi bilangan ril dan imajiner contoh: 9+21j, -3-9j, -72+81j "
   ]
  },
  {
   "cell_type": "code",
   "execution_count": 15,
   "id": "5aaf5c21",
   "metadata": {},
   "outputs": [],
   "source": [
    "com = 9+21j #buat variabel com yang berisi 9+21j"
   ]
  },
  {
   "cell_type": "code",
   "execution_count": 16,
   "id": "cee98a54",
   "metadata": {},
   "outputs": [
    {
     "data": {
      "text/plain": [
       "complex"
      ]
     },
     "execution_count": 16,
     "metadata": {},
     "output_type": "execute_result"
    }
   ],
   "source": [
    "type(com) #cek tipe data"
   ]
  },
  {
   "cell_type": "markdown",
   "id": "8cbb8dee",
   "metadata": {},
   "source": [
    "### Boolean "
   ]
  },
  {
   "cell_type": "markdown",
   "id": "df78ec3f",
   "metadata": {},
   "source": [
    "Boolean\t(Bool) adalah logical value yang hanya terdiri dari True dan False. Gunakan Fungsi: `bool()`. Contoh bool(1) maka akan keluar output True, bool(0)→ False"
   ]
  },
  {
   "cell_type": "code",
   "execution_count": 21,
   "id": "86a5a8ad",
   "metadata": {},
   "outputs": [
    {
     "data": {
      "text/plain": [
       "True"
      ]
     },
     "execution_count": 21,
     "metadata": {},
     "output_type": "execute_result"
    }
   ],
   "source": [
    "bool(1)"
   ]
  },
  {
   "cell_type": "code",
   "execution_count": 22,
   "id": "b423c7cb",
   "metadata": {},
   "outputs": [
    {
     "data": {
      "text/plain": [
       "False"
      ]
     },
     "execution_count": 22,
     "metadata": {},
     "output_type": "execute_result"
    }
   ],
   "source": [
    "bool(0)"
   ]
  },
  {
   "cell_type": "markdown",
   "id": "773cca36",
   "metadata": {},
   "source": [
    "### Dictonaries "
   ]
  },
  {
   "cell_type": "markdown",
   "id": "2bd35284",
   "metadata": {},
   "source": [
    "Dic (dictonaries) masuk k edalam kateori Map dan digunakan untuk menyimpan data value dalam `{key:nilai pasangannya}`."
   ]
  },
  {
   "cell_type": "code",
   "execution_count": 23,
   "id": "112e4479",
   "metadata": {},
   "outputs": [
    {
     "name": "stdout",
     "output_type": "stream",
     "text": [
      "{'brand': 'Ford', 'model': 'Mustang', 'year': 1964}\n"
     ]
    }
   ],
   "source": [
    "thisdict = {\n",
    "  \"brand\": \"Ford\",\n",
    "  \"model\": \"Mustang\",\n",
    "  \"year\": 1964\n",
    "}\n",
    "print(thisdict)"
   ]
  },
  {
   "cell_type": "code",
   "execution_count": 26,
   "id": "2eab9059",
   "metadata": {},
   "outputs": [
    {
     "name": "stdout",
     "output_type": "stream",
     "text": [
      "{'Indonesia': 'Jakarta', 'Thailan': 'Bangkok', 'Jepang': 'Tokyo'}\n"
     ]
    }
   ],
   "source": [
    "ibukota ={\n",
    "    \"Indonesia\": \"Jakarta\",\n",
    "    \"Thailan\": \"Bangkok\",\n",
    "    \"Jepang\": \"Tokyo\"\n",
    "}\n",
    "\n",
    "print(ibukota)"
   ]
  },
  {
   "cell_type": "code",
   "execution_count": 29,
   "id": "2f934238",
   "metadata": {
    "scrolled": true
   },
   "outputs": [
    {
     "name": "stdout",
     "output_type": "stream",
     "text": [
      "{'suhu': 30, 'salinitas': 32, 'kekeruhan': 20}\n"
     ]
    }
   ],
   "source": [
    "parameterfisika= {\n",
    "    \"suhu\": 30,\n",
    "    \"salinitas\": 32,\n",
    "    \"kekeruhan\": 20,\n",
    "}\n",
    "print(parameterfisika)"
   ]
  },
  {
   "cell_type": "code",
   "execution_count": 30,
   "id": "727a2b21",
   "metadata": {},
   "outputs": [
    {
     "data": {
      "text/plain": [
       "{'suhu': 30, 'salinitas': 32, 'kekeruhan': 20}"
      ]
     },
     "execution_count": 30,
     "metadata": {},
     "output_type": "execute_result"
    }
   ],
   "source": [
    "parameterfisika"
   ]
  },
  {
   "cell_type": "markdown",
   "id": "c4575e54",
   "metadata": {},
   "source": [
    "### String "
   ]
  },
  {
   "cell_type": "markdown",
   "id": "e2caf37f",
   "metadata": {},
   "source": [
    "str (string) termasuk kedalam kategori sequence, dan merupakan tipe data teks yang dapat berupa huruf, kata, frasa, kalimat atau paragraf yang diapit oleh `‘` atau `“`. String bersifat immutable (tidak dapat dimanipulasi). Contoh:  “a”; ‘b’; ‘saya’; “Belajar Python”; “Kita makan nasi goreng”"
   ]
  },
  {
   "cell_type": "code",
   "execution_count": 31,
   "id": "3b63de91",
   "metadata": {},
   "outputs": [],
   "source": [
    "string1= \"a\""
   ]
  },
  {
   "cell_type": "code",
   "execution_count": 32,
   "id": "efb39b8f",
   "metadata": {},
   "outputs": [],
   "source": [
    "string2=\"b\""
   ]
  },
  {
   "cell_type": "code",
   "execution_count": 33,
   "id": "6fbd6077",
   "metadata": {},
   "outputs": [],
   "source": [
    "string3= \"Belajar Python\""
   ]
  },
  {
   "cell_type": "code",
   "execution_count": 34,
   "id": "e404c4b3",
   "metadata": {},
   "outputs": [
    {
     "data": {
      "text/plain": [
       "'a'"
      ]
     },
     "execution_count": 34,
     "metadata": {},
     "output_type": "execute_result"
    }
   ],
   "source": [
    "string3[3]"
   ]
  },
  {
   "cell_type": "code",
   "execution_count": 37,
   "id": "940446ed",
   "metadata": {},
   "outputs": [
    {
     "ename": "TypeError",
     "evalue": "'str' object does not support item assignment",
     "output_type": "error",
     "traceback": [
      "\u001b[1;31m---------------------------------------------------------------------------\u001b[0m",
      "\u001b[1;31mTypeError\u001b[0m                                 Traceback (most recent call last)",
      "\u001b[1;32mC:\\Users\\EBCKOM~1\\AppData\\Local\\Temp/ipykernel_26148/1763937194.py\u001b[0m in \u001b[0;36m<module>\u001b[1;34m\u001b[0m\n\u001b[1;32m----> 1\u001b[1;33m \u001b[0mstring3\u001b[0m\u001b[1;33m[\u001b[0m\u001b[1;36m3\u001b[0m\u001b[1;33m]\u001b[0m\u001b[1;33m=\u001b[0m \u001b[1;34m\"u\"\u001b[0m\u001b[1;33m\u001b[0m\u001b[1;33m\u001b[0m\u001b[0m\n\u001b[0m",
      "\u001b[1;31mTypeError\u001b[0m: 'str' object does not support item assignment"
     ]
    }
   ],
   "source": [
    "string3[3]= \"u\" #error "
   ]
  },
  {
   "cell_type": "markdown",
   "id": "1d5a1e92",
   "metadata": {},
   "source": [
    "### List "
   ]
  },
  {
   "cell_type": "markdown",
   "id": "bcc746fa",
   "metadata": {},
   "source": [
    "List adalah urutan bilangan, logika dan atau teks (character) yang diapit oleh kurung siku dan masing-masing elemennya dipisahkan dengan koma. List bersifat mutable (dapat dimanipulasi) dan termasuk kedalam kategori sequence. Contoh: `x= [-9.52, None, True, 'saya']`"
   ]
  },
  {
   "cell_type": "code",
   "execution_count": 39,
   "id": "58d6dc0e",
   "metadata": {},
   "outputs": [],
   "source": [
    "List1 = [-9.52, None, True, 'saya']"
   ]
  },
  {
   "cell_type": "code",
   "execution_count": 40,
   "id": "f75bec41",
   "metadata": {
    "scrolled": true
   },
   "outputs": [
    {
     "data": {
      "text/plain": [
       "'saya'"
      ]
     },
     "execution_count": 40,
     "metadata": {},
     "output_type": "execute_result"
    }
   ],
   "source": [
    "List1[3]"
   ]
  },
  {
   "cell_type": "code",
   "execution_count": 41,
   "id": "775dc05c",
   "metadata": {},
   "outputs": [],
   "source": [
    "List1[3]='kamu'"
   ]
  },
  {
   "cell_type": "code",
   "execution_count": 43,
   "id": "34ed5e26",
   "metadata": {
    "scrolled": true
   },
   "outputs": [
    {
     "data": {
      "text/plain": [
       "[-9.52, None, True, 'kamu']"
      ]
     },
     "execution_count": 43,
     "metadata": {},
     "output_type": "execute_result"
    }
   ],
   "source": [
    "List1"
   ]
  },
  {
   "cell_type": "markdown",
   "id": "3daf24e8",
   "metadata": {},
   "source": [
    "### Tuple "
   ]
  },
  {
   "cell_type": "markdown",
   "id": "2a68c084",
   "metadata": {},
   "source": [
    "Tuple adalah Urutan bilangan dan teks yang diapit oleh kurung biasa `( )` dan masing-masing elemennya dipisahkan dengan koma `,`. Tuple bersifat immutable dan termasuk kedalam kategori sequence. contoh: `y = (-9.52, None, True, 'saya')`"
   ]
  },
  {
   "cell_type": "code",
   "execution_count": 54,
   "id": "4e8f3e68",
   "metadata": {},
   "outputs": [],
   "source": [
    "Tuple= (5,2,9,7,5,8,1,4,3)"
   ]
  },
  {
   "cell_type": "code",
   "execution_count": 55,
   "id": "6c6fa3f0",
   "metadata": {},
   "outputs": [
    {
     "name": "stdout",
     "output_type": "stream",
     "text": [
      "(5, 2, 9, 7, 5, 8, 1, 4, 3)\n"
     ]
    }
   ],
   "source": [
    "print(Tuple)"
   ]
  },
  {
   "cell_type": "code",
   "execution_count": 57,
   "id": "c8ae83c5",
   "metadata": {},
   "outputs": [
    {
     "ename": "SyntaxError",
     "evalue": "cannot assign to function call (Temp/ipykernel_26148/2008817913.py, line 1)",
     "output_type": "error",
     "traceback": [
      "\u001b[1;36m  File \u001b[1;32m\"C:\\Users\\EBCKOM~1\\AppData\\Local\\Temp/ipykernel_26148/2008817913.py\"\u001b[1;36m, line \u001b[1;32m1\u001b[0m\n\u001b[1;33m    Tuple(0)=3\u001b[0m\n\u001b[1;37m    ^\u001b[0m\n\u001b[1;31mSyntaxError\u001b[0m\u001b[1;31m:\u001b[0m cannot assign to function call\n"
     ]
    }
   ],
   "source": [
    "Tuple(0)=3"
   ]
  },
  {
   "cell_type": "markdown",
   "id": "474b67b2",
   "metadata": {},
   "source": [
    "### Set "
   ]
  },
  {
   "cell_type": "markdown",
   "id": "5e4270f3",
   "metadata": {},
   "source": [
    "Set\tadalah urutan bilangan dan teks yang diapit oleh kurung kurawal dan masing-masing elemennya dipisahkan dengan koma. Setiap elemennya bernilai unik. Contoh: `{1, 4, 4, 3} → {1, 3, 4}`"
   ]
  },
  {
   "cell_type": "code",
   "execution_count": 58,
   "id": "80f10910",
   "metadata": {},
   "outputs": [],
   "source": [
    "Set = {1, 4, 4, 3} #buat variabel set"
   ]
  },
  {
   "cell_type": "code",
   "execution_count": 60,
   "id": "d9a37f66",
   "metadata": {},
   "outputs": [
    {
     "data": {
      "text/plain": [
       "{1, 3, 4}"
      ]
     },
     "execution_count": 60,
     "metadata": {},
     "output_type": "execute_result"
    }
   ],
   "source": [
    "Set #tampilkan variabel set"
   ]
  },
  {
   "cell_type": "markdown",
   "id": "305a6b1f",
   "metadata": {},
   "source": [
    "### 2. Struktur Data"
   ]
  },
  {
   "attachments": {
    "image_2023-01-23_182710844.png": {
     "image/png": "[encoded data removed]"
    }
   },
   "cell_type": "markdown",
   "id": "133dfc60",
   "metadata": {},
   "source": [
    "![image_2023-01-23_182710844.png](attachment:image_2023-01-23_182710844.png)\n"
   ]
  },
  {
   "attachments": {
    "image_2023-01-23_183225848.png": {
     "image/png": "[encoded data removed]"
    }
   },
   "cell_type": "markdown",
   "id": "66821a5b",
   "metadata": {},
   "source": [
    "![image_2023-01-23_183225848.png](attachment:image_2023-01-23_183225848.png)"
   ]
  },
  {
   "attachments": {
    "image_2023-01-23_183410617.png": {
     "image/png": "[encoded data removed]"
    }
   },
   "cell_type": "markdown",
   "id": "27aebaf7",
   "metadata": {},
   "source": [
    "![image_2023-01-23_183410617.png](attachment:image_2023-01-23_183410617.png)"
   ]
  },
  {
   "cell_type": "markdown",
   "id": "a9ac1110",
   "metadata": {},
   "source": [
    "### 3. Indexing dan Slicing\n",
    "Indexing adalah in-built python, fungsi `index()` digunakan utk mengetahui posisi elemen di variabel."
   ]
  },
  {
   "attachments": {
    "image_2023-01-23_183042682.png": {
     "image/png": "[encoded data removed]"
    }
   },
   "cell_type": "markdown",
   "id": "5ceb693d",
   "metadata": {},
   "source": [
    "![image_2023-01-23_183042682.png](attachment:image_2023-01-23_183042682.png)"
   ]
  },
  {
   "cell_type": "code",
   "execution_count": 1,
   "id": "a122d5ad",
   "metadata": {},
   "outputs": [],
   "source": [
    "#input data\n",
    "Data = [11, 23, 56, 73, 81]"
   ]
  },
  {
   "cell_type": "code",
   "execution_count": 2,
   "id": "5071c4f1",
   "metadata": {},
   "outputs": [
    {
     "data": {
      "text/plain": [
       "0"
      ]
     },
     "execution_count": 2,
     "metadata": {},
     "output_type": "execute_result"
    }
   ],
   "source": [
    "#tampilkan index dari 11\n",
    "Data.index(11)  "
   ]
  },
  {
   "cell_type": "code",
   "execution_count": 3,
   "id": "fce2457a",
   "metadata": {},
   "outputs": [
    {
     "data": {
      "text/plain": [
       "3"
      ]
     },
     "execution_count": 3,
     "metadata": {},
     "output_type": "execute_result"
    }
   ],
   "source": [
    "#tampilkan index dari angka 73\n",
    "Data.index(73) "
   ]
  },
  {
   "cell_type": "code",
   "execution_count": 4,
   "id": "b6d151dd",
   "metadata": {},
   "outputs": [],
   "source": [
    "#input variabel kata dengan Bangkalan\n",
    "kata = \"Bangkalan\""
   ]
  },
  {
   "cell_type": "code",
   "execution_count": 7,
   "id": "8b59a3d1",
   "metadata": {},
   "outputs": [
    {
     "data": {
      "text/plain": [
       "3"
      ]
     },
     "execution_count": 7,
     "metadata": {},
     "output_type": "execute_result"
    }
   ],
   "source": [
    "kata.index(\"g\") #tampilkan indeks dari g"
   ]
  },
  {
   "cell_type": "code",
   "execution_count": 8,
   "id": "15ea213a",
   "metadata": {},
   "outputs": [
    {
     "data": {
      "text/plain": [
       "1"
      ]
     },
     "execution_count": 8,
     "metadata": {},
     "output_type": "execute_result"
    }
   ],
   "source": [
    "kata.index(\"a\") #tampilkan indeks a (yang terbaca adalah indeks yg paling depan)"
   ]
  },
  {
   "cell_type": "markdown",
   "id": "83247117",
   "metadata": {},
   "source": [
    "**Untuk mengetahui nilai atau elemen pada suatu indeks maka menggunakan [ ]**"
   ]
  },
  {
   "cell_type": "code",
   "execution_count": 19,
   "id": "9d6f1d40",
   "metadata": {},
   "outputs": [],
   "source": [
    "Data = [11, 23, 56, 73, 81]"
   ]
  },
  {
   "cell_type": "code",
   "execution_count": 20,
   "id": "44dedec1",
   "metadata": {
    "scrolled": true
   },
   "outputs": [
    {
     "data": {
      "text/plain": [
       "11"
      ]
     },
     "execution_count": 20,
     "metadata": {},
     "output_type": "execute_result"
    }
   ],
   "source": [
    "Data[0] #tampilkan data indeks ke 0"
   ]
  },
  {
   "cell_type": "code",
   "execution_count": 10,
   "id": "c4ec236b",
   "metadata": {},
   "outputs": [
    {
     "data": {
      "text/plain": [
       "81"
      ]
     },
     "execution_count": 10,
     "metadata": {},
     "output_type": "execute_result"
    }
   ],
   "source": [
    "Data[4] #tampilkan data indeks ke 4"
   ]
  },
  {
   "cell_type": "code",
   "execution_count": null,
   "id": "68b12399",
   "metadata": {},
   "outputs": [],
   "source": [
    "kata = \"Bangkalan\""
   ]
  },
  {
   "cell_type": "code",
   "execution_count": 11,
   "id": "1e80d7e4",
   "metadata": {},
   "outputs": [
    {
     "data": {
      "text/plain": [
       "'a'"
      ]
     },
     "execution_count": 11,
     "metadata": {},
     "output_type": "execute_result"
    }
   ],
   "source": [
    "kata[1] #tampilkan data indeks ke 1"
   ]
  },
  {
   "cell_type": "code",
   "execution_count": 14,
   "id": "93b0a6a6",
   "metadata": {},
   "outputs": [
    {
     "data": {
      "text/plain": [
       "'l'"
      ]
     },
     "execution_count": 14,
     "metadata": {},
     "output_type": "execute_result"
    }
   ],
   "source": [
    "kata[6] #tampilkan data indeks ke 6"
   ]
  },
  {
   "cell_type": "markdown",
   "id": "4a397128",
   "metadata": {},
   "source": [
    "**[:end] --> slicing sequence dari awal data hingga sebelum index `end`**"
   ]
  },
  {
   "cell_type": "code",
   "execution_count": null,
   "id": "25e8dcdc",
   "metadata": {},
   "outputs": [],
   "source": [
    "Data = [11, 23, 56, 73, 81]"
   ]
  },
  {
   "cell_type": "code",
   "execution_count": 15,
   "id": "04c13d93",
   "metadata": {},
   "outputs": [
    {
     "data": {
      "text/plain": [
       "[11, 23, 56]"
      ]
     },
     "execution_count": 15,
     "metadata": {},
     "output_type": "execute_result"
    }
   ],
   "source": [
    "Data[:3] #tampilkan data dari indeks 0 hingga 2"
   ]
  },
  {
   "cell_type": "code",
   "execution_count": 16,
   "id": "d331a261",
   "metadata": {},
   "outputs": [
    {
     "data": {
      "text/plain": [
       "[11, 23, 56, 73]"
      ]
     },
     "execution_count": 16,
     "metadata": {},
     "output_type": "execute_result"
    }
   ],
   "source": [
    "Data[:4] #tampilkan data dari indeks 0 hingga 3"
   ]
  },
  {
   "cell_type": "markdown",
   "id": "95eca17c",
   "metadata": {},
   "source": [
    "Dalam indexing python utk nilai negatif (-) digunakan untuk indexing yang dihitung dari akhir data. Berbeda dengan angka positif, indexing angka negatif dan dimulai dari 1 bukan 0."
   ]
  },
  {
   "cell_type": "code",
   "execution_count": null,
   "id": "460854c2",
   "metadata": {},
   "outputs": [],
   "source": [
    "Data = [11, 23, 56, 73, 81]"
   ]
  },
  {
   "cell_type": "code",
   "execution_count": 25,
   "id": "1982bf6c",
   "metadata": {},
   "outputs": [
    {
     "data": {
      "text/plain": [
       "[11, 23, 56, 73]"
      ]
     },
     "execution_count": 25,
     "metadata": {},
     "output_type": "execute_result"
    }
   ],
   "source": [
    "Data[:-1] #tampilkan data hingga indeks 1 dari akhir data"
   ]
  },
  {
   "cell_type": "code",
   "execution_count": 27,
   "id": "ed023de2",
   "metadata": {},
   "outputs": [
    {
     "data": {
      "text/plain": [
       "[11, 23]"
      ]
     },
     "execution_count": 27,
     "metadata": {},
     "output_type": "execute_result"
    }
   ],
   "source": [
    "Data[:-3] #tampilkan data hingga indeks 3 dari akhir data"
   ]
  },
  {
   "cell_type": "code",
   "execution_count": 28,
   "id": "5c9e1370",
   "metadata": {},
   "outputs": [
    {
     "data": {
      "text/plain": [
       "[]"
      ]
     },
     "execution_count": 28,
     "metadata": {},
     "output_type": "execute_result"
    }
   ],
   "source": [
    "Data[:0]"
   ]
  },
  {
   "cell_type": "markdown",
   "id": "10f961e5",
   "metadata": {},
   "source": [
    "**[start:] --> slicing sequence dari indeks `start` hingga terakhir**"
   ]
  },
  {
   "cell_type": "code",
   "execution_count": null,
   "id": "cc8e0828",
   "metadata": {},
   "outputs": [],
   "source": [
    "Data = [11, 23, 56, 73, 81]"
   ]
  },
  {
   "cell_type": "code",
   "execution_count": 18,
   "id": "a2116ab9",
   "metadata": {},
   "outputs": [
    {
     "data": {
      "text/plain": [
       "[56, 73, 81]"
      ]
     },
     "execution_count": 18,
     "metadata": {},
     "output_type": "execute_result"
    }
   ],
   "source": [
    "Data[2:] #tampilkan data dari indeks ke 2 hingga terakhir"
   ]
  },
  {
   "cell_type": "code",
   "execution_count": 30,
   "id": "1bfcd09c",
   "metadata": {},
   "outputs": [
    {
     "data": {
      "text/plain": [
       "[81]"
      ]
     },
     "execution_count": 30,
     "metadata": {},
     "output_type": "execute_result"
    }
   ],
   "source": [
    "Data[4:] #tampilkan data dari indeks ke 4 hingga terakhir"
   ]
  },
  {
   "cell_type": "code",
   "execution_count": 29,
   "id": "7aee2584",
   "metadata": {},
   "outputs": [
    {
     "data": {
      "text/plain": [
       "[56, 73, 81]"
      ]
     },
     "execution_count": 29,
     "metadata": {},
     "output_type": "execute_result"
    }
   ],
   "source": [
    "Data[-3:] #tampilkan data dari indeks ke 3 (dr belakang) hingga terakhir"
   ]
  },
  {
   "cell_type": "markdown",
   "id": "a9e76c11",
   "metadata": {},
   "source": [
    "**[start:end] --> slicing sequence dari indeks `start` hingga indeks sebelum`end`**"
   ]
  },
  {
   "cell_type": "code",
   "execution_count": null,
   "id": "251baf80",
   "metadata": {},
   "outputs": [],
   "source": [
    "Data = [11, 23, 56, 73, 81]"
   ]
  },
  {
   "cell_type": "code",
   "execution_count": 22,
   "id": "8b8bf155",
   "metadata": {},
   "outputs": [
    {
     "data": {
      "text/plain": [
       "[11, 23, 56]"
      ]
     },
     "execution_count": 22,
     "metadata": {},
     "output_type": "execute_result"
    }
   ],
   "source": [
    "Data[0:3] #tampilkan data indeks ke 0 hingga 2"
   ]
  },
  {
   "cell_type": "code",
   "execution_count": 24,
   "id": "76f67c01",
   "metadata": {},
   "outputs": [
    {
     "data": {
      "text/plain": [
       "[23, 56, 73]"
      ]
     },
     "execution_count": 24,
     "metadata": {},
     "output_type": "execute_result"
    }
   ],
   "source": [
    "Data[1:4] #tampilkan data indeks ke 1 hingga 3"
   ]
  },
  {
   "cell_type": "code",
   "execution_count": 20,
   "id": "5189b86b",
   "metadata": {},
   "outputs": [
    {
     "data": {
      "text/plain": [
       "[11, 56, 81]"
      ]
     },
     "execution_count": 20,
     "metadata": {},
     "output_type": "execute_result"
    }
   ],
   "source": [
    "Data[0:5:2] #tampilkan data indeks 0 hingga 4, dengan nilai langkah 2"
   ]
  },
  {
   "cell_type": "code",
   "execution_count": 21,
   "id": "f2ba18a1",
   "metadata": {},
   "outputs": [
    {
     "data": {
      "text/plain": [
       "[11, 73]"
      ]
     },
     "execution_count": 21,
     "metadata": {},
     "output_type": "execute_result"
    }
   ],
   "source": [
    "Data[0:5:3] #tampilkan data indeks 0 hingga 4, dengan nilai langkah 3"
   ]
  },
  {
   "cell_type": "code",
   "execution_count": 34,
   "id": "acf7a67b",
   "metadata": {},
   "outputs": [
    {
     "data": {
      "text/plain": [
       "[81, 73, 56, 23]"
      ]
     },
     "execution_count": 34,
     "metadata": {},
     "output_type": "execute_result"
    }
   ],
   "source": [
    "Data[5:0:-1] #tampilkan data 4 hingga 0, dengan nilai langkah -1"
   ]
  },
  {
   "cell_type": "markdown",
   "id": "06f7f363",
   "metadata": {},
   "source": [
    "### 4. Library\n",
    "import library"
   ]
  },
  {
   "attachments": {
    "image_2023-01-21_111219595.png": {
     "image/png": "[encoded data removed]"
    }
   },
   "cell_type": "markdown",
   "id": "3e5125ee",
   "metadata": {},
   "source": [
    "![image_2023-01-21_111219595.png](attachment:image_2023-01-21_111219595.png)\n",
    "Pandas adalah library python open source yang biasanya digunakan untuk kebutuhan data analisis. Pandas membuat Python supaya dapat bekerja dengan data yang berbentuk tabular seperti spreadsheet dengan cara pemuatan data yang cepat, manipulasi data, menggabungkan data, serta ada berbagai fungsi yang lain. Selain itu, pandas juga menyediakan fungsi untuk membasa beberapa format data seperti `.xlsx, csv, txt,` dll. Penggunaan pandas dapat dilakukan dengan cara intsall terlebih dahulu pada python dengan menggunakan `pip`. Instalasi hanya dilakukan 1 kali saja."
   ]
  },
  {
   "cell_type": "code",
   "execution_count": 2,
   "id": "5e6899bd",
   "metadata": {},
   "outputs": [],
   "source": [
    "import pandas as pd"
   ]
  },
  {
   "cell_type": "code",
   "execution_count": 62,
   "id": "d1d7f327",
   "metadata": {},
   "outputs": [],
   "source": [
    "#input data suhu, salinitas dan DO\n",
    "data = {'Suhu': [31,33,30,31,29],\n",
    "        'Salinitas' : [28,27,30,32,30],\n",
    "        'DO': [5.2,6,7.2,4.8,6.3]}"
   ]
  },
  {
   "cell_type": "code",
   "execution_count": 63,
   "id": "c4beb7a4",
   "metadata": {},
   "outputs": [
    {
     "name": "stdout",
     "output_type": "stream",
     "text": [
      "{'Suhu': [31, 33, 30, 31, 29], 'Salinitas': [28, 27, 30, 32, 30], 'DO': [5.2, 6, 7.2, 4.8, 6.3]}\n"
     ]
    }
   ],
   "source": [
    "#print data\n",
    "print(data)"
   ]
  },
  {
   "cell_type": "code",
   "execution_count": 64,
   "id": "89651690",
   "metadata": {},
   "outputs": [
    {
     "data": {
      "text/plain": [
       "dict"
      ]
     },
     "execution_count": 64,
     "metadata": {},
     "output_type": "execute_result"
    }
   ],
   "source": [
    "#memeriksa tipe data\n",
    "type(data)"
   ]
  },
  {
   "cell_type": "code",
   "execution_count": 65,
   "id": "5c7a5f93",
   "metadata": {},
   "outputs": [],
   "source": [
    "#konversi data menjadi data frame pada variabel df\n",
    "df = pd.DataFrame(data)"
   ]
  },
  {
   "cell_type": "code",
   "execution_count": 66,
   "id": "28ca81d5",
   "metadata": {},
   "outputs": [
    {
     "data": {
      "text/plain": [
       "pandas.core.frame.DataFrame"
      ]
     },
     "execution_count": 66,
     "metadata": {},
     "output_type": "execute_result"
    }
   ],
   "source": [
    "#memeriksa tipe data df\n",
    "type(df)"
   ]
  },
  {
   "cell_type": "code",
   "execution_count": 67,
   "id": "8d4b3f5c",
   "metadata": {},
   "outputs": [
    {
     "data": {
      "text/html": [
       "<div>\n",
       "<style scoped>\n",
       "    .dataframe tbody tr th:only-of-type {\n",
       "        vertical-align: middle;\n",
       "    }\n",
       "\n",
       "    .dataframe tbody tr th {\n",
       "        vertical-align: top;\n",
       "    }\n",
       "\n",
       "    .dataframe thead th {\n",
       "        text-align: right;\n",
       "    }\n",
       "</style>\n",
       "<table border=\"1\" class=\"dataframe\">\n",
       "  <thead>\n",
       "    <tr style=\"text-align: right;\">\n",
       "      <th></th>\n",
       "      <th>Suhu</th>\n",
       "      <th>Salinitas</th>\n",
       "      <th>DO</th>\n",
       "    </tr>\n",
       "  </thead>\n",
       "  <tbody>\n",
       "    <tr>\n",
       "      <th>0</th>\n",
       "      <td>31</td>\n",
       "      <td>28</td>\n",
       "      <td>5.2</td>\n",
       "    </tr>\n",
       "    <tr>\n",
       "      <th>1</th>\n",
       "      <td>33</td>\n",
       "      <td>27</td>\n",
       "      <td>6.0</td>\n",
       "    </tr>\n",
       "    <tr>\n",
       "      <th>2</th>\n",
       "      <td>30</td>\n",
       "      <td>30</td>\n",
       "      <td>7.2</td>\n",
       "    </tr>\n",
       "    <tr>\n",
       "      <th>3</th>\n",
       "      <td>31</td>\n",
       "      <td>32</td>\n",
       "      <td>4.8</td>\n",
       "    </tr>\n",
       "    <tr>\n",
       "      <th>4</th>\n",
       "      <td>29</td>\n",
       "      <td>30</td>\n",
       "      <td>6.3</td>\n",
       "    </tr>\n",
       "  </tbody>\n",
       "</table>\n",
       "</div>"
      ],
      "text/plain": [
       "   Suhu  Salinitas   DO\n",
       "0    31         28  5.2\n",
       "1    33         27  6.0\n",
       "2    30         30  7.2\n",
       "3    31         32  4.8\n",
       "4    29         30  6.3"
      ]
     },
     "execution_count": 67,
     "metadata": {},
     "output_type": "execute_result"
    }
   ],
   "source": [
    "#tampilkan data df\n",
    "df"
   ]
  },
  {
   "cell_type": "markdown",
   "id": "4db7979e",
   "metadata": {},
   "source": [
    "#### Menympan data frame ke dalam bentuk csv "
   ]
  },
  {
   "attachments": {
    "image_2023-01-23_115623218.png": {
     "image/png": "[encoded data removed]"
    }
   },
   "cell_type": "markdown",
   "id": "e1cca632",
   "metadata": {},
   "source": [
    "![image_2023-01-23_115623218.png](attachment:image_2023-01-23_115623218.png)"
   ]
  },
  {
   "cell_type": "code",
   "execution_count": 69,
   "id": "ec0dea5c",
   "metadata": {},
   "outputs": [],
   "source": [
    "df.to_csv('dataframe.csv') #tersimpan default di dalam directory python "
   ]
  },
  {
   "cell_type": "code",
   "execution_count": 72,
   "id": "26ddd024",
   "metadata": {},
   "outputs": [],
   "source": [
    "df.to_csv('D:/Documents/My Job/KOMUNITAS OCY/dataframe.csv') #simpan di path yang diinginkan `\\` diganti `/`"
   ]
  },
  {
   "cell_type": "markdown",
   "id": "acc5ba6a",
   "metadata": {},
   "source": [
    "#### Menyimpan data frame ke dalam bentuk xlsx "
   ]
  },
  {
   "attachments": {
    "image_2023-01-23_184911904.png": {
     "image/png": "[encoded data removed]"
    }
   },
   "cell_type": "markdown",
   "id": "4243ae59",
   "metadata": {},
   "source": [
    "![image_2023-01-23_184911904.png](attachment:image_2023-01-23_184911904.png)"
   ]
  },
  {
   "cell_type": "code",
   "execution_count": 74,
   "id": "5c6e3e3b",
   "metadata": {},
   "outputs": [],
   "source": [
    "df.to_excel('D:/Documents/My Job/KOMUNITAS OCY/dataframe_excel.xlsx', sheet_name='contoh_1')"
   ]
  },
  {
   "cell_type": "markdown",
   "id": "64f41445",
   "metadata": {},
   "source": [
    "#### Import xlsx atau spreadsheet ke python"
   ]
  },
  {
   "cell_type": "code",
   "execution_count": 3,
   "id": "b37348db",
   "metadata": {},
   "outputs": [],
   "source": [
    "data_kualitas_air = pd.read_excel('Kualitas_Air.xlsx', sheet_name='Sheet1')"
   ]
  },
  {
   "cell_type": "code",
   "execution_count": 76,
   "id": "72c6f58b",
   "metadata": {},
   "outputs": [
    {
     "data": {
      "text/plain": [
       "DO             4.575000\n",
       "PH             7.480000\n",
       "Salinitas     20.567347\n",
       "Kecerahan      5.948980\n",
       "Klorofil      19.166786\n",
       "Ammonia      165.388745\n",
       "Ammonium     835.771698\n",
       "Nitrat        12.613499\n",
       "Nitrit        23.461347\n",
       "dtype: float64"
      ]
     },
     "execution_count": 76,
     "metadata": {},
     "output_type": "execute_result"
    }
   ],
   "source": [
    "data_kualitas_air.mean() #cek mean float 64 artinya data float dengan 64 bit"
   ]
  },
  {
   "cell_type": "code",
   "execution_count": 77,
   "id": "be1e07ad",
   "metadata": {},
   "outputs": [
    {
     "data": {
      "text/plain": [
       "DO           14\n",
       "PH           14\n",
       "Salinitas    14\n",
       "Kecerahan    14\n",
       "Klorofil     14\n",
       "Ammonia      14\n",
       "Ammonium     14\n",
       "Nitrat       14\n",
       "Nitrit       14\n",
       "dtype: int64"
      ]
     },
     "execution_count": 77,
     "metadata": {},
     "output_type": "execute_result"
    }
   ],
   "source": [
    "data_kualitas_air.count()"
   ]
  },
  {
   "cell_type": "code",
   "execution_count": 28,
   "id": "41dfd476",
   "metadata": {},
   "outputs": [
    {
     "data": {
      "text/plain": [
       "DO             4.240000\n",
       "PH             7.520000\n",
       "Salinitas     20.380952\n",
       "Kecerahan      5.500000\n",
       "Klorofil      19.357500\n",
       "Ammonia      176.821678\n",
       "Ammonium     828.456208\n",
       "Nitrat        13.280085\n",
       "Nitrit        23.463288\n",
       "dtype: float64"
      ]
     },
     "execution_count": 28,
     "metadata": {},
     "output_type": "execute_result"
    }
   ],
   "source": [
    "#median\n",
    "data_kualitas_air.median()"
   ]
  },
  {
   "cell_type": "code",
   "execution_count": 30,
   "id": "e0547687",
   "metadata": {},
   "outputs": [
    {
     "data": {
      "text/plain": [
       "DO            1.929299\n",
       "PH            0.286732\n",
       "Salinitas     0.567037\n",
       "Kecerahan     1.787749\n",
       "Klorofil     13.804454\n",
       "Ammonia      54.125172\n",
       "Ammonium     25.395839\n",
       "Nitrat        7.111190\n",
       "Nitrit        0.426024\n",
       "dtype: float64"
      ]
     },
     "execution_count": 30,
     "metadata": {},
     "output_type": "execute_result"
    }
   ],
   "source": [
    "#standar deviasi\n",
    "data_kualitas_air.std()"
   ]
  },
  {
   "cell_type": "code",
   "execution_count": 47,
   "id": "6dde56a4",
   "metadata": {},
   "outputs": [
    {
     "data": {
      "text/html": [
       "<div>\n",
       "<style scoped>\n",
       "    .dataframe tbody tr th:only-of-type {\n",
       "        vertical-align: middle;\n",
       "    }\n",
       "\n",
       "    .dataframe tbody tr th {\n",
       "        vertical-align: top;\n",
       "    }\n",
       "\n",
       "    .dataframe thead th {\n",
       "        text-align: right;\n",
       "    }\n",
       "</style>\n",
       "<table border=\"1\" class=\"dataframe\">\n",
       "  <thead>\n",
       "    <tr style=\"text-align: right;\">\n",
       "      <th></th>\n",
       "      <th>DO</th>\n",
       "      <th>PH</th>\n",
       "      <th>Salinitas</th>\n",
       "      <th>Kecerahan</th>\n",
       "      <th>Klorofil</th>\n",
       "      <th>Ammonia</th>\n",
       "      <th>Ammonium</th>\n",
       "      <th>Nitrat</th>\n",
       "      <th>Nitrit</th>\n",
       "    </tr>\n",
       "  </thead>\n",
       "  <tbody>\n",
       "    <tr>\n",
       "      <th>0</th>\n",
       "      <td>4.40</td>\n",
       "      <td>7.60</td>\n",
       "      <td>20.000000</td>\n",
       "      <td>7.000000</td>\n",
       "      <td>26.700</td>\n",
       "      <td>135.294463</td>\n",
       "      <td>841.352550</td>\n",
       "      <td>29.078347</td>\n",
       "      <td>23.062711</td>\n",
       "    </tr>\n",
       "    <tr>\n",
       "      <th>1</th>\n",
       "      <td>4.40</td>\n",
       "      <td>7.60</td>\n",
       "      <td>22.000000</td>\n",
       "      <td>7.000000</td>\n",
       "      <td>13.350</td>\n",
       "      <td>79.320063</td>\n",
       "      <td>878.159645</td>\n",
       "      <td>15.497162</td>\n",
       "      <td>23.127921</td>\n",
       "    </tr>\n",
       "    <tr>\n",
       "      <th>2</th>\n",
       "      <td>3.20</td>\n",
       "      <td>7.52</td>\n",
       "      <td>21.000000</td>\n",
       "      <td>5.500000</td>\n",
       "      <td>2.670</td>\n",
       "      <td>79.284834</td>\n",
       "      <td>892.572062</td>\n",
       "      <td>8.612223</td>\n",
       "      <td>23.019237</td>\n",
       "    </tr>\n",
       "    <tr>\n",
       "      <th>3</th>\n",
       "      <td>3.20</td>\n",
       "      <td>7.52</td>\n",
       "      <td>21.000000</td>\n",
       "      <td>5.500000</td>\n",
       "      <td>2.670</td>\n",
       "      <td>110.187306</td>\n",
       "      <td>804.157428</td>\n",
       "      <td>1.715993</td>\n",
       "      <td>23.345289</td>\n",
       "    </tr>\n",
       "    <tr>\n",
       "      <th>4</th>\n",
       "      <td>3.30</td>\n",
       "      <td>7.50</td>\n",
       "      <td>20.000000</td>\n",
       "      <td>9.500000</td>\n",
       "      <td>5.340</td>\n",
       "      <td>171.992249</td>\n",
       "      <td>847.283814</td>\n",
       "      <td>0.653174</td>\n",
       "      <td>22.997500</td>\n",
       "    </tr>\n",
       "    <tr>\n",
       "      <th>5</th>\n",
       "      <td>2.35</td>\n",
       "      <td>6.90</td>\n",
       "      <td>21.000000</td>\n",
       "      <td>9.500000</td>\n",
       "      <td>2.670</td>\n",
       "      <td>121.777934</td>\n",
       "      <td>846.840355</td>\n",
       "      <td>18.482410</td>\n",
       "      <td>22.975764</td>\n",
       "    </tr>\n",
       "    <tr>\n",
       "      <th>6</th>\n",
       "      <td>2.32</td>\n",
       "      <td>7.42</td>\n",
       "      <td>20.000000</td>\n",
       "      <td>3.000000</td>\n",
       "      <td>8.010</td>\n",
       "      <td>150.748635</td>\n",
       "      <td>812.084257</td>\n",
       "      <td>6.193059</td>\n",
       "      <td>23.019237</td>\n",
       "    </tr>\n",
       "    <tr>\n",
       "      <th>7</th>\n",
       "      <td>3.20</td>\n",
       "      <td>7.52</td>\n",
       "      <td>21.000000</td>\n",
       "      <td>5.500000</td>\n",
       "      <td>18.690</td>\n",
       "      <td>181.651107</td>\n",
       "      <td>847.727273</td>\n",
       "      <td>16.676101</td>\n",
       "      <td>24.084339</td>\n",
       "    </tr>\n",
       "    <tr>\n",
       "      <th>8</th>\n",
       "      <td>4.08</td>\n",
       "      <td>7.90</td>\n",
       "      <td>20.466667</td>\n",
       "      <td>5.666667</td>\n",
       "      <td>20.025</td>\n",
       "      <td>183.776643</td>\n",
       "      <td>830.127494</td>\n",
       "      <td>11.899290</td>\n",
       "      <td>23.581288</td>\n",
       "    </tr>\n",
       "    <tr>\n",
       "      <th>9</th>\n",
       "      <td>4.96</td>\n",
       "      <td>7.50</td>\n",
       "      <td>20.409524</td>\n",
       "      <td>5.452381</td>\n",
       "      <td>24.564</td>\n",
       "      <td>195.945041</td>\n",
       "      <td>826.784922</td>\n",
       "      <td>12.451608</td>\n",
       "      <td>23.670564</td>\n",
       "    </tr>\n",
       "    <tr>\n",
       "      <th>10</th>\n",
       "      <td>5.84</td>\n",
       "      <td>6.90</td>\n",
       "      <td>20.352381</td>\n",
       "      <td>5.238095</td>\n",
       "      <td>29.103</td>\n",
       "      <td>208.113440</td>\n",
       "      <td>823.442350</td>\n",
       "      <td>13.003926</td>\n",
       "      <td>23.759840</td>\n",
       "    </tr>\n",
       "    <tr>\n",
       "      <th>11</th>\n",
       "      <td>6.72</td>\n",
       "      <td>7.42</td>\n",
       "      <td>20.295238</td>\n",
       "      <td>5.023810</td>\n",
       "      <td>33.642</td>\n",
       "      <td>220.281839</td>\n",
       "      <td>820.099778</td>\n",
       "      <td>13.556244</td>\n",
       "      <td>23.849116</td>\n",
       "    </tr>\n",
       "    <tr>\n",
       "      <th>12</th>\n",
       "      <td>7.60</td>\n",
       "      <td>7.52</td>\n",
       "      <td>20.238095</td>\n",
       "      <td>4.809524</td>\n",
       "      <td>38.181</td>\n",
       "      <td>232.450238</td>\n",
       "      <td>816.757206</td>\n",
       "      <td>14.108562</td>\n",
       "      <td>23.938392</td>\n",
       "    </tr>\n",
       "    <tr>\n",
       "      <th>13</th>\n",
       "      <td>8.48</td>\n",
       "      <td>7.90</td>\n",
       "      <td>20.180952</td>\n",
       "      <td>4.595238</td>\n",
       "      <td>42.720</td>\n",
       "      <td>244.618637</td>\n",
       "      <td>813.414634</td>\n",
       "      <td>14.660880</td>\n",
       "      <td>24.027668</td>\n",
       "    </tr>\n",
       "  </tbody>\n",
       "</table>\n",
       "</div>"
      ],
      "text/plain": [
       "      DO    PH  Salinitas  Kecerahan  Klorofil     Ammonia    Ammonium  \\\n",
       "0   4.40  7.60  20.000000   7.000000    26.700  135.294463  841.352550   \n",
       "1   4.40  7.60  22.000000   7.000000    13.350   79.320063  878.159645   \n",
       "2   3.20  7.52  21.000000   5.500000     2.670   79.284834  892.572062   \n",
       "3   3.20  7.52  21.000000   5.500000     2.670  110.187306  804.157428   \n",
       "4   3.30  7.50  20.000000   9.500000     5.340  171.992249  847.283814   \n",
       "5   2.35  6.90  21.000000   9.500000     2.670  121.777934  846.840355   \n",
       "6   2.32  7.42  20.000000   3.000000     8.010  150.748635  812.084257   \n",
       "7   3.20  7.52  21.000000   5.500000    18.690  181.651107  847.727273   \n",
       "8   4.08  7.90  20.466667   5.666667    20.025  183.776643  830.127494   \n",
       "9   4.96  7.50  20.409524   5.452381    24.564  195.945041  826.784922   \n",
       "10  5.84  6.90  20.352381   5.238095    29.103  208.113440  823.442350   \n",
       "11  6.72  7.42  20.295238   5.023810    33.642  220.281839  820.099778   \n",
       "12  7.60  7.52  20.238095   4.809524    38.181  232.450238  816.757206   \n",
       "13  8.48  7.90  20.180952   4.595238    42.720  244.618637  813.414634   \n",
       "\n",
       "       Nitrat     Nitrit  \n",
       "0   29.078347  23.062711  \n",
       "1   15.497162  23.127921  \n",
       "2    8.612223  23.019237  \n",
       "3    1.715993  23.345289  \n",
       "4    0.653174  22.997500  \n",
       "5   18.482410  22.975764  \n",
       "6    6.193059  23.019237  \n",
       "7   16.676101  24.084339  \n",
       "8   11.899290  23.581288  \n",
       "9   12.451608  23.670564  \n",
       "10  13.003926  23.759840  \n",
       "11  13.556244  23.849116  \n",
       "12  14.108562  23.938392  \n",
       "13  14.660880  24.027668  "
      ]
     },
     "execution_count": 47,
     "metadata": {},
     "output_type": "execute_result"
    }
   ],
   "source": [
    "#tampilkan data_kualitas_air\n",
    "data_kualitas_air"
   ]
  },
  {
   "cell_type": "code",
   "execution_count": 48,
   "id": "ae808047",
   "metadata": {
    "scrolled": true
   },
   "outputs": [
    {
     "data": {
      "text/html": [
       "<div>\n",
       "<style scoped>\n",
       "    .dataframe tbody tr th:only-of-type {\n",
       "        vertical-align: middle;\n",
       "    }\n",
       "\n",
       "    .dataframe tbody tr th {\n",
       "        vertical-align: top;\n",
       "    }\n",
       "\n",
       "    .dataframe thead th {\n",
       "        text-align: right;\n",
       "    }\n",
       "</style>\n",
       "<table border=\"1\" class=\"dataframe\">\n",
       "  <thead>\n",
       "    <tr style=\"text-align: right;\">\n",
       "      <th></th>\n",
       "      <th>DO</th>\n",
       "      <th>PH</th>\n",
       "      <th>Salinitas</th>\n",
       "      <th>Kecerahan</th>\n",
       "      <th>Klorofil</th>\n",
       "      <th>Ammonia</th>\n",
       "      <th>Ammonium</th>\n",
       "      <th>Nitrat</th>\n",
       "      <th>Nitrit</th>\n",
       "    </tr>\n",
       "  </thead>\n",
       "  <tbody>\n",
       "    <tr>\n",
       "      <th>0</th>\n",
       "      <td>4.4</td>\n",
       "      <td>7.60</td>\n",
       "      <td>20.0</td>\n",
       "      <td>7.0</td>\n",
       "      <td>26.70</td>\n",
       "      <td>135.294463</td>\n",
       "      <td>841.352550</td>\n",
       "      <td>29.078347</td>\n",
       "      <td>23.062711</td>\n",
       "    </tr>\n",
       "    <tr>\n",
       "      <th>1</th>\n",
       "      <td>4.4</td>\n",
       "      <td>7.60</td>\n",
       "      <td>22.0</td>\n",
       "      <td>7.0</td>\n",
       "      <td>13.35</td>\n",
       "      <td>79.320063</td>\n",
       "      <td>878.159645</td>\n",
       "      <td>15.497162</td>\n",
       "      <td>23.127921</td>\n",
       "    </tr>\n",
       "    <tr>\n",
       "      <th>2</th>\n",
       "      <td>3.2</td>\n",
       "      <td>7.52</td>\n",
       "      <td>21.0</td>\n",
       "      <td>5.5</td>\n",
       "      <td>2.67</td>\n",
       "      <td>79.284834</td>\n",
       "      <td>892.572062</td>\n",
       "      <td>8.612223</td>\n",
       "      <td>23.019237</td>\n",
       "    </tr>\n",
       "    <tr>\n",
       "      <th>3</th>\n",
       "      <td>3.2</td>\n",
       "      <td>7.52</td>\n",
       "      <td>21.0</td>\n",
       "      <td>5.5</td>\n",
       "      <td>2.67</td>\n",
       "      <td>110.187306</td>\n",
       "      <td>804.157428</td>\n",
       "      <td>1.715993</td>\n",
       "      <td>23.345289</td>\n",
       "    </tr>\n",
       "    <tr>\n",
       "      <th>4</th>\n",
       "      <td>3.3</td>\n",
       "      <td>7.50</td>\n",
       "      <td>20.0</td>\n",
       "      <td>9.5</td>\n",
       "      <td>5.34</td>\n",
       "      <td>171.992249</td>\n",
       "      <td>847.283814</td>\n",
       "      <td>0.653174</td>\n",
       "      <td>22.997500</td>\n",
       "    </tr>\n",
       "  </tbody>\n",
       "</table>\n",
       "</div>"
      ],
      "text/plain": [
       "    DO    PH  Salinitas  Kecerahan  Klorofil     Ammonia    Ammonium  \\\n",
       "0  4.4  7.60       20.0        7.0     26.70  135.294463  841.352550   \n",
       "1  4.4  7.60       22.0        7.0     13.35   79.320063  878.159645   \n",
       "2  3.2  7.52       21.0        5.5      2.67   79.284834  892.572062   \n",
       "3  3.2  7.52       21.0        5.5      2.67  110.187306  804.157428   \n",
       "4  3.3  7.50       20.0        9.5      5.34  171.992249  847.283814   \n",
       "\n",
       "      Nitrat     Nitrit  \n",
       "0  29.078347  23.062711  \n",
       "1  15.497162  23.127921  \n",
       "2   8.612223  23.019237  \n",
       "3   1.715993  23.345289  \n",
       "4   0.653174  22.997500  "
      ]
     },
     "execution_count": 48,
     "metadata": {},
     "output_type": "execute_result"
    }
   ],
   "source": [
    "#tampilkan 5 data teratas data_kualitas_air\n",
    "data_kualitas_air.head()"
   ]
  },
  {
   "cell_type": "code",
   "execution_count": 49,
   "id": "e59b2cb0",
   "metadata": {},
   "outputs": [
    {
     "data": {
      "text/html": [
       "<div>\n",
       "<style scoped>\n",
       "    .dataframe tbody tr th:only-of-type {\n",
       "        vertical-align: middle;\n",
       "    }\n",
       "\n",
       "    .dataframe tbody tr th {\n",
       "        vertical-align: top;\n",
       "    }\n",
       "\n",
       "    .dataframe thead th {\n",
       "        text-align: right;\n",
       "    }\n",
       "</style>\n",
       "<table border=\"1\" class=\"dataframe\">\n",
       "  <thead>\n",
       "    <tr style=\"text-align: right;\">\n",
       "      <th></th>\n",
       "      <th>DO</th>\n",
       "      <th>PH</th>\n",
       "      <th>Salinitas</th>\n",
       "      <th>Kecerahan</th>\n",
       "      <th>Klorofil</th>\n",
       "      <th>Ammonia</th>\n",
       "      <th>Ammonium</th>\n",
       "      <th>Nitrat</th>\n",
       "      <th>Nitrit</th>\n",
       "    </tr>\n",
       "  </thead>\n",
       "  <tbody>\n",
       "    <tr>\n",
       "      <th>9</th>\n",
       "      <td>4.96</td>\n",
       "      <td>7.50</td>\n",
       "      <td>20.409524</td>\n",
       "      <td>5.452381</td>\n",
       "      <td>24.564</td>\n",
       "      <td>195.945041</td>\n",
       "      <td>826.784922</td>\n",
       "      <td>12.451608</td>\n",
       "      <td>23.670564</td>\n",
       "    </tr>\n",
       "    <tr>\n",
       "      <th>10</th>\n",
       "      <td>5.84</td>\n",
       "      <td>6.90</td>\n",
       "      <td>20.352381</td>\n",
       "      <td>5.238095</td>\n",
       "      <td>29.103</td>\n",
       "      <td>208.113440</td>\n",
       "      <td>823.442350</td>\n",
       "      <td>13.003926</td>\n",
       "      <td>23.759840</td>\n",
       "    </tr>\n",
       "    <tr>\n",
       "      <th>11</th>\n",
       "      <td>6.72</td>\n",
       "      <td>7.42</td>\n",
       "      <td>20.295238</td>\n",
       "      <td>5.023810</td>\n",
       "      <td>33.642</td>\n",
       "      <td>220.281839</td>\n",
       "      <td>820.099778</td>\n",
       "      <td>13.556244</td>\n",
       "      <td>23.849116</td>\n",
       "    </tr>\n",
       "    <tr>\n",
       "      <th>12</th>\n",
       "      <td>7.60</td>\n",
       "      <td>7.52</td>\n",
       "      <td>20.238095</td>\n",
       "      <td>4.809524</td>\n",
       "      <td>38.181</td>\n",
       "      <td>232.450238</td>\n",
       "      <td>816.757206</td>\n",
       "      <td>14.108562</td>\n",
       "      <td>23.938392</td>\n",
       "    </tr>\n",
       "    <tr>\n",
       "      <th>13</th>\n",
       "      <td>8.48</td>\n",
       "      <td>7.90</td>\n",
       "      <td>20.180952</td>\n",
       "      <td>4.595238</td>\n",
       "      <td>42.720</td>\n",
       "      <td>244.618637</td>\n",
       "      <td>813.414634</td>\n",
       "      <td>14.660880</td>\n",
       "      <td>24.027668</td>\n",
       "    </tr>\n",
       "  </tbody>\n",
       "</table>\n",
       "</div>"
      ],
      "text/plain": [
       "      DO    PH  Salinitas  Kecerahan  Klorofil     Ammonia    Ammonium  \\\n",
       "9   4.96  7.50  20.409524   5.452381    24.564  195.945041  826.784922   \n",
       "10  5.84  6.90  20.352381   5.238095    29.103  208.113440  823.442350   \n",
       "11  6.72  7.42  20.295238   5.023810    33.642  220.281839  820.099778   \n",
       "12  7.60  7.52  20.238095   4.809524    38.181  232.450238  816.757206   \n",
       "13  8.48  7.90  20.180952   4.595238    42.720  244.618637  813.414634   \n",
       "\n",
       "       Nitrat     Nitrit  \n",
       "9   12.451608  23.670564  \n",
       "10  13.003926  23.759840  \n",
       "11  13.556244  23.849116  \n",
       "12  14.108562  23.938392  \n",
       "13  14.660880  24.027668  "
      ]
     },
     "execution_count": 49,
     "metadata": {},
     "output_type": "execute_result"
    }
   ],
   "source": [
    "#tampilkan 5 data terbawah data_kualitas_air\n",
    "data_kualitas_air.tail()"
   ]
  },
  {
   "cell_type": "code",
   "execution_count": 54,
   "id": "91f47bc5",
   "metadata": {},
   "outputs": [],
   "source": [
    "#import data csv\n",
    "data_csv=pd.read_csv('data-sebaran-sekolah-smp.csv')\n",
    "#jika pakai path directory maka / diganti \\"
   ]
  },
  {
   "cell_type": "code",
   "execution_count": 153,
   "id": "9acf08c6",
   "metadata": {},
   "outputs": [
    {
     "data": {
      "text/html": [
       "<div>\n",
       "<style scoped>\n",
       "    .dataframe tbody tr th:only-of-type {\n",
       "        vertical-align: middle;\n",
       "    }\n",
       "\n",
       "    .dataframe tbody tr th {\n",
       "        vertical-align: top;\n",
       "    }\n",
       "\n",
       "    .dataframe thead th {\n",
       "        text-align: right;\n",
       "    }\n",
       "</style>\n",
       "<table border=\"1\" class=\"dataframe\">\n",
       "  <thead>\n",
       "    <tr style=\"text-align: right;\">\n",
       "      <th></th>\n",
       "      <th>npsn</th>\n",
       "      <th>nama_sekolah</th>\n",
       "      <th>alamat</th>\n",
       "      <th>jumlah_siswa</th>\n",
       "      <th>jumlah_guru</th>\n",
       "      <th>kepala_sekolah</th>\n",
       "      <th>telp_sekolah</th>\n",
       "      <th>akreditasi</th>\n",
       "      <th>latitude</th>\n",
       "      <th>longitude</th>\n",
       "    </tr>\n",
       "  </thead>\n",
       "  <tbody>\n",
       "    <tr>\n",
       "      <th>0</th>\n",
       "      <td>693867</td>\n",
       "      <td>SMP Kasih Immanuel</td>\n",
       "      <td>Jl. Taman Surya V Blok NN 5 No. 45-48</td>\n",
       "      <td>64</td>\n",
       "      <td>3.0</td>\n",
       "      <td>KETUT BERTHY EKA PUTRA</td>\n",
       "      <td>021 54393692</td>\n",
       "      <td>NaN</td>\n",
       "      <td>NaN</td>\n",
       "      <td>NaN</td>\n",
       "    </tr>\n",
       "    <tr>\n",
       "      <th>1</th>\n",
       "      <td>2010685</td>\n",
       "      <td>SMP Perguruan Islam Taqwa</td>\n",
       "      <td>Karya Barat I Ujung No.24</td>\n",
       "      <td>40</td>\n",
       "      <td>7.0</td>\n",
       "      <td>Salahuddin</td>\n",
       "      <td>021 99264936</td>\n",
       "      <td>C</td>\n",
       "      <td>-6.161090</td>\n",
       "      <td>106.775467</td>\n",
       "    </tr>\n",
       "    <tr>\n",
       "      <th>2</th>\n",
       "      <td>20100226</td>\n",
       "      <td>SMP Strada Mardi Utama 1</td>\n",
       "      <td>Jl. Gunung Sahari No. 88</td>\n",
       "      <td>290</td>\n",
       "      <td>23.0</td>\n",
       "      <td>Martinus Rehan</td>\n",
       "      <td>021 42888539</td>\n",
       "      <td>A</td>\n",
       "      <td>-6.171225</td>\n",
       "      <td>106.840370</td>\n",
       "    </tr>\n",
       "    <tr>\n",
       "      <th>3</th>\n",
       "      <td>20100228</td>\n",
       "      <td>SMP Negeri 137</td>\n",
       "      <td>Jl. Cemp. Putih Barat No. 15/26</td>\n",
       "      <td>464</td>\n",
       "      <td>32.0</td>\n",
       "      <td>NaN</td>\n",
       "      <td>021 4244612</td>\n",
       "      <td>A</td>\n",
       "      <td>-6.180109</td>\n",
       "      <td>106.866234</td>\n",
       "    </tr>\n",
       "    <tr>\n",
       "      <th>4</th>\n",
       "      <td>20100230</td>\n",
       "      <td>SMP Negeri 156</td>\n",
       "      <td>Jl. Kramat Pulo Gundul IV No. 4</td>\n",
       "      <td>720</td>\n",
       "      <td>33.0</td>\n",
       "      <td>RARA SUNDARINA</td>\n",
       "      <td>021 42888671</td>\n",
       "      <td>A</td>\n",
       "      <td>-6.182055</td>\n",
       "      <td>106.850487</td>\n",
       "    </tr>\n",
       "  </tbody>\n",
       "</table>\n",
       "</div>"
      ],
      "text/plain": [
       "       npsn               nama_sekolah                                 alamat  \\\n",
       "0    693867         SMP Kasih Immanuel  Jl. Taman Surya V Blok NN 5 No. 45-48   \n",
       "1   2010685  SMP Perguruan Islam Taqwa              Karya Barat I Ujung No.24   \n",
       "2  20100226   SMP Strada Mardi Utama 1               Jl. Gunung Sahari No. 88   \n",
       "3  20100228             SMP Negeri 137        Jl. Cemp. Putih Barat No. 15/26   \n",
       "4  20100230             SMP Negeri 156        Jl. Kramat Pulo Gundul IV No. 4   \n",
       "\n",
       "   jumlah_siswa  jumlah_guru          kepala_sekolah  telp_sekolah akreditasi  \\\n",
       "0            64          3.0  KETUT BERTHY EKA PUTRA  021 54393692        NaN   \n",
       "1            40          7.0              Salahuddin  021 99264936          C   \n",
       "2           290         23.0          Martinus Rehan  021 42888539          A   \n",
       "3           464         32.0                     NaN   021 4244612          A   \n",
       "4           720         33.0          RARA SUNDARINA  021 42888671          A   \n",
       "\n",
       "   latitude   longitude  \n",
       "0       NaN         NaN  \n",
       "1 -6.161090  106.775467  \n",
       "2 -6.171225  106.840370  \n",
       "3 -6.180109  106.866234  \n",
       "4 -6.182055  106.850487  "
      ]
     },
     "execution_count": 153,
     "metadata": {},
     "output_type": "execute_result"
    }
   ],
   "source": [
    "#Menampilkan 5 data teratas data_csv\n",
    "data_csv.head()"
   ]
  },
  {
   "cell_type": "code",
   "execution_count": 98,
   "id": "5e30d23f",
   "metadata": {
    "scrolled": true
   },
   "outputs": [],
   "source": [
    "data_csv2=pd.read_csv('C:/Users/EBC KOMPUTER/data-sebaran-sekolah-sd.csv', sep= ',')"
   ]
  },
  {
   "cell_type": "code",
   "execution_count": 95,
   "id": "6762335c",
   "metadata": {},
   "outputs": [
    {
     "data": {
      "text/html": [
       "<div>\n",
       "<style scoped>\n",
       "    .dataframe tbody tr th:only-of-type {\n",
       "        vertical-align: middle;\n",
       "    }\n",
       "\n",
       "    .dataframe tbody tr th {\n",
       "        vertical-align: top;\n",
       "    }\n",
       "\n",
       "    .dataframe thead th {\n",
       "        text-align: right;\n",
       "    }\n",
       "</style>\n",
       "<table border=\"1\" class=\"dataframe\">\n",
       "  <thead>\n",
       "    <tr style=\"text-align: right;\">\n",
       "      <th></th>\n",
       "      <th>npsn</th>\n",
       "      <th>nama_sekolah</th>\n",
       "      <th>alamat</th>\n",
       "      <th>jumlah_siswa</th>\n",
       "      <th>jumlah_guru</th>\n",
       "      <th>kepala_sekolah</th>\n",
       "      <th>telp_sekolah</th>\n",
       "      <th>akreditasi</th>\n",
       "      <th>latitude</th>\n",
       "      <th>longitude</th>\n",
       "    </tr>\n",
       "  </thead>\n",
       "  <tbody>\n",
       "    <tr>\n",
       "      <th>0</th>\n",
       "      <td>20104464</td>\n",
       "      <td>SDN Pulau Harapan 01 Pg.</td>\n",
       "      <td>Pulau Harapan Rt. 004/02</td>\n",
       "      <td>182</td>\n",
       "      <td>16.0</td>\n",
       "      <td>MAN US, S.Pd.</td>\n",
       "      <td>NaN</td>\n",
       "      <td>A</td>\n",
       "      <td>-5.653600</td>\n",
       "      <td>106.579803</td>\n",
       "    </tr>\n",
       "    <tr>\n",
       "      <th>1</th>\n",
       "      <td>20105361</td>\n",
       "      <td>SDN Kemanggisan 14</td>\n",
       "      <td>Jl. Kemanggisan Ilir II No. 9</td>\n",
       "      <td>347</td>\n",
       "      <td>16.0</td>\n",
       "      <td>NaN</td>\n",
       "      <td>NaN</td>\n",
       "      <td>A</td>\n",
       "      <td>-6.188200</td>\n",
       "      <td>106.794098</td>\n",
       "    </tr>\n",
       "    <tr>\n",
       "      <th>2</th>\n",
       "      <td>20105487</td>\n",
       "      <td>SDN Semanan 07 Pt.</td>\n",
       "      <td>Jl. Raya Semanan</td>\n",
       "      <td>259</td>\n",
       "      <td>12.0</td>\n",
       "      <td>MURSIYEM</td>\n",
       "      <td>NaN</td>\n",
       "      <td>A</td>\n",
       "      <td>-6.159629</td>\n",
       "      <td>106.705223</td>\n",
       "    </tr>\n",
       "    <tr>\n",
       "      <th>3</th>\n",
       "      <td>20105281</td>\n",
       "      <td>SDN Kamal 06 Pg.</td>\n",
       "      <td>Jl. Bakti Pramuka</td>\n",
       "      <td>413</td>\n",
       "      <td>15.0</td>\n",
       "      <td>ANAH NUNGHASANAH, S. Pd</td>\n",
       "      <td>NaN</td>\n",
       "      <td>A</td>\n",
       "      <td>-6.100449</td>\n",
       "      <td>106.708122</td>\n",
       "    </tr>\n",
       "    <tr>\n",
       "      <th>4</th>\n",
       "      <td>20104474</td>\n",
       "      <td>SDN Pulau Tidung 02 Pg.</td>\n",
       "      <td>Jl. Lapangan Hijau</td>\n",
       "      <td>126</td>\n",
       "      <td>13.0</td>\n",
       "      <td>YUSLI MASHUDI</td>\n",
       "      <td>NaN</td>\n",
       "      <td>A</td>\n",
       "      <td>-5.796363</td>\n",
       "      <td>106.495781</td>\n",
       "    </tr>\n",
       "  </tbody>\n",
       "</table>\n",
       "</div>"
      ],
      "text/plain": [
       "       npsn              nama_sekolah                         alamat  \\\n",
       "0  20104464  SDN Pulau Harapan 01 Pg.       Pulau Harapan Rt. 004/02   \n",
       "1  20105361        SDN Kemanggisan 14  Jl. Kemanggisan Ilir II No. 9   \n",
       "2  20105487        SDN Semanan 07 Pt.               Jl. Raya Semanan   \n",
       "3  20105281          SDN Kamal 06 Pg.              Jl. Bakti Pramuka   \n",
       "4  20104474   SDN Pulau Tidung 02 Pg.             Jl. Lapangan Hijau   \n",
       "\n",
       "   jumlah_siswa  jumlah_guru           kepala_sekolah telp_sekolah akreditasi  \\\n",
       "0           182         16.0            MAN US, S.Pd.          NaN          A   \n",
       "1           347         16.0                      NaN          NaN          A   \n",
       "2           259         12.0                 MURSIYEM          NaN          A   \n",
       "3           413         15.0  ANAH NUNGHASANAH, S. Pd          NaN          A   \n",
       "4           126         13.0            YUSLI MASHUDI          NaN          A   \n",
       "\n",
       "   latitude   longitude  \n",
       "0 -5.653600  106.579803  \n",
       "1 -6.188200  106.794098  \n",
       "2 -6.159629  106.705223  \n",
       "3 -6.100449  106.708122  \n",
       "4 -5.796363  106.495781  "
      ]
     },
     "execution_count": 95,
     "metadata": {},
     "output_type": "execute_result"
    }
   ],
   "source": [
    "#menampilkan 5 data teratas data_csv2\n",
    "data_csv2.head()"
   ]
  },
  {
   "cell_type": "markdown",
   "id": "fac955a0",
   "metadata": {},
   "source": [
    "#### Slicing kolom menggunakan `['nama variabel']` "
   ]
  },
  {
   "cell_type": "code",
   "execution_count": 61,
   "id": "57c2cf97",
   "metadata": {},
   "outputs": [
    {
     "data": {
      "text/plain": [
       "0     7.60\n",
       "1     7.60\n",
       "2     7.52\n",
       "3     7.52\n",
       "4     7.50\n",
       "5     6.90\n",
       "6     7.42\n",
       "7     7.52\n",
       "8     7.90\n",
       "9     7.50\n",
       "10    6.90\n",
       "11    7.42\n",
       "12    7.52\n",
       "13    7.90\n",
       "Name: PH, dtype: float64"
      ]
     },
     "execution_count": 61,
     "metadata": {},
     "output_type": "execute_result"
    }
   ],
   "source": [
    "#Slicing data_kualitas_air kolom PH\n",
    "data_kualitas_air['PH']"
   ]
  },
  {
   "cell_type": "code",
   "execution_count": 5,
   "id": "f6a40d5c",
   "metadata": {},
   "outputs": [
    {
     "data": {
      "text/plain": [
       "0     7.60\n",
       "1     7.60\n",
       "2     7.52\n",
       "3     7.52\n",
       "4     7.50\n",
       "5     6.90\n",
       "6     7.42\n",
       "7     7.52\n",
       "8     7.90\n",
       "9     7.50\n",
       "10    6.90\n",
       "11    7.42\n",
       "12    7.52\n",
       "13    7.90\n",
       "Name: PH, dtype: float64"
      ]
     },
     "execution_count": 5,
     "metadata": {},
     "output_type": "execute_result"
    }
   ],
   "source": [
    "#membuat variabel data_baru berisi kolom PH\n",
    "data_baru = data_kualitas_air['PH']\n",
    "data_baru\n"
   ]
  },
  {
   "cell_type": "code",
   "execution_count": 6,
   "id": "c289dd7c",
   "metadata": {},
   "outputs": [
    {
     "data": {
      "text/plain": [
       "pandas.core.series.Series"
      ]
     },
     "execution_count": 6,
     "metadata": {},
     "output_type": "execute_result"
    }
   ],
   "source": [
    "#cek tipe data\n",
    "type(data_baru)\n",
    "\n",
    "#maka akan menjadi data series jika slicing 1 kolom dengan cara ini"
   ]
  },
  {
   "cell_type": "code",
   "execution_count": 8,
   "id": "8011925b",
   "metadata": {},
   "outputs": [
    {
     "data": {
      "text/plain": [
       "pandas.core.frame.DataFrame"
      ]
     },
     "execution_count": 8,
     "metadata": {},
     "output_type": "execute_result"
    }
   ],
   "source": [
    "type(data_kualitas_air[['PH']]) #akan jadi dataframe"
   ]
  },
  {
   "cell_type": "code",
   "execution_count": 64,
   "id": "e7f3c475",
   "metadata": {},
   "outputs": [
    {
     "data": {
      "text/html": [
       "<div>\n",
       "<style scoped>\n",
       "    .dataframe tbody tr th:only-of-type {\n",
       "        vertical-align: middle;\n",
       "    }\n",
       "\n",
       "    .dataframe tbody tr th {\n",
       "        vertical-align: top;\n",
       "    }\n",
       "\n",
       "    .dataframe thead th {\n",
       "        text-align: right;\n",
       "    }\n",
       "</style>\n",
       "<table border=\"1\" class=\"dataframe\">\n",
       "  <thead>\n",
       "    <tr style=\"text-align: right;\">\n",
       "      <th></th>\n",
       "      <th>PH</th>\n",
       "      <th>Nitrit</th>\n",
       "    </tr>\n",
       "  </thead>\n",
       "  <tbody>\n",
       "    <tr>\n",
       "      <th>0</th>\n",
       "      <td>7.60</td>\n",
       "      <td>23.062711</td>\n",
       "    </tr>\n",
       "    <tr>\n",
       "      <th>1</th>\n",
       "      <td>7.60</td>\n",
       "      <td>23.127921</td>\n",
       "    </tr>\n",
       "    <tr>\n",
       "      <th>2</th>\n",
       "      <td>7.52</td>\n",
       "      <td>23.019237</td>\n",
       "    </tr>\n",
       "    <tr>\n",
       "      <th>3</th>\n",
       "      <td>7.52</td>\n",
       "      <td>23.345289</td>\n",
       "    </tr>\n",
       "    <tr>\n",
       "      <th>4</th>\n",
       "      <td>7.50</td>\n",
       "      <td>22.997500</td>\n",
       "    </tr>\n",
       "    <tr>\n",
       "      <th>5</th>\n",
       "      <td>6.90</td>\n",
       "      <td>22.975764</td>\n",
       "    </tr>\n",
       "    <tr>\n",
       "      <th>6</th>\n",
       "      <td>7.42</td>\n",
       "      <td>23.019237</td>\n",
       "    </tr>\n",
       "    <tr>\n",
       "      <th>7</th>\n",
       "      <td>7.52</td>\n",
       "      <td>24.084339</td>\n",
       "    </tr>\n",
       "    <tr>\n",
       "      <th>8</th>\n",
       "      <td>7.90</td>\n",
       "      <td>23.581288</td>\n",
       "    </tr>\n",
       "    <tr>\n",
       "      <th>9</th>\n",
       "      <td>7.50</td>\n",
       "      <td>23.670564</td>\n",
       "    </tr>\n",
       "    <tr>\n",
       "      <th>10</th>\n",
       "      <td>6.90</td>\n",
       "      <td>23.759840</td>\n",
       "    </tr>\n",
       "    <tr>\n",
       "      <th>11</th>\n",
       "      <td>7.42</td>\n",
       "      <td>23.849116</td>\n",
       "    </tr>\n",
       "    <tr>\n",
       "      <th>12</th>\n",
       "      <td>7.52</td>\n",
       "      <td>23.938392</td>\n",
       "    </tr>\n",
       "    <tr>\n",
       "      <th>13</th>\n",
       "      <td>7.90</td>\n",
       "      <td>24.027668</td>\n",
       "    </tr>\n",
       "  </tbody>\n",
       "</table>\n",
       "</div>"
      ],
      "text/plain": [
       "      PH     Nitrit\n",
       "0   7.60  23.062711\n",
       "1   7.60  23.127921\n",
       "2   7.52  23.019237\n",
       "3   7.52  23.345289\n",
       "4   7.50  22.997500\n",
       "5   6.90  22.975764\n",
       "6   7.42  23.019237\n",
       "7   7.52  24.084339\n",
       "8   7.90  23.581288\n",
       "9   7.50  23.670564\n",
       "10  6.90  23.759840\n",
       "11  7.42  23.849116\n",
       "12  7.52  23.938392\n",
       "13  7.90  24.027668"
      ]
     },
     "execution_count": 64,
     "metadata": {},
     "output_type": "execute_result"
    }
   ],
   "source": [
    "#Slicing data_kualitas_air kolom PH dan Nitrit\n",
    "data_kualitas_air[['PH', 'Nitrit']]"
   ]
  },
  {
   "cell_type": "markdown",
   "id": "5253f25e",
   "metadata": {},
   "source": [
    "## Dot notation"
   ]
  },
  {
   "cell_type": "code",
   "execution_count": 9,
   "id": "62e5e8a5",
   "metadata": {
    "scrolled": true
   },
   "outputs": [
    {
     "data": {
      "text/plain": [
       "0     7.60\n",
       "1     7.60\n",
       "2     7.52\n",
       "3     7.52\n",
       "4     7.50\n",
       "5     6.90\n",
       "6     7.42\n",
       "7     7.52\n",
       "8     7.90\n",
       "9     7.50\n",
       "10    6.90\n",
       "11    7.42\n",
       "12    7.52\n",
       "13    7.90\n",
       "Name: PH, dtype: float64"
      ]
     },
     "execution_count": 9,
     "metadata": {},
     "output_type": "execute_result"
    }
   ],
   "source": [
    "#menggunakan `.` untuk slicing tapi riskan error utk d\n",
    "data_kualitas_air['PH']"
   ]
  },
  {
   "cell_type": "code",
   "execution_count": 11,
   "id": "dd7a439b",
   "metadata": {},
   "outputs": [
    {
     "data": {
      "text/plain": [
       "True"
      ]
     },
     "execution_count": 11,
     "metadata": {},
     "output_type": "execute_result"
    }
   ],
   "source": [
    "#utk tahu apakah data yg dihasilkan sama atau tdk menggunakan equals\n",
    "data_kualitas_air['PH'].equals(data_kualitas_air.PH)\n",
    "\n",
    "#hasilnya TRue artinya datanya sam"
   ]
  },
  {
   "cell_type": "markdown",
   "id": "2ee71169",
   "metadata": {},
   "source": [
    "## iloc\n",
    "### .iloc[baris, kolom)\n",
    "iloc diunakan ketika indeks diketahui. iloc singkatan dari index location"
   ]
  },
  {
   "cell_type": "code",
   "execution_count": 12,
   "id": "d8f744ae",
   "metadata": {},
   "outputs": [
    {
     "data": {
      "text/plain": [
       "DO             4.400000\n",
       "PH             7.600000\n",
       "Salinitas     20.000000\n",
       "Kecerahan      7.000000\n",
       "Klorofil      26.700000\n",
       "Ammonia      135.294463\n",
       "Ammonium     841.352550\n",
       "Nitrat        29.078347\n",
       "Nitrit        23.062711\n",
       "Name: 0, dtype: float64"
      ]
     },
     "execution_count": 12,
     "metadata": {},
     "output_type": "execute_result"
    }
   ],
   "source": [
    "#jika ditulis hanya satu indeks tanpa koma maka akan dibaca sebagai slicing baris\n",
    "data_kualitas_air.iloc[0]"
   ]
  },
  {
   "cell_type": "code",
   "execution_count": 13,
   "id": "690f6e3a",
   "metadata": {
    "scrolled": true
   },
   "outputs": [
    {
     "data": {
      "text/html": [
       "<div>\n",
       "<style scoped>\n",
       "    .dataframe tbody tr th:only-of-type {\n",
       "        vertical-align: middle;\n",
       "    }\n",
       "\n",
       "    .dataframe tbody tr th {\n",
       "        vertical-align: top;\n",
       "    }\n",
       "\n",
       "    .dataframe thead th {\n",
       "        text-align: right;\n",
       "    }\n",
       "</style>\n",
       "<table border=\"1\" class=\"dataframe\">\n",
       "  <thead>\n",
       "    <tr style=\"text-align: right;\">\n",
       "      <th></th>\n",
       "      <th>DO</th>\n",
       "      <th>PH</th>\n",
       "      <th>Salinitas</th>\n",
       "      <th>Kecerahan</th>\n",
       "      <th>Klorofil</th>\n",
       "      <th>Ammonia</th>\n",
       "      <th>Ammonium</th>\n",
       "      <th>Nitrat</th>\n",
       "      <th>Nitrit</th>\n",
       "    </tr>\n",
       "  </thead>\n",
       "  <tbody>\n",
       "    <tr>\n",
       "      <th>0</th>\n",
       "      <td>4.40</td>\n",
       "      <td>7.60</td>\n",
       "      <td>20.000000</td>\n",
       "      <td>7.000000</td>\n",
       "      <td>26.700</td>\n",
       "      <td>135.294463</td>\n",
       "      <td>841.352550</td>\n",
       "      <td>29.078347</td>\n",
       "      <td>23.062711</td>\n",
       "    </tr>\n",
       "    <tr>\n",
       "      <th>1</th>\n",
       "      <td>4.40</td>\n",
       "      <td>7.60</td>\n",
       "      <td>22.000000</td>\n",
       "      <td>7.000000</td>\n",
       "      <td>13.350</td>\n",
       "      <td>79.320063</td>\n",
       "      <td>878.159645</td>\n",
       "      <td>15.497162</td>\n",
       "      <td>23.127921</td>\n",
       "    </tr>\n",
       "    <tr>\n",
       "      <th>2</th>\n",
       "      <td>3.20</td>\n",
       "      <td>7.52</td>\n",
       "      <td>21.000000</td>\n",
       "      <td>5.500000</td>\n",
       "      <td>2.670</td>\n",
       "      <td>79.284834</td>\n",
       "      <td>892.572062</td>\n",
       "      <td>8.612223</td>\n",
       "      <td>23.019237</td>\n",
       "    </tr>\n",
       "    <tr>\n",
       "      <th>3</th>\n",
       "      <td>3.20</td>\n",
       "      <td>7.52</td>\n",
       "      <td>21.000000</td>\n",
       "      <td>5.500000</td>\n",
       "      <td>2.670</td>\n",
       "      <td>110.187306</td>\n",
       "      <td>804.157428</td>\n",
       "      <td>1.715993</td>\n",
       "      <td>23.345289</td>\n",
       "    </tr>\n",
       "    <tr>\n",
       "      <th>4</th>\n",
       "      <td>3.30</td>\n",
       "      <td>7.50</td>\n",
       "      <td>20.000000</td>\n",
       "      <td>9.500000</td>\n",
       "      <td>5.340</td>\n",
       "      <td>171.992249</td>\n",
       "      <td>847.283814</td>\n",
       "      <td>0.653174</td>\n",
       "      <td>22.997500</td>\n",
       "    </tr>\n",
       "    <tr>\n",
       "      <th>5</th>\n",
       "      <td>2.35</td>\n",
       "      <td>6.90</td>\n",
       "      <td>21.000000</td>\n",
       "      <td>9.500000</td>\n",
       "      <td>2.670</td>\n",
       "      <td>121.777934</td>\n",
       "      <td>846.840355</td>\n",
       "      <td>18.482410</td>\n",
       "      <td>22.975764</td>\n",
       "    </tr>\n",
       "    <tr>\n",
       "      <th>6</th>\n",
       "      <td>2.32</td>\n",
       "      <td>7.42</td>\n",
       "      <td>20.000000</td>\n",
       "      <td>3.000000</td>\n",
       "      <td>8.010</td>\n",
       "      <td>150.748635</td>\n",
       "      <td>812.084257</td>\n",
       "      <td>6.193059</td>\n",
       "      <td>23.019237</td>\n",
       "    </tr>\n",
       "    <tr>\n",
       "      <th>7</th>\n",
       "      <td>3.20</td>\n",
       "      <td>7.52</td>\n",
       "      <td>21.000000</td>\n",
       "      <td>5.500000</td>\n",
       "      <td>18.690</td>\n",
       "      <td>181.651107</td>\n",
       "      <td>847.727273</td>\n",
       "      <td>16.676101</td>\n",
       "      <td>24.084339</td>\n",
       "    </tr>\n",
       "    <tr>\n",
       "      <th>8</th>\n",
       "      <td>4.08</td>\n",
       "      <td>7.90</td>\n",
       "      <td>20.466667</td>\n",
       "      <td>5.666667</td>\n",
       "      <td>20.025</td>\n",
       "      <td>183.776643</td>\n",
       "      <td>830.127494</td>\n",
       "      <td>11.899290</td>\n",
       "      <td>23.581288</td>\n",
       "    </tr>\n",
       "    <tr>\n",
       "      <th>9</th>\n",
       "      <td>4.96</td>\n",
       "      <td>7.50</td>\n",
       "      <td>20.409524</td>\n",
       "      <td>5.452381</td>\n",
       "      <td>24.564</td>\n",
       "      <td>195.945041</td>\n",
       "      <td>826.784922</td>\n",
       "      <td>12.451608</td>\n",
       "      <td>23.670564</td>\n",
       "    </tr>\n",
       "    <tr>\n",
       "      <th>10</th>\n",
       "      <td>5.84</td>\n",
       "      <td>6.90</td>\n",
       "      <td>20.352381</td>\n",
       "      <td>5.238095</td>\n",
       "      <td>29.103</td>\n",
       "      <td>208.113440</td>\n",
       "      <td>823.442350</td>\n",
       "      <td>13.003926</td>\n",
       "      <td>23.759840</td>\n",
       "    </tr>\n",
       "  </tbody>\n",
       "</table>\n",
       "</div>"
      ],
      "text/plain": [
       "      DO    PH  Salinitas  Kecerahan  Klorofil     Ammonia    Ammonium  \\\n",
       "0   4.40  7.60  20.000000   7.000000    26.700  135.294463  841.352550   \n",
       "1   4.40  7.60  22.000000   7.000000    13.350   79.320063  878.159645   \n",
       "2   3.20  7.52  21.000000   5.500000     2.670   79.284834  892.572062   \n",
       "3   3.20  7.52  21.000000   5.500000     2.670  110.187306  804.157428   \n",
       "4   3.30  7.50  20.000000   9.500000     5.340  171.992249  847.283814   \n",
       "5   2.35  6.90  21.000000   9.500000     2.670  121.777934  846.840355   \n",
       "6   2.32  7.42  20.000000   3.000000     8.010  150.748635  812.084257   \n",
       "7   3.20  7.52  21.000000   5.500000    18.690  181.651107  847.727273   \n",
       "8   4.08  7.90  20.466667   5.666667    20.025  183.776643  830.127494   \n",
       "9   4.96  7.50  20.409524   5.452381    24.564  195.945041  826.784922   \n",
       "10  5.84  6.90  20.352381   5.238095    29.103  208.113440  823.442350   \n",
       "\n",
       "       Nitrat     Nitrit  \n",
       "0   29.078347  23.062711  \n",
       "1   15.497162  23.127921  \n",
       "2    8.612223  23.019237  \n",
       "3    1.715993  23.345289  \n",
       "4    0.653174  22.997500  \n",
       "5   18.482410  22.975764  \n",
       "6    6.193059  23.019237  \n",
       "7   16.676101  24.084339  \n",
       "8   11.899290  23.581288  \n",
       "9   12.451608  23.670564  \n",
       "10  13.003926  23.759840  "
      ]
     },
     "execution_count": 13,
     "metadata": {},
     "output_type": "execute_result"
    }
   ],
   "source": [
    "#slicing baris 0 hingga 10\n",
    "data_kualitas_air.iloc[0:11]"
   ]
  },
  {
   "cell_type": "code",
   "execution_count": 14,
   "id": "1a445624",
   "metadata": {},
   "outputs": [
    {
     "data": {
      "text/plain": [
       "0     7.000000\n",
       "1     7.000000\n",
       "2     5.500000\n",
       "3     5.500000\n",
       "4     9.500000\n",
       "5     9.500000\n",
       "6     3.000000\n",
       "7     5.500000\n",
       "8     5.666667\n",
       "9     5.452381\n",
       "10    5.238095\n",
       "11    5.023810\n",
       "12    4.809524\n",
       "13    4.595238\n",
       "Name: Kecerahan, dtype: float64"
      ]
     },
     "execution_count": 14,
     "metadata": {},
     "output_type": "execute_result"
    }
   ],
   "source": [
    "#slicing seluruh baris pada kolom ke 3\n",
    "data_kualitas_air.iloc[:, 3]"
   ]
  },
  {
   "cell_type": "code",
   "execution_count": 15,
   "id": "f9809e6e",
   "metadata": {},
   "outputs": [
    {
     "data": {
      "text/html": [
       "<div>\n",
       "<style scoped>\n",
       "    .dataframe tbody tr th:only-of-type {\n",
       "        vertical-align: middle;\n",
       "    }\n",
       "\n",
       "    .dataframe tbody tr th {\n",
       "        vertical-align: top;\n",
       "    }\n",
       "\n",
       "    .dataframe thead th {\n",
       "        text-align: right;\n",
       "    }\n",
       "</style>\n",
       "<table border=\"1\" class=\"dataframe\">\n",
       "  <thead>\n",
       "    <tr style=\"text-align: right;\">\n",
       "      <th></th>\n",
       "      <th>DO</th>\n",
       "      <th>PH</th>\n",
       "      <th>Salinitas</th>\n",
       "      <th>Kecerahan</th>\n",
       "      <th>Klorofil</th>\n",
       "      <th>Ammonia</th>\n",
       "      <th>Ammonium</th>\n",
       "      <th>Nitrat</th>\n",
       "      <th>Nitrit</th>\n",
       "    </tr>\n",
       "  </thead>\n",
       "  <tbody>\n",
       "    <tr>\n",
       "      <th>1</th>\n",
       "      <td>4.40</td>\n",
       "      <td>7.60</td>\n",
       "      <td>22.0</td>\n",
       "      <td>7.0</td>\n",
       "      <td>13.35</td>\n",
       "      <td>79.320063</td>\n",
       "      <td>878.159645</td>\n",
       "      <td>15.497162</td>\n",
       "      <td>23.127921</td>\n",
       "    </tr>\n",
       "    <tr>\n",
       "      <th>3</th>\n",
       "      <td>3.20</td>\n",
       "      <td>7.52</td>\n",
       "      <td>21.0</td>\n",
       "      <td>5.5</td>\n",
       "      <td>2.67</td>\n",
       "      <td>110.187306</td>\n",
       "      <td>804.157428</td>\n",
       "      <td>1.715993</td>\n",
       "      <td>23.345289</td>\n",
       "    </tr>\n",
       "    <tr>\n",
       "      <th>5</th>\n",
       "      <td>2.35</td>\n",
       "      <td>6.90</td>\n",
       "      <td>21.0</td>\n",
       "      <td>9.5</td>\n",
       "      <td>2.67</td>\n",
       "      <td>121.777934</td>\n",
       "      <td>846.840355</td>\n",
       "      <td>18.482410</td>\n",
       "      <td>22.975764</td>\n",
       "    </tr>\n",
       "  </tbody>\n",
       "</table>\n",
       "</div>"
      ],
      "text/plain": [
       "     DO    PH  Salinitas  Kecerahan  Klorofil     Ammonia    Ammonium  \\\n",
       "1  4.40  7.60       22.0        7.0     13.35   79.320063  878.159645   \n",
       "3  3.20  7.52       21.0        5.5      2.67  110.187306  804.157428   \n",
       "5  2.35  6.90       21.0        9.5      2.67  121.777934  846.840355   \n",
       "\n",
       "      Nitrat     Nitrit  \n",
       "1  15.497162  23.127921  \n",
       "3   1.715993  23.345289  \n",
       "5  18.482410  22.975764  "
      ]
     },
     "execution_count": 15,
     "metadata": {},
     "output_type": "execute_result"
    }
   ],
   "source": [
    "#slicing baris 1,3,5\n",
    "data_kualitas_air.iloc[[1,3,5]]"
   ]
  },
  {
   "cell_type": "code",
   "execution_count": 16,
   "id": "236cfaa8",
   "metadata": {},
   "outputs": [
    {
     "data": {
      "text/html": [
       "<div>\n",
       "<style scoped>\n",
       "    .dataframe tbody tr th:only-of-type {\n",
       "        vertical-align: middle;\n",
       "    }\n",
       "\n",
       "    .dataframe tbody tr th {\n",
       "        vertical-align: top;\n",
       "    }\n",
       "\n",
       "    .dataframe thead th {\n",
       "        text-align: right;\n",
       "    }\n",
       "</style>\n",
       "<table border=\"1\" class=\"dataframe\">\n",
       "  <thead>\n",
       "    <tr style=\"text-align: right;\">\n",
       "      <th></th>\n",
       "      <th>Salinitas</th>\n",
       "      <th>Klorofil</th>\n",
       "      <th>Ammonium</th>\n",
       "    </tr>\n",
       "  </thead>\n",
       "  <tbody>\n",
       "    <tr>\n",
       "      <th>1</th>\n",
       "      <td>22.0</td>\n",
       "      <td>13.35</td>\n",
       "      <td>878.159645</td>\n",
       "    </tr>\n",
       "    <tr>\n",
       "      <th>3</th>\n",
       "      <td>21.0</td>\n",
       "      <td>2.67</td>\n",
       "      <td>804.157428</td>\n",
       "    </tr>\n",
       "    <tr>\n",
       "      <th>5</th>\n",
       "      <td>21.0</td>\n",
       "      <td>2.67</td>\n",
       "      <td>846.840355</td>\n",
       "    </tr>\n",
       "  </tbody>\n",
       "</table>\n",
       "</div>"
      ],
      "text/plain": [
       "   Salinitas  Klorofil    Ammonium\n",
       "1       22.0     13.35  878.159645\n",
       "3       21.0      2.67  804.157428\n",
       "5       21.0      2.67  846.840355"
      ]
     },
     "execution_count": 16,
     "metadata": {},
     "output_type": "execute_result"
    }
   ],
   "source": [
    "#slicing baris 1,3,5 dan kolom 2,4,6\n",
    "data_kualitas_air.iloc[[1,3,5],[2,4,6]]\n"
   ]
  },
  {
   "cell_type": "code",
   "execution_count": 20,
   "id": "d28d2739",
   "metadata": {},
   "outputs": [
    {
     "data": {
      "text/html": [
       "<div>\n",
       "<style scoped>\n",
       "    .dataframe tbody tr th:only-of-type {\n",
       "        vertical-align: middle;\n",
       "    }\n",
       "\n",
       "    .dataframe tbody tr th {\n",
       "        vertical-align: top;\n",
       "    }\n",
       "\n",
       "    .dataframe thead th {\n",
       "        text-align: right;\n",
       "    }\n",
       "</style>\n",
       "<table border=\"1\" class=\"dataframe\">\n",
       "  <thead>\n",
       "    <tr style=\"text-align: right;\">\n",
       "      <th></th>\n",
       "      <th>Ammonia</th>\n",
       "      <th>Ammonium</th>\n",
       "    </tr>\n",
       "  </thead>\n",
       "  <tbody>\n",
       "    <tr>\n",
       "      <th>11</th>\n",
       "      <td>220.281839</td>\n",
       "      <td>820.099778</td>\n",
       "    </tr>\n",
       "    <tr>\n",
       "      <th>12</th>\n",
       "      <td>232.450238</td>\n",
       "      <td>816.757206</td>\n",
       "    </tr>\n",
       "  </tbody>\n",
       "</table>\n",
       "</div>"
      ],
      "text/plain": [
       "       Ammonia    Ammonium\n",
       "11  220.281839  820.099778\n",
       "12  232.450238  816.757206"
      ]
     },
     "execution_count": 20,
     "metadata": {},
     "output_type": "execute_result"
    }
   ],
   "source": [
    "#indeks negatif\n",
    "data_kualitas_air.iloc[-3:-1, -4:-2]"
   ]
  },
  {
   "cell_type": "code",
   "execution_count": 68,
   "id": "c29bdf71",
   "metadata": {},
   "outputs": [
    {
     "data": {
      "text/html": [
       "<div>\n",
       "<style scoped>\n",
       "    .dataframe tbody tr th:only-of-type {\n",
       "        vertical-align: middle;\n",
       "    }\n",
       "\n",
       "    .dataframe tbody tr th {\n",
       "        vertical-align: top;\n",
       "    }\n",
       "\n",
       "    .dataframe thead th {\n",
       "        text-align: right;\n",
       "    }\n",
       "</style>\n",
       "<table border=\"1\" class=\"dataframe\">\n",
       "  <thead>\n",
       "    <tr style=\"text-align: right;\">\n",
       "      <th></th>\n",
       "      <th>PH</th>\n",
       "      <th>Salinitas</th>\n",
       "      <th>Kecerahan</th>\n",
       "    </tr>\n",
       "  </thead>\n",
       "  <tbody>\n",
       "    <tr>\n",
       "      <th>0</th>\n",
       "      <td>7.60</td>\n",
       "      <td>20.0</td>\n",
       "      <td>7.0</td>\n",
       "    </tr>\n",
       "    <tr>\n",
       "      <th>1</th>\n",
       "      <td>7.60</td>\n",
       "      <td>22.0</td>\n",
       "      <td>7.0</td>\n",
       "    </tr>\n",
       "    <tr>\n",
       "      <th>2</th>\n",
       "      <td>7.52</td>\n",
       "      <td>21.0</td>\n",
       "      <td>5.5</td>\n",
       "    </tr>\n",
       "  </tbody>\n",
       "</table>\n",
       "</div>"
      ],
      "text/plain": [
       "     PH  Salinitas  Kecerahan\n",
       "0  7.60       20.0        7.0\n",
       "1  7.60       22.0        7.0\n",
       "2  7.52       21.0        5.5"
      ]
     },
     "execution_count": 68,
     "metadata": {},
     "output_type": "execute_result"
    }
   ],
   "source": [
    "#slicing baris ke 0 hingga 2 dan kolom 1 hingga 3\n",
    "data_kualitas_air.iloc[0:3, 1:4]"
   ]
  },
  {
   "cell_type": "markdown",
   "id": "c45a9efc",
   "metadata": {},
   "source": [
    "## loc\n",
    "### .loc['nama baris', 'nama kolom']"
   ]
  },
  {
   "cell_type": "code",
   "execution_count": 70,
   "id": "434c9bcb",
   "metadata": {},
   "outputs": [
    {
     "data": {
      "text/html": [
       "<div>\n",
       "<style scoped>\n",
       "    .dataframe tbody tr th:only-of-type {\n",
       "        vertical-align: middle;\n",
       "    }\n",
       "\n",
       "    .dataframe tbody tr th {\n",
       "        vertical-align: top;\n",
       "    }\n",
       "\n",
       "    .dataframe thead th {\n",
       "        text-align: right;\n",
       "    }\n",
       "</style>\n",
       "<table border=\"1\" class=\"dataframe\">\n",
       "  <thead>\n",
       "    <tr style=\"text-align: right;\">\n",
       "      <th></th>\n",
       "      <th>DO</th>\n",
       "      <th>PH</th>\n",
       "      <th>Salinitas</th>\n",
       "      <th>Kecerahan</th>\n",
       "      <th>Klorofil</th>\n",
       "      <th>Ammonia</th>\n",
       "      <th>Ammonium</th>\n",
       "      <th>Nitrat</th>\n",
       "      <th>Nitrit</th>\n",
       "    </tr>\n",
       "  </thead>\n",
       "  <tbody>\n",
       "    <tr>\n",
       "      <th>0</th>\n",
       "      <td>4.40</td>\n",
       "      <td>7.6</td>\n",
       "      <td>20.000000</td>\n",
       "      <td>7.000000</td>\n",
       "      <td>26.700</td>\n",
       "      <td>135.294463</td>\n",
       "      <td>841.35255</td>\n",
       "      <td>29.078347</td>\n",
       "      <td>23.062711</td>\n",
       "    </tr>\n",
       "    <tr>\n",
       "      <th>10</th>\n",
       "      <td>5.84</td>\n",
       "      <td>6.9</td>\n",
       "      <td>20.352381</td>\n",
       "      <td>5.238095</td>\n",
       "      <td>29.103</td>\n",
       "      <td>208.113440</td>\n",
       "      <td>823.44235</td>\n",
       "      <td>13.003926</td>\n",
       "      <td>23.759840</td>\n",
       "    </tr>\n",
       "  </tbody>\n",
       "</table>\n",
       "</div>"
      ],
      "text/plain": [
       "      DO   PH  Salinitas  Kecerahan  Klorofil     Ammonia   Ammonium  \\\n",
       "0   4.40  7.6  20.000000   7.000000    26.700  135.294463  841.35255   \n",
       "10  5.84  6.9  20.352381   5.238095    29.103  208.113440  823.44235   \n",
       "\n",
       "       Nitrat     Nitrit  \n",
       "0   29.078347  23.062711  \n",
       "10  13.003926  23.759840  "
      ]
     },
     "execution_count": 70,
     "metadata": {},
     "output_type": "execute_result"
    }
   ],
   "source": [
    "# pilih semua kolom pada baris ke o dan 10 \n",
    "data_kualitas_air.loc[[0, 10], :]"
   ]
  },
  {
   "cell_type": "code",
   "execution_count": 75,
   "id": "2e488d91",
   "metadata": {
    "scrolled": true
   },
   "outputs": [
    {
     "data": {
      "text/html": [
       "<div>\n",
       "<style scoped>\n",
       "    .dataframe tbody tr th:only-of-type {\n",
       "        vertical-align: middle;\n",
       "    }\n",
       "\n",
       "    .dataframe tbody tr th {\n",
       "        vertical-align: top;\n",
       "    }\n",
       "\n",
       "    .dataframe thead th {\n",
       "        text-align: right;\n",
       "    }\n",
       "</style>\n",
       "<table border=\"1\" class=\"dataframe\">\n",
       "  <thead>\n",
       "    <tr style=\"text-align: right;\">\n",
       "      <th></th>\n",
       "      <th>Salinitas</th>\n",
       "      <th>Klorofil</th>\n",
       "      <th>Nitrat</th>\n",
       "    </tr>\n",
       "  </thead>\n",
       "  <tbody>\n",
       "    <tr>\n",
       "      <th>3</th>\n",
       "      <td>21.000000</td>\n",
       "      <td>2.670</td>\n",
       "      <td>1.715993</td>\n",
       "    </tr>\n",
       "    <tr>\n",
       "      <th>5</th>\n",
       "      <td>21.000000</td>\n",
       "      <td>2.670</td>\n",
       "      <td>18.482410</td>\n",
       "    </tr>\n",
       "    <tr>\n",
       "      <th>10</th>\n",
       "      <td>20.352381</td>\n",
       "      <td>29.103</td>\n",
       "      <td>13.003926</td>\n",
       "    </tr>\n",
       "    <tr>\n",
       "      <th>12</th>\n",
       "      <td>20.238095</td>\n",
       "      <td>38.181</td>\n",
       "      <td>14.108562</td>\n",
       "    </tr>\n",
       "    <tr>\n",
       "      <th>13</th>\n",
       "      <td>20.180952</td>\n",
       "      <td>42.720</td>\n",
       "      <td>14.660880</td>\n",
       "    </tr>\n",
       "  </tbody>\n",
       "</table>\n",
       "</div>"
      ],
      "text/plain": [
       "    Salinitas  Klorofil     Nitrat\n",
       "3   21.000000     2.670   1.715993\n",
       "5   21.000000     2.670  18.482410\n",
       "10  20.352381    29.103  13.003926\n",
       "12  20.238095    38.181  14.108562\n",
       "13  20.180952    42.720  14.660880"
      ]
     },
     "execution_count": 75,
     "metadata": {},
     "output_type": "execute_result"
    }
   ],
   "source": [
    "#Pilih baris ke 3,5,10,12,13 pada kolom Salinitas, Klorofil, Nitrat\n",
    "data_kualitas_air.loc[[3,5,10,12,13],['Salinitas', 'Klorofil', 'Nitrat']]"
   ]
  },
  {
   "cell_type": "code",
   "execution_count": 22,
   "id": "fa639991",
   "metadata": {},
   "outputs": [
    {
     "data": {
      "text/html": [
       "<div>\n",
       "<style scoped>\n",
       "    .dataframe tbody tr th:only-of-type {\n",
       "        vertical-align: middle;\n",
       "    }\n",
       "\n",
       "    .dataframe tbody tr th {\n",
       "        vertical-align: top;\n",
       "    }\n",
       "\n",
       "    .dataframe thead th {\n",
       "        text-align: right;\n",
       "    }\n",
       "</style>\n",
       "<table border=\"1\" class=\"dataframe\">\n",
       "  <thead>\n",
       "    <tr style=\"text-align: right;\">\n",
       "      <th></th>\n",
       "      <th>DO</th>\n",
       "      <th>PH</th>\n",
       "      <th>Salinitas</th>\n",
       "      <th>Klorofil</th>\n",
       "      <th>Ammonia</th>\n",
       "      <th>Ammonium</th>\n",
       "      <th>Nitrat</th>\n",
       "      <th>Nitrit</th>\n",
       "    </tr>\n",
       "  </thead>\n",
       "  <tbody>\n",
       "    <tr>\n",
       "      <th>0</th>\n",
       "      <td>4.40</td>\n",
       "      <td>7.60</td>\n",
       "      <td>20.000000</td>\n",
       "      <td>26.700</td>\n",
       "      <td>135.294463</td>\n",
       "      <td>841.352550</td>\n",
       "      <td>29.078347</td>\n",
       "      <td>23.062711</td>\n",
       "    </tr>\n",
       "    <tr>\n",
       "      <th>1</th>\n",
       "      <td>4.40</td>\n",
       "      <td>7.60</td>\n",
       "      <td>22.000000</td>\n",
       "      <td>13.350</td>\n",
       "      <td>79.320063</td>\n",
       "      <td>878.159645</td>\n",
       "      <td>15.497162</td>\n",
       "      <td>23.127921</td>\n",
       "    </tr>\n",
       "    <tr>\n",
       "      <th>2</th>\n",
       "      <td>3.20</td>\n",
       "      <td>7.52</td>\n",
       "      <td>21.000000</td>\n",
       "      <td>2.670</td>\n",
       "      <td>79.284834</td>\n",
       "      <td>892.572062</td>\n",
       "      <td>8.612223</td>\n",
       "      <td>23.019237</td>\n",
       "    </tr>\n",
       "    <tr>\n",
       "      <th>3</th>\n",
       "      <td>3.20</td>\n",
       "      <td>7.52</td>\n",
       "      <td>21.000000</td>\n",
       "      <td>2.670</td>\n",
       "      <td>110.187306</td>\n",
       "      <td>804.157428</td>\n",
       "      <td>1.715993</td>\n",
       "      <td>23.345289</td>\n",
       "    </tr>\n",
       "    <tr>\n",
       "      <th>4</th>\n",
       "      <td>3.30</td>\n",
       "      <td>7.50</td>\n",
       "      <td>20.000000</td>\n",
       "      <td>5.340</td>\n",
       "      <td>171.992249</td>\n",
       "      <td>847.283814</td>\n",
       "      <td>0.653174</td>\n",
       "      <td>22.997500</td>\n",
       "    </tr>\n",
       "    <tr>\n",
       "      <th>5</th>\n",
       "      <td>2.35</td>\n",
       "      <td>6.90</td>\n",
       "      <td>21.000000</td>\n",
       "      <td>2.670</td>\n",
       "      <td>121.777934</td>\n",
       "      <td>846.840355</td>\n",
       "      <td>18.482410</td>\n",
       "      <td>22.975764</td>\n",
       "    </tr>\n",
       "    <tr>\n",
       "      <th>6</th>\n",
       "      <td>2.32</td>\n",
       "      <td>7.42</td>\n",
       "      <td>20.000000</td>\n",
       "      <td>8.010</td>\n",
       "      <td>150.748635</td>\n",
       "      <td>812.084257</td>\n",
       "      <td>6.193059</td>\n",
       "      <td>23.019237</td>\n",
       "    </tr>\n",
       "    <tr>\n",
       "      <th>7</th>\n",
       "      <td>3.20</td>\n",
       "      <td>7.52</td>\n",
       "      <td>21.000000</td>\n",
       "      <td>18.690</td>\n",
       "      <td>181.651107</td>\n",
       "      <td>847.727273</td>\n",
       "      <td>16.676101</td>\n",
       "      <td>24.084339</td>\n",
       "    </tr>\n",
       "    <tr>\n",
       "      <th>8</th>\n",
       "      <td>4.08</td>\n",
       "      <td>7.90</td>\n",
       "      <td>20.466667</td>\n",
       "      <td>20.025</td>\n",
       "      <td>183.776643</td>\n",
       "      <td>830.127494</td>\n",
       "      <td>11.899290</td>\n",
       "      <td>23.581288</td>\n",
       "    </tr>\n",
       "    <tr>\n",
       "      <th>9</th>\n",
       "      <td>4.96</td>\n",
       "      <td>7.50</td>\n",
       "      <td>20.409524</td>\n",
       "      <td>24.564</td>\n",
       "      <td>195.945041</td>\n",
       "      <td>826.784922</td>\n",
       "      <td>12.451608</td>\n",
       "      <td>23.670564</td>\n",
       "    </tr>\n",
       "    <tr>\n",
       "      <th>10</th>\n",
       "      <td>5.84</td>\n",
       "      <td>6.90</td>\n",
       "      <td>20.352381</td>\n",
       "      <td>29.103</td>\n",
       "      <td>208.113440</td>\n",
       "      <td>823.442350</td>\n",
       "      <td>13.003926</td>\n",
       "      <td>23.759840</td>\n",
       "    </tr>\n",
       "    <tr>\n",
       "      <th>11</th>\n",
       "      <td>6.72</td>\n",
       "      <td>7.42</td>\n",
       "      <td>20.295238</td>\n",
       "      <td>33.642</td>\n",
       "      <td>220.281839</td>\n",
       "      <td>820.099778</td>\n",
       "      <td>13.556244</td>\n",
       "      <td>23.849116</td>\n",
       "    </tr>\n",
       "    <tr>\n",
       "      <th>12</th>\n",
       "      <td>7.60</td>\n",
       "      <td>7.52</td>\n",
       "      <td>20.238095</td>\n",
       "      <td>38.181</td>\n",
       "      <td>232.450238</td>\n",
       "      <td>816.757206</td>\n",
       "      <td>14.108562</td>\n",
       "      <td>23.938392</td>\n",
       "    </tr>\n",
       "    <tr>\n",
       "      <th>13</th>\n",
       "      <td>8.48</td>\n",
       "      <td>7.90</td>\n",
       "      <td>20.180952</td>\n",
       "      <td>42.720</td>\n",
       "      <td>244.618637</td>\n",
       "      <td>813.414634</td>\n",
       "      <td>14.660880</td>\n",
       "      <td>24.027668</td>\n",
       "    </tr>\n",
       "  </tbody>\n",
       "</table>\n",
       "</div>"
      ],
      "text/plain": [
       "      DO    PH  Salinitas  Klorofil     Ammonia    Ammonium     Nitrat  \\\n",
       "0   4.40  7.60  20.000000    26.700  135.294463  841.352550  29.078347   \n",
       "1   4.40  7.60  22.000000    13.350   79.320063  878.159645  15.497162   \n",
       "2   3.20  7.52  21.000000     2.670   79.284834  892.572062   8.612223   \n",
       "3   3.20  7.52  21.000000     2.670  110.187306  804.157428   1.715993   \n",
       "4   3.30  7.50  20.000000     5.340  171.992249  847.283814   0.653174   \n",
       "5   2.35  6.90  21.000000     2.670  121.777934  846.840355  18.482410   \n",
       "6   2.32  7.42  20.000000     8.010  150.748635  812.084257   6.193059   \n",
       "7   3.20  7.52  21.000000    18.690  181.651107  847.727273  16.676101   \n",
       "8   4.08  7.90  20.466667    20.025  183.776643  830.127494  11.899290   \n",
       "9   4.96  7.50  20.409524    24.564  195.945041  826.784922  12.451608   \n",
       "10  5.84  6.90  20.352381    29.103  208.113440  823.442350  13.003926   \n",
       "11  6.72  7.42  20.295238    33.642  220.281839  820.099778  13.556244   \n",
       "12  7.60  7.52  20.238095    38.181  232.450238  816.757206  14.108562   \n",
       "13  8.48  7.90  20.180952    42.720  244.618637  813.414634  14.660880   \n",
       "\n",
       "       Nitrit  \n",
       "0   23.062711  \n",
       "1   23.127921  \n",
       "2   23.019237  \n",
       "3   23.345289  \n",
       "4   22.997500  \n",
       "5   22.975764  \n",
       "6   23.019237  \n",
       "7   24.084339  \n",
       "8   23.581288  \n",
       "9   23.670564  \n",
       "10  23.759840  \n",
       "11  23.849116  \n",
       "12  23.938392  \n",
       "13  24.027668  "
      ]
     },
     "execution_count": 22,
     "metadata": {},
     "output_type": "execute_result"
    }
   ],
   "source": [
    "#mengapus kolom kecerahan menggunakan .drop\n",
    "#axis 0 = baris, axis 1 adalah kolom\n",
    "data_kualitas_air.drop('Kecerahan', axis=1)\n",
    "data_kualitas_air.drop('Kecerahan', axis=1,  inplace=True) #menghapus tanpa harus reassingment\n"
   ]
  },
  {
   "cell_type": "code",
   "execution_count": 27,
   "id": "3cdf6f59",
   "metadata": {},
   "outputs": [
    {
     "data": {
      "text/html": [
       "<div>\n",
       "<style scoped>\n",
       "    .dataframe tbody tr th:only-of-type {\n",
       "        vertical-align: middle;\n",
       "    }\n",
       "\n",
       "    .dataframe tbody tr th {\n",
       "        vertical-align: top;\n",
       "    }\n",
       "\n",
       "    .dataframe thead th {\n",
       "        text-align: right;\n",
       "    }\n",
       "</style>\n",
       "<table border=\"1\" class=\"dataframe\">\n",
       "  <thead>\n",
       "    <tr style=\"text-align: right;\">\n",
       "      <th></th>\n",
       "      <th>DO</th>\n",
       "      <th>PH</th>\n",
       "      <th>Salinitas</th>\n",
       "      <th>Kecerahan</th>\n",
       "      <th>Klorofil</th>\n",
       "      <th>Ammonia</th>\n",
       "      <th>Ammonium</th>\n",
       "      <th>Nitrat</th>\n",
       "      <th>Nitrit</th>\n",
       "    </tr>\n",
       "  </thead>\n",
       "  <tbody>\n",
       "    <tr>\n",
       "      <th>0</th>\n",
       "      <td>4.40</td>\n",
       "      <td>7.60</td>\n",
       "      <td>20.000000</td>\n",
       "      <td>7.000000</td>\n",
       "      <td>26.700</td>\n",
       "      <td>135.294463</td>\n",
       "      <td>841.352550</td>\n",
       "      <td>29.078347</td>\n",
       "      <td>23.062711</td>\n",
       "    </tr>\n",
       "    <tr>\n",
       "      <th>1</th>\n",
       "      <td>4.40</td>\n",
       "      <td>7.60</td>\n",
       "      <td>22.000000</td>\n",
       "      <td>7.000000</td>\n",
       "      <td>13.350</td>\n",
       "      <td>79.320063</td>\n",
       "      <td>878.159645</td>\n",
       "      <td>15.497162</td>\n",
       "      <td>23.127921</td>\n",
       "    </tr>\n",
       "    <tr>\n",
       "      <th>3</th>\n",
       "      <td>3.20</td>\n",
       "      <td>7.52</td>\n",
       "      <td>21.000000</td>\n",
       "      <td>5.500000</td>\n",
       "      <td>2.670</td>\n",
       "      <td>110.187306</td>\n",
       "      <td>804.157428</td>\n",
       "      <td>1.715993</td>\n",
       "      <td>23.345289</td>\n",
       "    </tr>\n",
       "    <tr>\n",
       "      <th>4</th>\n",
       "      <td>3.30</td>\n",
       "      <td>7.50</td>\n",
       "      <td>20.000000</td>\n",
       "      <td>9.500000</td>\n",
       "      <td>5.340</td>\n",
       "      <td>171.992249</td>\n",
       "      <td>847.283814</td>\n",
       "      <td>0.653174</td>\n",
       "      <td>22.997500</td>\n",
       "    </tr>\n",
       "    <tr>\n",
       "      <th>5</th>\n",
       "      <td>2.35</td>\n",
       "      <td>6.90</td>\n",
       "      <td>21.000000</td>\n",
       "      <td>9.500000</td>\n",
       "      <td>2.670</td>\n",
       "      <td>121.777934</td>\n",
       "      <td>846.840355</td>\n",
       "      <td>18.482410</td>\n",
       "      <td>22.975764</td>\n",
       "    </tr>\n",
       "    <tr>\n",
       "      <th>6</th>\n",
       "      <td>2.32</td>\n",
       "      <td>7.42</td>\n",
       "      <td>20.000000</td>\n",
       "      <td>3.000000</td>\n",
       "      <td>8.010</td>\n",
       "      <td>150.748635</td>\n",
       "      <td>812.084257</td>\n",
       "      <td>6.193059</td>\n",
       "      <td>23.019237</td>\n",
       "    </tr>\n",
       "    <tr>\n",
       "      <th>7</th>\n",
       "      <td>3.20</td>\n",
       "      <td>7.52</td>\n",
       "      <td>21.000000</td>\n",
       "      <td>5.500000</td>\n",
       "      <td>18.690</td>\n",
       "      <td>181.651107</td>\n",
       "      <td>847.727273</td>\n",
       "      <td>16.676101</td>\n",
       "      <td>24.084339</td>\n",
       "    </tr>\n",
       "    <tr>\n",
       "      <th>8</th>\n",
       "      <td>4.08</td>\n",
       "      <td>7.90</td>\n",
       "      <td>20.466667</td>\n",
       "      <td>5.666667</td>\n",
       "      <td>20.025</td>\n",
       "      <td>183.776643</td>\n",
       "      <td>830.127494</td>\n",
       "      <td>11.899290</td>\n",
       "      <td>23.581288</td>\n",
       "    </tr>\n",
       "    <tr>\n",
       "      <th>9</th>\n",
       "      <td>4.96</td>\n",
       "      <td>7.50</td>\n",
       "      <td>20.409524</td>\n",
       "      <td>5.452381</td>\n",
       "      <td>24.564</td>\n",
       "      <td>195.945041</td>\n",
       "      <td>826.784922</td>\n",
       "      <td>12.451608</td>\n",
       "      <td>23.670564</td>\n",
       "    </tr>\n",
       "    <tr>\n",
       "      <th>10</th>\n",
       "      <td>5.84</td>\n",
       "      <td>6.90</td>\n",
       "      <td>20.352381</td>\n",
       "      <td>5.238095</td>\n",
       "      <td>29.103</td>\n",
       "      <td>208.113440</td>\n",
       "      <td>823.442350</td>\n",
       "      <td>13.003926</td>\n",
       "      <td>23.759840</td>\n",
       "    </tr>\n",
       "    <tr>\n",
       "      <th>11</th>\n",
       "      <td>6.72</td>\n",
       "      <td>7.42</td>\n",
       "      <td>20.295238</td>\n",
       "      <td>5.023810</td>\n",
       "      <td>33.642</td>\n",
       "      <td>220.281839</td>\n",
       "      <td>820.099778</td>\n",
       "      <td>13.556244</td>\n",
       "      <td>23.849116</td>\n",
       "    </tr>\n",
       "    <tr>\n",
       "      <th>12</th>\n",
       "      <td>7.60</td>\n",
       "      <td>7.52</td>\n",
       "      <td>20.238095</td>\n",
       "      <td>4.809524</td>\n",
       "      <td>38.181</td>\n",
       "      <td>232.450238</td>\n",
       "      <td>816.757206</td>\n",
       "      <td>14.108562</td>\n",
       "      <td>23.938392</td>\n",
       "    </tr>\n",
       "    <tr>\n",
       "      <th>13</th>\n",
       "      <td>8.48</td>\n",
       "      <td>7.90</td>\n",
       "      <td>20.180952</td>\n",
       "      <td>4.595238</td>\n",
       "      <td>42.720</td>\n",
       "      <td>244.618637</td>\n",
       "      <td>813.414634</td>\n",
       "      <td>14.660880</td>\n",
       "      <td>24.027668</td>\n",
       "    </tr>\n",
       "  </tbody>\n",
       "</table>\n",
       "</div>"
      ],
      "text/plain": [
       "      DO    PH  Salinitas  Kecerahan  Klorofil     Ammonia    Ammonium  \\\n",
       "0   4.40  7.60  20.000000   7.000000    26.700  135.294463  841.352550   \n",
       "1   4.40  7.60  22.000000   7.000000    13.350   79.320063  878.159645   \n",
       "3   3.20  7.52  21.000000   5.500000     2.670  110.187306  804.157428   \n",
       "4   3.30  7.50  20.000000   9.500000     5.340  171.992249  847.283814   \n",
       "5   2.35  6.90  21.000000   9.500000     2.670  121.777934  846.840355   \n",
       "6   2.32  7.42  20.000000   3.000000     8.010  150.748635  812.084257   \n",
       "7   3.20  7.52  21.000000   5.500000    18.690  181.651107  847.727273   \n",
       "8   4.08  7.90  20.466667   5.666667    20.025  183.776643  830.127494   \n",
       "9   4.96  7.50  20.409524   5.452381    24.564  195.945041  826.784922   \n",
       "10  5.84  6.90  20.352381   5.238095    29.103  208.113440  823.442350   \n",
       "11  6.72  7.42  20.295238   5.023810    33.642  220.281839  820.099778   \n",
       "12  7.60  7.52  20.238095   4.809524    38.181  232.450238  816.757206   \n",
       "13  8.48  7.90  20.180952   4.595238    42.720  244.618637  813.414634   \n",
       "\n",
       "       Nitrat     Nitrit  \n",
       "0   29.078347  23.062711  \n",
       "1   15.497162  23.127921  \n",
       "3    1.715993  23.345289  \n",
       "4    0.653174  22.997500  \n",
       "5   18.482410  22.975764  \n",
       "6    6.193059  23.019237  \n",
       "7   16.676101  24.084339  \n",
       "8   11.899290  23.581288  \n",
       "9   12.451608  23.670564  \n",
       "10  13.003926  23.759840  \n",
       "11  13.556244  23.849116  \n",
       "12  14.108562  23.938392  \n",
       "13  14.660880  24.027668  "
      ]
     },
     "execution_count": 27,
     "metadata": {},
     "output_type": "execute_result"
    }
   ],
   "source": [
    "#menghapus baris\n",
    "data_kualitas_air.drop([2], axis=0)"
   ]
  },
  {
   "cell_type": "markdown",
   "id": "553f0936",
   "metadata": {},
   "source": [
    "## **sorting pada data frame**"
   ]
  },
  {
   "cell_type": "code",
   "execution_count": 79,
   "id": "2b129489",
   "metadata": {},
   "outputs": [
    {
     "data": {
      "text/html": [
       "<div>\n",
       "<style scoped>\n",
       "    .dataframe tbody tr th:only-of-type {\n",
       "        vertical-align: middle;\n",
       "    }\n",
       "\n",
       "    .dataframe tbody tr th {\n",
       "        vertical-align: top;\n",
       "    }\n",
       "\n",
       "    .dataframe thead th {\n",
       "        text-align: right;\n",
       "    }\n",
       "</style>\n",
       "<table border=\"1\" class=\"dataframe\">\n",
       "  <thead>\n",
       "    <tr style=\"text-align: right;\">\n",
       "      <th></th>\n",
       "      <th>DO</th>\n",
       "      <th>PH</th>\n",
       "      <th>Salinitas</th>\n",
       "      <th>Kecerahan</th>\n",
       "      <th>Klorofil</th>\n",
       "      <th>Ammonia</th>\n",
       "      <th>Ammonium</th>\n",
       "      <th>Nitrat</th>\n",
       "      <th>Nitrit</th>\n",
       "    </tr>\n",
       "  </thead>\n",
       "  <tbody>\n",
       "    <tr>\n",
       "      <th>6</th>\n",
       "      <td>2.32</td>\n",
       "      <td>7.42</td>\n",
       "      <td>20.000000</td>\n",
       "      <td>3.000000</td>\n",
       "      <td>8.010</td>\n",
       "      <td>150.748635</td>\n",
       "      <td>812.084257</td>\n",
       "      <td>6.193059</td>\n",
       "      <td>23.019237</td>\n",
       "    </tr>\n",
       "    <tr>\n",
       "      <th>5</th>\n",
       "      <td>2.35</td>\n",
       "      <td>6.90</td>\n",
       "      <td>21.000000</td>\n",
       "      <td>9.500000</td>\n",
       "      <td>2.670</td>\n",
       "      <td>121.777934</td>\n",
       "      <td>846.840355</td>\n",
       "      <td>18.482410</td>\n",
       "      <td>22.975764</td>\n",
       "    </tr>\n",
       "    <tr>\n",
       "      <th>2</th>\n",
       "      <td>3.20</td>\n",
       "      <td>7.52</td>\n",
       "      <td>21.000000</td>\n",
       "      <td>5.500000</td>\n",
       "      <td>2.670</td>\n",
       "      <td>79.284834</td>\n",
       "      <td>892.572062</td>\n",
       "      <td>8.612223</td>\n",
       "      <td>23.019237</td>\n",
       "    </tr>\n",
       "    <tr>\n",
       "      <th>3</th>\n",
       "      <td>3.20</td>\n",
       "      <td>7.52</td>\n",
       "      <td>21.000000</td>\n",
       "      <td>5.500000</td>\n",
       "      <td>2.670</td>\n",
       "      <td>110.187306</td>\n",
       "      <td>804.157428</td>\n",
       "      <td>1.715993</td>\n",
       "      <td>23.345289</td>\n",
       "    </tr>\n",
       "    <tr>\n",
       "      <th>7</th>\n",
       "      <td>3.20</td>\n",
       "      <td>7.52</td>\n",
       "      <td>21.000000</td>\n",
       "      <td>5.500000</td>\n",
       "      <td>18.690</td>\n",
       "      <td>181.651107</td>\n",
       "      <td>847.727273</td>\n",
       "      <td>16.676101</td>\n",
       "      <td>24.084339</td>\n",
       "    </tr>\n",
       "    <tr>\n",
       "      <th>4</th>\n",
       "      <td>3.30</td>\n",
       "      <td>7.50</td>\n",
       "      <td>20.000000</td>\n",
       "      <td>9.500000</td>\n",
       "      <td>5.340</td>\n",
       "      <td>171.992249</td>\n",
       "      <td>847.283814</td>\n",
       "      <td>0.653174</td>\n",
       "      <td>22.997500</td>\n",
       "    </tr>\n",
       "    <tr>\n",
       "      <th>8</th>\n",
       "      <td>4.08</td>\n",
       "      <td>7.90</td>\n",
       "      <td>20.466667</td>\n",
       "      <td>5.666667</td>\n",
       "      <td>20.025</td>\n",
       "      <td>183.776643</td>\n",
       "      <td>830.127494</td>\n",
       "      <td>11.899290</td>\n",
       "      <td>23.581288</td>\n",
       "    </tr>\n",
       "    <tr>\n",
       "      <th>0</th>\n",
       "      <td>4.40</td>\n",
       "      <td>7.60</td>\n",
       "      <td>20.000000</td>\n",
       "      <td>7.000000</td>\n",
       "      <td>26.700</td>\n",
       "      <td>135.294463</td>\n",
       "      <td>841.352550</td>\n",
       "      <td>29.078347</td>\n",
       "      <td>23.062711</td>\n",
       "    </tr>\n",
       "    <tr>\n",
       "      <th>1</th>\n",
       "      <td>4.40</td>\n",
       "      <td>7.60</td>\n",
       "      <td>22.000000</td>\n",
       "      <td>7.000000</td>\n",
       "      <td>13.350</td>\n",
       "      <td>79.320063</td>\n",
       "      <td>878.159645</td>\n",
       "      <td>15.497162</td>\n",
       "      <td>23.127921</td>\n",
       "    </tr>\n",
       "    <tr>\n",
       "      <th>9</th>\n",
       "      <td>4.96</td>\n",
       "      <td>7.50</td>\n",
       "      <td>20.409524</td>\n",
       "      <td>5.452381</td>\n",
       "      <td>24.564</td>\n",
       "      <td>195.945041</td>\n",
       "      <td>826.784922</td>\n",
       "      <td>12.451608</td>\n",
       "      <td>23.670564</td>\n",
       "    </tr>\n",
       "    <tr>\n",
       "      <th>10</th>\n",
       "      <td>5.84</td>\n",
       "      <td>6.90</td>\n",
       "      <td>20.352381</td>\n",
       "      <td>5.238095</td>\n",
       "      <td>29.103</td>\n",
       "      <td>208.113440</td>\n",
       "      <td>823.442350</td>\n",
       "      <td>13.003926</td>\n",
       "      <td>23.759840</td>\n",
       "    </tr>\n",
       "    <tr>\n",
       "      <th>11</th>\n",
       "      <td>6.72</td>\n",
       "      <td>7.42</td>\n",
       "      <td>20.295238</td>\n",
       "      <td>5.023810</td>\n",
       "      <td>33.642</td>\n",
       "      <td>220.281839</td>\n",
       "      <td>820.099778</td>\n",
       "      <td>13.556244</td>\n",
       "      <td>23.849116</td>\n",
       "    </tr>\n",
       "    <tr>\n",
       "      <th>12</th>\n",
       "      <td>7.60</td>\n",
       "      <td>7.52</td>\n",
       "      <td>20.238095</td>\n",
       "      <td>4.809524</td>\n",
       "      <td>38.181</td>\n",
       "      <td>232.450238</td>\n",
       "      <td>816.757206</td>\n",
       "      <td>14.108562</td>\n",
       "      <td>23.938392</td>\n",
       "    </tr>\n",
       "    <tr>\n",
       "      <th>13</th>\n",
       "      <td>8.48</td>\n",
       "      <td>7.90</td>\n",
       "      <td>20.180952</td>\n",
       "      <td>4.595238</td>\n",
       "      <td>42.720</td>\n",
       "      <td>244.618637</td>\n",
       "      <td>813.414634</td>\n",
       "      <td>14.660880</td>\n",
       "      <td>24.027668</td>\n",
       "    </tr>\n",
       "  </tbody>\n",
       "</table>\n",
       "</div>"
      ],
      "text/plain": [
       "      DO    PH  Salinitas  Kecerahan  Klorofil     Ammonia    Ammonium  \\\n",
       "6   2.32  7.42  20.000000   3.000000     8.010  150.748635  812.084257   \n",
       "5   2.35  6.90  21.000000   9.500000     2.670  121.777934  846.840355   \n",
       "2   3.20  7.52  21.000000   5.500000     2.670   79.284834  892.572062   \n",
       "3   3.20  7.52  21.000000   5.500000     2.670  110.187306  804.157428   \n",
       "7   3.20  7.52  21.000000   5.500000    18.690  181.651107  847.727273   \n",
       "4   3.30  7.50  20.000000   9.500000     5.340  171.992249  847.283814   \n",
       "8   4.08  7.90  20.466667   5.666667    20.025  183.776643  830.127494   \n",
       "0   4.40  7.60  20.000000   7.000000    26.700  135.294463  841.352550   \n",
       "1   4.40  7.60  22.000000   7.000000    13.350   79.320063  878.159645   \n",
       "9   4.96  7.50  20.409524   5.452381    24.564  195.945041  826.784922   \n",
       "10  5.84  6.90  20.352381   5.238095    29.103  208.113440  823.442350   \n",
       "11  6.72  7.42  20.295238   5.023810    33.642  220.281839  820.099778   \n",
       "12  7.60  7.52  20.238095   4.809524    38.181  232.450238  816.757206   \n",
       "13  8.48  7.90  20.180952   4.595238    42.720  244.618637  813.414634   \n",
       "\n",
       "       Nitrat     Nitrit  \n",
       "6    6.193059  23.019237  \n",
       "5   18.482410  22.975764  \n",
       "2    8.612223  23.019237  \n",
       "3    1.715993  23.345289  \n",
       "7   16.676101  24.084339  \n",
       "4    0.653174  22.997500  \n",
       "8   11.899290  23.581288  \n",
       "0   29.078347  23.062711  \n",
       "1   15.497162  23.127921  \n",
       "9   12.451608  23.670564  \n",
       "10  13.003926  23.759840  \n",
       "11  13.556244  23.849116  \n",
       "12  14.108562  23.938392  \n",
       "13  14.660880  24.027668  "
      ]
     },
     "execution_count": 79,
     "metadata": {},
     "output_type": "execute_result"
    }
   ],
   "source": [
    "#sorting berdasarkan kolom DO\n",
    "data_kualitas_air.sort_values(by=['DO'])"
   ]
  },
  {
   "cell_type": "code",
   "execution_count": 81,
   "id": "616c79dd",
   "metadata": {},
   "outputs": [
    {
     "data": {
      "text/html": [
       "<div>\n",
       "<style scoped>\n",
       "    .dataframe tbody tr th:only-of-type {\n",
       "        vertical-align: middle;\n",
       "    }\n",
       "\n",
       "    .dataframe tbody tr th {\n",
       "        vertical-align: top;\n",
       "    }\n",
       "\n",
       "    .dataframe thead th {\n",
       "        text-align: right;\n",
       "    }\n",
       "</style>\n",
       "<table border=\"1\" class=\"dataframe\">\n",
       "  <thead>\n",
       "    <tr style=\"text-align: right;\">\n",
       "      <th></th>\n",
       "      <th>DO</th>\n",
       "      <th>PH</th>\n",
       "      <th>Salinitas</th>\n",
       "      <th>Kecerahan</th>\n",
       "      <th>Klorofil</th>\n",
       "      <th>Ammonia</th>\n",
       "      <th>Ammonium</th>\n",
       "      <th>Nitrat</th>\n",
       "      <th>Nitrit</th>\n",
       "    </tr>\n",
       "  </thead>\n",
       "  <tbody>\n",
       "    <tr>\n",
       "      <th>8</th>\n",
       "      <td>4.08</td>\n",
       "      <td>7.90</td>\n",
       "      <td>20.466667</td>\n",
       "      <td>5.666667</td>\n",
       "      <td>20.025</td>\n",
       "      <td>183.776643</td>\n",
       "      <td>830.127494</td>\n",
       "      <td>11.899290</td>\n",
       "      <td>23.581288</td>\n",
       "    </tr>\n",
       "    <tr>\n",
       "      <th>13</th>\n",
       "      <td>8.48</td>\n",
       "      <td>7.90</td>\n",
       "      <td>20.180952</td>\n",
       "      <td>4.595238</td>\n",
       "      <td>42.720</td>\n",
       "      <td>244.618637</td>\n",
       "      <td>813.414634</td>\n",
       "      <td>14.660880</td>\n",
       "      <td>24.027668</td>\n",
       "    </tr>\n",
       "    <tr>\n",
       "      <th>0</th>\n",
       "      <td>4.40</td>\n",
       "      <td>7.60</td>\n",
       "      <td>20.000000</td>\n",
       "      <td>7.000000</td>\n",
       "      <td>26.700</td>\n",
       "      <td>135.294463</td>\n",
       "      <td>841.352550</td>\n",
       "      <td>29.078347</td>\n",
       "      <td>23.062711</td>\n",
       "    </tr>\n",
       "    <tr>\n",
       "      <th>1</th>\n",
       "      <td>4.40</td>\n",
       "      <td>7.60</td>\n",
       "      <td>22.000000</td>\n",
       "      <td>7.000000</td>\n",
       "      <td>13.350</td>\n",
       "      <td>79.320063</td>\n",
       "      <td>878.159645</td>\n",
       "      <td>15.497162</td>\n",
       "      <td>23.127921</td>\n",
       "    </tr>\n",
       "    <tr>\n",
       "      <th>2</th>\n",
       "      <td>3.20</td>\n",
       "      <td>7.52</td>\n",
       "      <td>21.000000</td>\n",
       "      <td>5.500000</td>\n",
       "      <td>2.670</td>\n",
       "      <td>79.284834</td>\n",
       "      <td>892.572062</td>\n",
       "      <td>8.612223</td>\n",
       "      <td>23.019237</td>\n",
       "    </tr>\n",
       "    <tr>\n",
       "      <th>3</th>\n",
       "      <td>3.20</td>\n",
       "      <td>7.52</td>\n",
       "      <td>21.000000</td>\n",
       "      <td>5.500000</td>\n",
       "      <td>2.670</td>\n",
       "      <td>110.187306</td>\n",
       "      <td>804.157428</td>\n",
       "      <td>1.715993</td>\n",
       "      <td>23.345289</td>\n",
       "    </tr>\n",
       "    <tr>\n",
       "      <th>7</th>\n",
       "      <td>3.20</td>\n",
       "      <td>7.52</td>\n",
       "      <td>21.000000</td>\n",
       "      <td>5.500000</td>\n",
       "      <td>18.690</td>\n",
       "      <td>181.651107</td>\n",
       "      <td>847.727273</td>\n",
       "      <td>16.676101</td>\n",
       "      <td>24.084339</td>\n",
       "    </tr>\n",
       "    <tr>\n",
       "      <th>12</th>\n",
       "      <td>7.60</td>\n",
       "      <td>7.52</td>\n",
       "      <td>20.238095</td>\n",
       "      <td>4.809524</td>\n",
       "      <td>38.181</td>\n",
       "      <td>232.450238</td>\n",
       "      <td>816.757206</td>\n",
       "      <td>14.108562</td>\n",
       "      <td>23.938392</td>\n",
       "    </tr>\n",
       "    <tr>\n",
       "      <th>4</th>\n",
       "      <td>3.30</td>\n",
       "      <td>7.50</td>\n",
       "      <td>20.000000</td>\n",
       "      <td>9.500000</td>\n",
       "      <td>5.340</td>\n",
       "      <td>171.992249</td>\n",
       "      <td>847.283814</td>\n",
       "      <td>0.653174</td>\n",
       "      <td>22.997500</td>\n",
       "    </tr>\n",
       "    <tr>\n",
       "      <th>9</th>\n",
       "      <td>4.96</td>\n",
       "      <td>7.50</td>\n",
       "      <td>20.409524</td>\n",
       "      <td>5.452381</td>\n",
       "      <td>24.564</td>\n",
       "      <td>195.945041</td>\n",
       "      <td>826.784922</td>\n",
       "      <td>12.451608</td>\n",
       "      <td>23.670564</td>\n",
       "    </tr>\n",
       "    <tr>\n",
       "      <th>6</th>\n",
       "      <td>2.32</td>\n",
       "      <td>7.42</td>\n",
       "      <td>20.000000</td>\n",
       "      <td>3.000000</td>\n",
       "      <td>8.010</td>\n",
       "      <td>150.748635</td>\n",
       "      <td>812.084257</td>\n",
       "      <td>6.193059</td>\n",
       "      <td>23.019237</td>\n",
       "    </tr>\n",
       "    <tr>\n",
       "      <th>11</th>\n",
       "      <td>6.72</td>\n",
       "      <td>7.42</td>\n",
       "      <td>20.295238</td>\n",
       "      <td>5.023810</td>\n",
       "      <td>33.642</td>\n",
       "      <td>220.281839</td>\n",
       "      <td>820.099778</td>\n",
       "      <td>13.556244</td>\n",
       "      <td>23.849116</td>\n",
       "    </tr>\n",
       "    <tr>\n",
       "      <th>5</th>\n",
       "      <td>2.35</td>\n",
       "      <td>6.90</td>\n",
       "      <td>21.000000</td>\n",
       "      <td>9.500000</td>\n",
       "      <td>2.670</td>\n",
       "      <td>121.777934</td>\n",
       "      <td>846.840355</td>\n",
       "      <td>18.482410</td>\n",
       "      <td>22.975764</td>\n",
       "    </tr>\n",
       "    <tr>\n",
       "      <th>10</th>\n",
       "      <td>5.84</td>\n",
       "      <td>6.90</td>\n",
       "      <td>20.352381</td>\n",
       "      <td>5.238095</td>\n",
       "      <td>29.103</td>\n",
       "      <td>208.113440</td>\n",
       "      <td>823.442350</td>\n",
       "      <td>13.003926</td>\n",
       "      <td>23.759840</td>\n",
       "    </tr>\n",
       "  </tbody>\n",
       "</table>\n",
       "</div>"
      ],
      "text/plain": [
       "      DO    PH  Salinitas  Kecerahan  Klorofil     Ammonia    Ammonium  \\\n",
       "8   4.08  7.90  20.466667   5.666667    20.025  183.776643  830.127494   \n",
       "13  8.48  7.90  20.180952   4.595238    42.720  244.618637  813.414634   \n",
       "0   4.40  7.60  20.000000   7.000000    26.700  135.294463  841.352550   \n",
       "1   4.40  7.60  22.000000   7.000000    13.350   79.320063  878.159645   \n",
       "2   3.20  7.52  21.000000   5.500000     2.670   79.284834  892.572062   \n",
       "3   3.20  7.52  21.000000   5.500000     2.670  110.187306  804.157428   \n",
       "7   3.20  7.52  21.000000   5.500000    18.690  181.651107  847.727273   \n",
       "12  7.60  7.52  20.238095   4.809524    38.181  232.450238  816.757206   \n",
       "4   3.30  7.50  20.000000   9.500000     5.340  171.992249  847.283814   \n",
       "9   4.96  7.50  20.409524   5.452381    24.564  195.945041  826.784922   \n",
       "6   2.32  7.42  20.000000   3.000000     8.010  150.748635  812.084257   \n",
       "11  6.72  7.42  20.295238   5.023810    33.642  220.281839  820.099778   \n",
       "5   2.35  6.90  21.000000   9.500000     2.670  121.777934  846.840355   \n",
       "10  5.84  6.90  20.352381   5.238095    29.103  208.113440  823.442350   \n",
       "\n",
       "       Nitrat     Nitrit  \n",
       "8   11.899290  23.581288  \n",
       "13  14.660880  24.027668  \n",
       "0   29.078347  23.062711  \n",
       "1   15.497162  23.127921  \n",
       "2    8.612223  23.019237  \n",
       "3    1.715993  23.345289  \n",
       "7   16.676101  24.084339  \n",
       "12  14.108562  23.938392  \n",
       "4    0.653174  22.997500  \n",
       "9   12.451608  23.670564  \n",
       "6    6.193059  23.019237  \n",
       "11  13.556244  23.849116  \n",
       "5   18.482410  22.975764  \n",
       "10  13.003926  23.759840  "
      ]
     },
     "execution_count": 81,
     "metadata": {},
     "output_type": "execute_result"
    }
   ],
   "source": [
    "#sorting berdasarkan decending kolom PH\n",
    "data_kualitas_air.sort_values(by='PH', ascending=False)"
   ]
  },
  {
   "cell_type": "code",
   "execution_count": 82,
   "id": "eafd9e91",
   "metadata": {},
   "outputs": [],
   "source": [
    "#filter data berdasarkan DO lebih dari sama dengan 5\n",
    "filter_DO = data_kualitas_air[data_kualitas_air['DO'] >= 5]"
   ]
  },
  {
   "cell_type": "code",
   "execution_count": 83,
   "id": "5348f161",
   "metadata": {},
   "outputs": [
    {
     "data": {
      "text/html": [
       "<div>\n",
       "<style scoped>\n",
       "    .dataframe tbody tr th:only-of-type {\n",
       "        vertical-align: middle;\n",
       "    }\n",
       "\n",
       "    .dataframe tbody tr th {\n",
       "        vertical-align: top;\n",
       "    }\n",
       "\n",
       "    .dataframe thead th {\n",
       "        text-align: right;\n",
       "    }\n",
       "</style>\n",
       "<table border=\"1\" class=\"dataframe\">\n",
       "  <thead>\n",
       "    <tr style=\"text-align: right;\">\n",
       "      <th></th>\n",
       "      <th>DO</th>\n",
       "      <th>PH</th>\n",
       "      <th>Salinitas</th>\n",
       "      <th>Kecerahan</th>\n",
       "      <th>Klorofil</th>\n",
       "      <th>Ammonia</th>\n",
       "      <th>Ammonium</th>\n",
       "      <th>Nitrat</th>\n",
       "      <th>Nitrit</th>\n",
       "    </tr>\n",
       "  </thead>\n",
       "  <tbody>\n",
       "    <tr>\n",
       "      <th>10</th>\n",
       "      <td>5.84</td>\n",
       "      <td>6.90</td>\n",
       "      <td>20.352381</td>\n",
       "      <td>5.238095</td>\n",
       "      <td>29.103</td>\n",
       "      <td>208.113440</td>\n",
       "      <td>823.442350</td>\n",
       "      <td>13.003926</td>\n",
       "      <td>23.759840</td>\n",
       "    </tr>\n",
       "    <tr>\n",
       "      <th>11</th>\n",
       "      <td>6.72</td>\n",
       "      <td>7.42</td>\n",
       "      <td>20.295238</td>\n",
       "      <td>5.023810</td>\n",
       "      <td>33.642</td>\n",
       "      <td>220.281839</td>\n",
       "      <td>820.099778</td>\n",
       "      <td>13.556244</td>\n",
       "      <td>23.849116</td>\n",
       "    </tr>\n",
       "    <tr>\n",
       "      <th>12</th>\n",
       "      <td>7.60</td>\n",
       "      <td>7.52</td>\n",
       "      <td>20.238095</td>\n",
       "      <td>4.809524</td>\n",
       "      <td>38.181</td>\n",
       "      <td>232.450238</td>\n",
       "      <td>816.757206</td>\n",
       "      <td>14.108562</td>\n",
       "      <td>23.938392</td>\n",
       "    </tr>\n",
       "    <tr>\n",
       "      <th>13</th>\n",
       "      <td>8.48</td>\n",
       "      <td>7.90</td>\n",
       "      <td>20.180952</td>\n",
       "      <td>4.595238</td>\n",
       "      <td>42.720</td>\n",
       "      <td>244.618637</td>\n",
       "      <td>813.414634</td>\n",
       "      <td>14.660880</td>\n",
       "      <td>24.027668</td>\n",
       "    </tr>\n",
       "  </tbody>\n",
       "</table>\n",
       "</div>"
      ],
      "text/plain": [
       "      DO    PH  Salinitas  Kecerahan  Klorofil     Ammonia    Ammonium  \\\n",
       "10  5.84  6.90  20.352381   5.238095    29.103  208.113440  823.442350   \n",
       "11  6.72  7.42  20.295238   5.023810    33.642  220.281839  820.099778   \n",
       "12  7.60  7.52  20.238095   4.809524    38.181  232.450238  816.757206   \n",
       "13  8.48  7.90  20.180952   4.595238    42.720  244.618637  813.414634   \n",
       "\n",
       "       Nitrat     Nitrit  \n",
       "10  13.003926  23.759840  \n",
       "11  13.556244  23.849116  \n",
       "12  14.108562  23.938392  \n",
       "13  14.660880  24.027668  "
      ]
     },
     "execution_count": 83,
     "metadata": {},
     "output_type": "execute_result"
    }
   ],
   "source": [
    "#Cek 5 data teratas\n",
    "filter_DO.head()"
   ]
  },
  {
   "cell_type": "code",
   "execution_count": 85,
   "id": "cb68984a",
   "metadata": {},
   "outputs": [],
   "source": [
    "#Filter data berasarkan DO lebih dari sama dengan 5 dan PH kurang dari 9\n",
    "filter_DOdanPH = data_kualitas_air[( data_kualitas_air['DO'] >= 5) & ( data_kualitas_air ['PH'] < 9)]"
   ]
  },
  {
   "cell_type": "code",
   "execution_count": 86,
   "id": "6c7a929c",
   "metadata": {
    "scrolled": true
   },
   "outputs": [
    {
     "data": {
      "text/html": [
       "<div>\n",
       "<style scoped>\n",
       "    .dataframe tbody tr th:only-of-type {\n",
       "        vertical-align: middle;\n",
       "    }\n",
       "\n",
       "    .dataframe tbody tr th {\n",
       "        vertical-align: top;\n",
       "    }\n",
       "\n",
       "    .dataframe thead th {\n",
       "        text-align: right;\n",
       "    }\n",
       "</style>\n",
       "<table border=\"1\" class=\"dataframe\">\n",
       "  <thead>\n",
       "    <tr style=\"text-align: right;\">\n",
       "      <th></th>\n",
       "      <th>DO</th>\n",
       "      <th>PH</th>\n",
       "      <th>Salinitas</th>\n",
       "      <th>Kecerahan</th>\n",
       "      <th>Klorofil</th>\n",
       "      <th>Ammonia</th>\n",
       "      <th>Ammonium</th>\n",
       "      <th>Nitrat</th>\n",
       "      <th>Nitrit</th>\n",
       "    </tr>\n",
       "  </thead>\n",
       "  <tbody>\n",
       "    <tr>\n",
       "      <th>10</th>\n",
       "      <td>5.84</td>\n",
       "      <td>6.90</td>\n",
       "      <td>20.352381</td>\n",
       "      <td>5.238095</td>\n",
       "      <td>29.103</td>\n",
       "      <td>208.113440</td>\n",
       "      <td>823.442350</td>\n",
       "      <td>13.003926</td>\n",
       "      <td>23.759840</td>\n",
       "    </tr>\n",
       "    <tr>\n",
       "      <th>11</th>\n",
       "      <td>6.72</td>\n",
       "      <td>7.42</td>\n",
       "      <td>20.295238</td>\n",
       "      <td>5.023810</td>\n",
       "      <td>33.642</td>\n",
       "      <td>220.281839</td>\n",
       "      <td>820.099778</td>\n",
       "      <td>13.556244</td>\n",
       "      <td>23.849116</td>\n",
       "    </tr>\n",
       "    <tr>\n",
       "      <th>12</th>\n",
       "      <td>7.60</td>\n",
       "      <td>7.52</td>\n",
       "      <td>20.238095</td>\n",
       "      <td>4.809524</td>\n",
       "      <td>38.181</td>\n",
       "      <td>232.450238</td>\n",
       "      <td>816.757206</td>\n",
       "      <td>14.108562</td>\n",
       "      <td>23.938392</td>\n",
       "    </tr>\n",
       "    <tr>\n",
       "      <th>13</th>\n",
       "      <td>8.48</td>\n",
       "      <td>7.90</td>\n",
       "      <td>20.180952</td>\n",
       "      <td>4.595238</td>\n",
       "      <td>42.720</td>\n",
       "      <td>244.618637</td>\n",
       "      <td>813.414634</td>\n",
       "      <td>14.660880</td>\n",
       "      <td>24.027668</td>\n",
       "    </tr>\n",
       "  </tbody>\n",
       "</table>\n",
       "</div>"
      ],
      "text/plain": [
       "      DO    PH  Salinitas  Kecerahan  Klorofil     Ammonia    Ammonium  \\\n",
       "10  5.84  6.90  20.352381   5.238095    29.103  208.113440  823.442350   \n",
       "11  6.72  7.42  20.295238   5.023810    33.642  220.281839  820.099778   \n",
       "12  7.60  7.52  20.238095   4.809524    38.181  232.450238  816.757206   \n",
       "13  8.48  7.90  20.180952   4.595238    42.720  244.618637  813.414634   \n",
       "\n",
       "       Nitrat     Nitrit  \n",
       "10  13.003926  23.759840  \n",
       "11  13.556244  23.849116  \n",
       "12  14.108562  23.938392  \n",
       "13  14.660880  24.027668  "
      ]
     },
     "execution_count": 86,
     "metadata": {},
     "output_type": "execute_result"
    }
   ],
   "source": [
    "#Cek 5 data teratas\n",
    "filter_DOdanPH.head()"
   ]
  },
  {
   "cell_type": "code",
   "execution_count": 31,
   "id": "3229ddd9",
   "metadata": {},
   "outputs": [],
   "source": [
    "import matplotlib"
   ]
  },
  {
   "cell_type": "code",
   "execution_count": 32,
   "id": "9cb9c2d8",
   "metadata": {
    "scrolled": true
   },
   "outputs": [
    {
     "data": {
      "text/plain": [
       "<AxesSubplot:>"
      ]
     },
     "execution_count": 32,
     "metadata": {},
     "output_type": "execute_result"
    },
    {
     "data": {
      "image/png": "[encoded data removed]",
      "text/plain": [
       "<Figure size 432x288 with 1 Axes>"
      ]
     },
     "metadata": {
      "needs_background": "light"
     },
     "output_type": "display_data"
    }
   ],
   "source": [
    "data_kualitas_air['PH'].hist()"
   ]
  },
  {
   "cell_type": "code",
   "execution_count": 34,
   "id": "992008fc",
   "metadata": {},
   "outputs": [
    {
     "data": {
      "text/plain": [
       "<AxesSubplot:>"
      ]
     },
     "execution_count": 34,
     "metadata": {},
     "output_type": "execute_result"
    },
    {
     "data": {
      "image/png": "[encoded data removed]",
      "text/plain": [
       "<Figure size 432x288 with 1 Axes>"
      ]
     },
     "metadata": {
      "needs_background": "light"
     },
     "output_type": "display_data"
    }
   ],
   "source": [
    "data_kualitas_air['DO'].hist()"
   ]
  },
  {
   "attachments": {
    "image_2023-01-24_053209896.png": {
     "image/png": "[encoded data removed]"
    }
   },
   "cell_type": "markdown",
   "id": "86d7b3a7",
   "metadata": {},
   "source": [
    "![image_2023-01-24_053209896.png](attachment:image_2023-01-24_053209896.png)"
   ]
  },
  {
   "attachments": {
    "image_2023-01-24_053233306.png": {
     "image/png": "[encoded data removed]"
    }
   },
   "cell_type": "markdown",
   "id": "69c8edf6",
   "metadata": {},
   "source": [
    "![image_2023-01-24_053233306.png](attachment:image_2023-01-24_053233306.png)"
   ]
  },
  {
   "cell_type": "code",
   "execution_count": 127,
   "id": "e38368d7",
   "metadata": {},
   "outputs": [],
   "source": [
    "#import numpy\n",
    "import numpy as np "
   ]
  },
  {
   "cell_type": "code",
   "execution_count": 100,
   "id": "69dfec83",
   "metadata": {},
   "outputs": [
    {
     "name": "stdout",
     "output_type": "stream",
     "text": [
      "[2 4 6 8]\n"
     ]
    }
   ],
   "source": [
    "# membuat NumPy 1D array dengan isi 2,4,6,8\n",
    "arr_1D = np.array([2,4,6,8]) \n",
    "\n",
    "print(arr_1D) # print arr_1D"
   ]
  },
  {
   "cell_type": "code",
   "execution_count": 101,
   "id": "a5c444f6",
   "metadata": {},
   "outputs": [
    {
     "name": "stdout",
     "output_type": "stream",
     "text": [
      "[[0 1 1]\n",
      " [1 0 1]\n",
      " [1 1 0]]\n"
     ]
    }
   ],
   "source": [
    "#Membuat NumPy 2 D\n",
    "arr_2D = np.array([[0, 1, 1], [1, 0, 1], [1, 1, 0]]) \n",
    "\n",
    "print(arr_2D) # print arr_2D"
   ]
  },
  {
   "cell_type": "code",
   "execution_count": 106,
   "id": "53788d7b",
   "metadata": {
    "scrolled": true
   },
   "outputs": [
    {
     "name": "stdout",
     "output_type": "stream",
     "text": [
      "[[[ 1  2  3]\n",
      "  [ 4  5  6]]\n",
      "\n",
      " [[ 7  8  9]\n",
      "  [10 11 12]]]\n"
     ]
    }
   ],
   "source": [
    "# Membuat numpy 3D array \n",
    "arr_3D = np.array([\n",
    "    [[1,2,3],\n",
    "    [4,5,6]],\n",
    "    \n",
    "    [[7,8,9],\n",
    "    [10,11,12]]\n",
    "])\n",
    "\n",
    "#Print arr_3D\n",
    "print(arr_3D)"
   ]
  },
  {
   "cell_type": "code",
   "execution_count": 107,
   "id": "ba8a93f7",
   "metadata": {},
   "outputs": [
    {
     "data": {
      "text/plain": [
       "(2, 2, 3)"
      ]
     },
     "execution_count": 107,
     "metadata": {},
     "output_type": "execute_result"
    }
   ],
   "source": [
    "#cek shape array\n",
    "np.shape(arr_3D)\n",
    "# 2x2x3 ada 2 lembar matriks dgn 2 baris dan 3 kolom"
   ]
  },
  {
   "cell_type": "code",
   "execution_count": 108,
   "id": "720b7828",
   "metadata": {},
   "outputs": [
    {
     "name": "stdout",
     "output_type": "stream",
     "text": [
      "(2, 2, 3)\n"
     ]
    }
   ],
   "source": [
    "#print shape arr_3D\n",
    "print(arr_3D.shape)"
   ]
  },
  {
   "cell_type": "code",
   "execution_count": 109,
   "id": "da29394a",
   "metadata": {},
   "outputs": [
    {
     "name": "stdout",
     "output_type": "stream",
     "text": [
      "3\n"
     ]
    }
   ],
   "source": [
    "#mengetahui dimensi\n",
    "print(arr_3D.ndim)"
   ]
  },
  {
   "cell_type": "code",
   "execution_count": 115,
   "id": "7bcbd72e",
   "metadata": {},
   "outputs": [
    {
     "name": "stdout",
     "output_type": "stream",
     "text": [
      "[['suhu' 'salinitas' 'ph' 'DO']\n",
      " ['30.2' '29' '8.0' '6.2']\n",
      " ['29' '29.2' '7.9' '5.2']\n",
      " ['31' '32' '7.5' '5.9']\n",
      " ['28.5' '31' '7.7' '8.0']]\n"
     ]
    }
   ],
   "source": [
    "# Menyimpan data Kualitas air dalam 2d array \n",
    "data = np.array([\n",
    "    ['suhu', 'salinitas', 'ph', 'DO'],\n",
    "    [30.2, 29, 8.0, 6.2],\n",
    "    [29, 29.2, 7.9, 5.2],\n",
    "    [31, 32, 7.5, 5.9],\n",
    "    [28.5, 31, 7.7, 8.0]\n",
    "])\n",
    "                       \n",
    "print(data)"
   ]
  },
  {
   "cell_type": "code",
   "execution_count": 118,
   "id": "29600f09",
   "metadata": {},
   "outputs": [
    {
     "name": "stdout",
     "output_type": "stream",
     "text": [
      "(5, 4)\n"
     ]
    }
   ],
   "source": [
    "#cek shape data\n",
    "print(data.shape)"
   ]
  },
  {
   "cell_type": "code",
   "execution_count": 121,
   "id": "752c4951",
   "metadata": {},
   "outputs": [
    {
     "name": "stdout",
     "output_type": "stream",
     "text": [
      "2\n"
     ]
    }
   ],
   "source": [
    "#cek dimensi data\n",
    "print(data.ndim)"
   ]
  },
  {
   "cell_type": "markdown",
   "id": "8dc453e3",
   "metadata": {},
   "source": [
    "### Slicing dan Indexing NumPy Array 1 D"
   ]
  },
  {
   "cell_type": "code",
   "execution_count": 122,
   "id": "49e4f039",
   "metadata": {},
   "outputs": [
    {
     "name": "stdout",
     "output_type": "stream",
     "text": [
      "[2 4 6]\n"
     ]
    }
   ],
   "source": [
    "#cetak data arr_1D indeks o hingga 2\n",
    "print(arr_1D[0:3])"
   ]
  },
  {
   "cell_type": "code",
   "execution_count": 123,
   "id": "94ec8d49",
   "metadata": {},
   "outputs": [
    {
     "name": "stdout",
     "output_type": "stream",
     "text": [
      "[6 8]\n"
     ]
    }
   ],
   "source": [
    "#cetak data arr_1D indeks 4 hingga terakhir\n",
    "print(arr_1D[2:])"
   ]
  },
  {
   "cell_type": "code",
   "execution_count": 125,
   "id": "03b6251e",
   "metadata": {},
   "outputs": [
    {
     "name": "stdout",
     "output_type": "stream",
     "text": [
      "[2 4 6 8]\n"
     ]
    }
   ],
   "source": [
    "#cetak data arr_1D indeks 0 hingga ke 3\n",
    "print(arr_1D[:4])"
   ]
  },
  {
   "cell_type": "code",
   "execution_count": 129,
   "id": "96bae4ed",
   "metadata": {},
   "outputs": [
    {
     "name": "stdout",
     "output_type": "stream",
     "text": [
      "[4 6]\n"
     ]
    }
   ],
   "source": [
    "#contoh indek negatif\n",
    "#cetak data dari indeks ke 3 dari akhir ke indek kedua dari akhir\n",
    "print(arr_1D[-3:-1])"
   ]
  },
  {
   "cell_type": "code",
   "execution_count": 131,
   "id": "5245b2d3",
   "metadata": {},
   "outputs": [
    {
     "name": "stdout",
     "output_type": "stream",
     "text": [
      "[4 8]\n"
     ]
    }
   ],
   "source": [
    "#potong indek ke 1 hingga 4 dengan lompatan 2\n",
    "print(arr_1D[1:5:2])"
   ]
  },
  {
   "cell_type": "markdown",
   "id": "89503282",
   "metadata": {},
   "source": [
    "### Slicing dan Indexing NumPy Array 2D"
   ]
  },
  {
   "attachments": {
    "image_2023-01-21_102001660.png": {
     "image/png": "[encoded data removed]"
    }
   },
   "cell_type": "markdown",
   "id": "169fcb89",
   "metadata": {},
   "source": [
    "![image_2023-01-21_102001660.png](attachment:image_2023-01-21_102001660.png)"
   ]
  },
  {
   "cell_type": "code",
   "execution_count": 138,
   "id": "df56a69e",
   "metadata": {
    "scrolled": true
   },
   "outputs": [
    {
     "data": {
      "text/plain": [
       "array([[1, 4, 8],\n",
       "       [7, 9, 0],\n",
       "       [6, 4, 5]])"
      ]
     },
     "execution_count": 138,
     "metadata": {},
     "output_type": "execute_result"
    }
   ],
   "source": [
    "#Input data NumPy Array 2D\n",
    "arr = np.array([[1,4,8],[7,9,0],[6,4,5]])\n",
    "arr"
   ]
  },
  {
   "cell_type": "code",
   "execution_count": 140,
   "id": "a8d823e7",
   "metadata": {},
   "outputs": [
    {
     "data": {
      "text/plain": [
       "1"
      ]
     },
     "execution_count": 140,
     "metadata": {},
     "output_type": "execute_result"
    }
   ],
   "source": [
    "# slice baris ke o dan kolom ke 0\n",
    "\n",
    "arr[0][0]"
   ]
  },
  {
   "cell_type": "code",
   "execution_count": 146,
   "id": "a6edf8e1",
   "metadata": {},
   "outputs": [
    {
     "data": {
      "text/plain": [
       "4"
      ]
     },
     "execution_count": 146,
     "metadata": {},
     "output_type": "execute_result"
    }
   ],
   "source": [
    "# slice baris ke -1 kolom ke -2 (ingat indeks negatif muali dr -1)\n",
    "arr[-1][-2]"
   ]
  },
  {
   "cell_type": "code",
   "execution_count": 143,
   "id": "2c5ccfb9",
   "metadata": {
    "scrolled": true
   },
   "outputs": [
    {
     "data": {
      "text/plain": [
       "array([[9, 0],\n",
       "       [4, 5]])"
      ]
     },
     "execution_count": 143,
     "metadata": {},
     "output_type": "execute_result"
    }
   ],
   "source": [
    "# slice baris ke 1 hingga terakhir dan kolom ke 1 hingga terakhir\n",
    "arr[1:,1:]"
   ]
  },
  {
   "cell_type": "code",
   "execution_count": 148,
   "id": "6a458cfe",
   "metadata": {},
   "outputs": [
    {
     "data": {
      "text/plain": [
       "array([[1, 4, 8],\n",
       "       [7, 9, 0],\n",
       "       [6, 4, 5]])"
      ]
     },
     "execution_count": 148,
     "metadata": {},
     "output_type": "execute_result"
    }
   ],
   "source": [
    "#tampilkan variabel arr\n",
    "arr"
   ]
  },
  {
   "cell_type": "code",
   "execution_count": 147,
   "id": "4849da49",
   "metadata": {},
   "outputs": [
    {
     "data": {
      "text/plain": [
       "array([[7, 9, 0],\n",
       "       [6, 4, 5]])"
      ]
     },
     "execution_count": 147,
     "metadata": {},
     "output_type": "execute_result"
    }
   ],
   "source": [
    "#slice baris ke 1 hingga terakhir, dan pilih semua kolom\n",
    "arr[1:,]"
   ]
  },
  {
   "cell_type": "code",
   "execution_count": 149,
   "id": "25d5fc19",
   "metadata": {},
   "outputs": [
    {
     "data": {
      "text/plain": [
       "array([0])"
      ]
     },
     "execution_count": 149,
     "metadata": {},
     "output_type": "execute_result"
    }
   ],
   "source": [
    "#tampilkan nilai pada indeks baris 1 hingga 2 dan kolom ke 1\n",
    "#ingat baris ke 2 exclude jika pakai :\n",
    "arr[1:2,2]"
   ]
  },
  {
   "cell_type": "code",
   "execution_count": 152,
   "id": "ec5bc3cc",
   "metadata": {},
   "outputs": [
    {
     "data": {
      "text/plain": [
       "array([[1, 4, 8],\n",
       "       [7, 9, 0],\n",
       "       [6, 4, 5]])"
      ]
     },
     "execution_count": 152,
     "metadata": {},
     "output_type": "execute_result"
    }
   ],
   "source": [
    "#tampilkan variabel arr\n",
    "arr"
   ]
  },
  {
   "cell_type": "code",
   "execution_count": 150,
   "id": "25d12f23",
   "metadata": {},
   "outputs": [
    {
     "data": {
      "text/plain": [
       "array([8, 0])"
      ]
     },
     "execution_count": 150,
     "metadata": {},
     "output_type": "execute_result"
    }
   ],
   "source": [
    "#potong arr indeks baris 0 hingga 1 DAN kolom ke 1\n",
    "arr[0:2,2]"
   ]
  },
  {
   "cell_type": "code",
   "execution_count": 151,
   "id": "24837566",
   "metadata": {},
   "outputs": [
    {
     "data": {
      "text/plain": [
       "array([4, 9])"
      ]
     },
     "execution_count": 151,
     "metadata": {},
     "output_type": "execute_result"
    }
   ],
   "source": [
    "#potong arr indeks 0 hingga 1 DAN kolom ke 1\n",
    "#2 exclude\n",
    "arr[0:2,1]"
   ]
  }
 ],
 "metadata": {
  "kernelspec": {
   "display_name": "Python 3 (ipykernel)",
   "language": "python",
   "name": "python3"
  },
  "language_info": {
   "codemirror_mode": {
    "name": "ipython",
    "version": 3
   },
   "file_extension": ".py",
   "mimetype": "text/x-python",
   "name": "python",
   "nbconvert_exporter": "python",
   "pygments_lexer": "ipython3",
   "version": "3.9.7"
  }
 },
 "nbformat": 4,
 "nbformat_minor": 5
}
