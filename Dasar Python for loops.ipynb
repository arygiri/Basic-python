{
 "cells": [
  {
   "cell_type": "markdown",
   "id": "9986451e",
   "metadata": {},
   "source": [
    "# Conditional Statement"
   ]
  },
  {
   "cell_type": "markdown",
   "id": "8b4ce4c0",
   "metadata": {},
   "source": [
    "Ada 3 jenis conditionals yang bisa digunakan:\n",
    "\n",
    "if......\n",
    "\n",
    "elif....\n",
    "\n",
    "else...."
   ]
  },
  {
   "cell_type": "markdown",
   "id": "e21598ff",
   "metadata": {},
   "source": [
    "if (**sebuah kondisi = True**):\n",
    "\n",
    "    eksekusi"
   ]
  },
  {
   "cell_type": "code",
   "execution_count": null,
   "id": "393b3d7a",
   "metadata": {},
   "outputs": [],
   "source": []
  },
  {
   "cell_type": "markdown",
   "id": "1faf33f1",
   "metadata": {},
   "source": [
    "if (**sebuah kondisi = True**):\n",
    "\n",
    "    eksekusi\n",
    "    \n",
    "else:\n",
    "\n",
    "    eksekusi"
   ]
  },
  {
   "cell_type": "code",
   "execution_count": null,
   "id": "1ce0debc",
   "metadata": {},
   "outputs": [],
   "source": []
  },
  {
   "cell_type": "markdown",
   "id": "cc6857ae",
   "metadata": {},
   "source": [
    "if (**sebuah kondisi = True**):\n",
    "\n",
    "    eksekusi\n",
    "\n",
    "elif (**sebuah kondisi == True**):\n",
    "    \n",
    "    eksekusi\n",
    "    \n",
    "else:\n",
    "\n",
    "    eksekusi"
   ]
  },
  {
   "cell_type": "code",
   "execution_count": null,
   "id": "2d504cc1",
   "metadata": {},
   "outputs": [],
   "source": []
  },
  {
   "cell_type": "markdown",
   "id": "763850ac",
   "metadata": {},
   "source": [
    "## For loops\n",
    "\n",
    "Digunakan untuk melakukan iterasi. hampir seluruh objek dapat dilakukan iterasi di python.\n",
    "\n",
    "Aturan penuliasan:\n",
    "\n",
    "**for `item` in `items`:**\n",
    "   **eksekusi perintah**"
   ]
  },
  {
   "cell_type": "markdown",
   "id": "af63c114",
   "metadata": {},
   "source": [
    "for i in 'Python Bootcamp by OCY':\n",
    "    print(i)"
   ]
  },
  {
   "cell_type": "code",
   "execution_count": 2,
   "id": "c11bd678",
   "metadata": {},
   "outputs": [
    {
     "name": "stdout",
     "output_type": "stream",
     "text": [
      "Python Bootcamp by OCY"
     ]
    }
   ],
   "source": [
    "#misal eksekusi tanpa membuat baris baru dibawahnya maka\n",
    "for i in 'Python Bootcamp by OCY':\n",
    "    print(i, end='')"
   ]
  },
  {
   "cell_type": "markdown",
   "id": "793e0796",
   "metadata": {},
   "source": [
    "**Iterasi data list**"
   ]
  },
  {
   "cell_type": "code",
   "execution_count": 4,
   "id": "2a4c0644",
   "metadata": {},
   "outputs": [],
   "source": [
    "angka = [1,2,3,4,5]"
   ]
  },
  {
   "cell_type": "code",
   "execution_count": 5,
   "id": "f6badc7e",
   "metadata": {},
   "outputs": [
    {
     "name": "stdout",
     "output_type": "stream",
     "text": [
      "1\n",
      "2\n",
      "3\n",
      "4\n",
      "5\n"
     ]
    }
   ],
   "source": [
    "for isi in angka:\n",
    "    print(isi)"
   ]
  },
  {
   "cell_type": "code",
   "execution_count": 11,
   "id": "91a34f8c",
   "metadata": {},
   "outputs": [],
   "source": [
    "jumlah = 0"
   ]
  },
  {
   "cell_type": "code",
   "execution_count": 14,
   "id": "798e2ddc",
   "metadata": {},
   "outputs": [
    {
     "name": "stdout",
     "output_type": "stream",
     "text": [
      "Hasil penjumlahan pada iterator ke-1 adalah 31\n",
      "Hasil penjumlahan pada iterator ke-2 adalah 33\n",
      "Hasil penjumlahan pada iterator ke-3 adalah 36\n",
      "Hasil penjumlahan pada iterator ke-4 adalah 40\n",
      "Hasil penjumlahan pada iterator ke-5 adalah 45\n"
     ]
    }
   ],
   "source": [
    "#iterasi penjumlahan pada list\n",
    "for isi in angka:\n",
    "    jumlah = jumlah + isi\n",
    "    print('Hasil penjumlahan pada iterator ke-{} adalah {}'.format(isi, jumlah))"
   ]
  },
  {
   "cell_type": "code",
   "execution_count": 15,
   "id": "e6d2a32b",
   "metadata": {},
   "outputs": [
    {
     "name": "stdout",
     "output_type": "stream",
     "text": [
      "Hasil penjumlahan total adalah 46\n",
      "Hasil penjumlahan total adalah 48\n",
      "Hasil penjumlahan total adalah 51\n",
      "Hasil penjumlahan total adalah 55\n",
      "Hasil penjumlahan total adalah 60\n"
     ]
    }
   ],
   "source": [
    "for isi in angka:\n",
    "    jumlah = jumlah + isi\n",
    "    print('Hasil penjumlahan total adalah', jumlah)"
   ]
  },
  {
   "cell_type": "markdown",
   "id": "b79715b0",
   "metadata": {},
   "source": [
    "## Looping dan conditional"
   ]
  },
  {
   "cell_type": "code",
   "execution_count": 17,
   "id": "287fa86d",
   "metadata": {},
   "outputs": [
    {
     "name": "stdout",
     "output_type": "stream",
     "text": [
      "hey kamu berada di huruf A, selamat! 2\n",
      "hey kamu berada di huruf A, selamat! 4\n",
      "hey kamu berada di huruf A, selamat! 9\n",
      "hey kamu berada di huruf A, selamat! 11\n"
     ]
    }
   ],
   "source": [
    "jumlah = 0\n",
    "for item in 'Saya belajar python':\n",
    "    jumlah += 1\n",
    "    if (item == 'a'):\n",
    "        print('hey kamu berada di huruf A, selamat!', jumlah)"
   ]
  },
  {
   "cell_type": "markdown",
   "id": "a5ae9027",
   "metadata": {},
   "source": [
    "**Tantangan**\n",
    "\n",
    "angka = [1,2,3,4,5,6,7,8,9,10]\n",
    "lakukan iterasi list angka, kemudian cetak dilayar apakah ia ganjil atau genap. gunakan fungsi modulus (%)"
   ]
  },
  {
   "cell_type": "code",
   "execution_count": 18,
   "id": "e597fcb2",
   "metadata": {},
   "outputs": [],
   "source": [
    "angka = [1,2,3,4,5,6,7,8,9,10]"
   ]
  },
  {
   "cell_type": "code",
   "execution_count": 23,
   "id": "e2ac8ec5",
   "metadata": {},
   "outputs": [
    {
     "name": "stdout",
     "output_type": "stream",
     "text": [
      "Angka 1 adalah bilangan ganjil\n",
      "Angka 2 adalah bilangan genap\n",
      "Angka 3 adalah bilangan ganjil\n",
      "Angka 4 adalah bilangan genap\n",
      "Angka 5 adalah bilangan ganjil\n",
      "Angka 6 adalah bilangan genap\n",
      "Angka 7 adalah bilangan ganjil\n",
      "Angka 8 adalah bilangan genap\n",
      "Angka 9 adalah bilangan ganjil\n",
      "Angka 10 adalah bilangan genap\n"
     ]
    }
   ],
   "source": [
    "for item in angka:\n",
    "    if item%2 == 0 :\n",
    "        print('Angka {} adalah bilangan genap'.format(item))\n",
    "    else:\n",
    "        print('Angka {} adalah bilangan ganjil'.format(item))"
   ]
  },
  {
   "cell_type": "code",
   "execution_count": 26,
   "id": "61c8bef2",
   "metadata": {},
   "outputs": [],
   "source": [
    "import pandas as pd"
   ]
  },
  {
   "cell_type": "code",
   "execution_count": 27,
   "id": "64c1bd40",
   "metadata": {},
   "outputs": [],
   "source": [
    "data = pd.read_excel('Kualitas_Air.xlsx', sheet_name='Sheet1')"
   ]
  },
  {
   "cell_type": "code",
   "execution_count": 28,
   "id": "4935c476",
   "metadata": {
    "scrolled": true
   },
   "outputs": [
    {
     "data": {
      "text/html": [
       "<div>\n",
       "<style scoped>\n",
       "    .dataframe tbody tr th:only-of-type {\n",
       "        vertical-align: middle;\n",
       "    }\n",
       "\n",
       "    .dataframe tbody tr th {\n",
       "        vertical-align: top;\n",
       "    }\n",
       "\n",
       "    .dataframe thead th {\n",
       "        text-align: right;\n",
       "    }\n",
       "</style>\n",
       "<table border=\"1\" class=\"dataframe\">\n",
       "  <thead>\n",
       "    <tr style=\"text-align: right;\">\n",
       "      <th></th>\n",
       "      <th>DO</th>\n",
       "      <th>PH</th>\n",
       "      <th>Salinitas</th>\n",
       "      <th>Kecerahan</th>\n",
       "      <th>Klorofil</th>\n",
       "      <th>Ammonia</th>\n",
       "      <th>Ammonium</th>\n",
       "      <th>Nitrat</th>\n",
       "      <th>Nitrit</th>\n",
       "    </tr>\n",
       "  </thead>\n",
       "  <tbody>\n",
       "    <tr>\n",
       "      <th>0</th>\n",
       "      <td>4.40</td>\n",
       "      <td>7.60</td>\n",
       "      <td>20.000000</td>\n",
       "      <td>7.000000</td>\n",
       "      <td>26.700</td>\n",
       "      <td>135.294463</td>\n",
       "      <td>841.352550</td>\n",
       "      <td>29.078347</td>\n",
       "      <td>23.062711</td>\n",
       "    </tr>\n",
       "    <tr>\n",
       "      <th>1</th>\n",
       "      <td>4.40</td>\n",
       "      <td>7.60</td>\n",
       "      <td>22.000000</td>\n",
       "      <td>7.000000</td>\n",
       "      <td>13.350</td>\n",
       "      <td>79.320063</td>\n",
       "      <td>878.159645</td>\n",
       "      <td>15.497162</td>\n",
       "      <td>23.127921</td>\n",
       "    </tr>\n",
       "    <tr>\n",
       "      <th>2</th>\n",
       "      <td>3.20</td>\n",
       "      <td>7.52</td>\n",
       "      <td>21.000000</td>\n",
       "      <td>5.500000</td>\n",
       "      <td>2.670</td>\n",
       "      <td>79.284834</td>\n",
       "      <td>892.572062</td>\n",
       "      <td>8.612223</td>\n",
       "      <td>23.019237</td>\n",
       "    </tr>\n",
       "    <tr>\n",
       "      <th>3</th>\n",
       "      <td>3.20</td>\n",
       "      <td>7.52</td>\n",
       "      <td>21.000000</td>\n",
       "      <td>5.500000</td>\n",
       "      <td>2.670</td>\n",
       "      <td>110.187306</td>\n",
       "      <td>804.157428</td>\n",
       "      <td>1.715993</td>\n",
       "      <td>23.345289</td>\n",
       "    </tr>\n",
       "    <tr>\n",
       "      <th>4</th>\n",
       "      <td>3.30</td>\n",
       "      <td>7.50</td>\n",
       "      <td>20.000000</td>\n",
       "      <td>9.500000</td>\n",
       "      <td>5.340</td>\n",
       "      <td>171.992249</td>\n",
       "      <td>847.283814</td>\n",
       "      <td>0.653174</td>\n",
       "      <td>22.997500</td>\n",
       "    </tr>\n",
       "    <tr>\n",
       "      <th>5</th>\n",
       "      <td>2.35</td>\n",
       "      <td>6.90</td>\n",
       "      <td>21.000000</td>\n",
       "      <td>9.500000</td>\n",
       "      <td>2.670</td>\n",
       "      <td>121.777934</td>\n",
       "      <td>846.840355</td>\n",
       "      <td>18.482410</td>\n",
       "      <td>22.975764</td>\n",
       "    </tr>\n",
       "    <tr>\n",
       "      <th>6</th>\n",
       "      <td>2.32</td>\n",
       "      <td>7.42</td>\n",
       "      <td>20.000000</td>\n",
       "      <td>3.000000</td>\n",
       "      <td>8.010</td>\n",
       "      <td>150.748635</td>\n",
       "      <td>812.084257</td>\n",
       "      <td>6.193059</td>\n",
       "      <td>23.019237</td>\n",
       "    </tr>\n",
       "    <tr>\n",
       "      <th>7</th>\n",
       "      <td>3.20</td>\n",
       "      <td>7.52</td>\n",
       "      <td>21.000000</td>\n",
       "      <td>5.500000</td>\n",
       "      <td>18.690</td>\n",
       "      <td>181.651107</td>\n",
       "      <td>847.727273</td>\n",
       "      <td>16.676101</td>\n",
       "      <td>24.084339</td>\n",
       "    </tr>\n",
       "    <tr>\n",
       "      <th>8</th>\n",
       "      <td>4.08</td>\n",
       "      <td>7.90</td>\n",
       "      <td>20.466667</td>\n",
       "      <td>5.666667</td>\n",
       "      <td>20.025</td>\n",
       "      <td>183.776643</td>\n",
       "      <td>830.127494</td>\n",
       "      <td>11.899290</td>\n",
       "      <td>23.581288</td>\n",
       "    </tr>\n",
       "    <tr>\n",
       "      <th>9</th>\n",
       "      <td>4.96</td>\n",
       "      <td>7.50</td>\n",
       "      <td>20.409524</td>\n",
       "      <td>5.452381</td>\n",
       "      <td>24.564</td>\n",
       "      <td>195.945041</td>\n",
       "      <td>826.784922</td>\n",
       "      <td>12.451608</td>\n",
       "      <td>23.670564</td>\n",
       "    </tr>\n",
       "    <tr>\n",
       "      <th>10</th>\n",
       "      <td>5.84</td>\n",
       "      <td>6.90</td>\n",
       "      <td>20.352381</td>\n",
       "      <td>5.238095</td>\n",
       "      <td>29.103</td>\n",
       "      <td>208.113440</td>\n",
       "      <td>823.442350</td>\n",
       "      <td>13.003926</td>\n",
       "      <td>23.759840</td>\n",
       "    </tr>\n",
       "    <tr>\n",
       "      <th>11</th>\n",
       "      <td>6.72</td>\n",
       "      <td>7.42</td>\n",
       "      <td>20.295238</td>\n",
       "      <td>5.023810</td>\n",
       "      <td>33.642</td>\n",
       "      <td>220.281839</td>\n",
       "      <td>820.099778</td>\n",
       "      <td>13.556244</td>\n",
       "      <td>23.849116</td>\n",
       "    </tr>\n",
       "    <tr>\n",
       "      <th>12</th>\n",
       "      <td>7.60</td>\n",
       "      <td>7.52</td>\n",
       "      <td>20.238095</td>\n",
       "      <td>4.809524</td>\n",
       "      <td>38.181</td>\n",
       "      <td>232.450238</td>\n",
       "      <td>816.757206</td>\n",
       "      <td>14.108562</td>\n",
       "      <td>23.938392</td>\n",
       "    </tr>\n",
       "    <tr>\n",
       "      <th>13</th>\n",
       "      <td>8.48</td>\n",
       "      <td>7.90</td>\n",
       "      <td>20.180952</td>\n",
       "      <td>4.595238</td>\n",
       "      <td>42.720</td>\n",
       "      <td>244.618637</td>\n",
       "      <td>813.414634</td>\n",
       "      <td>14.660880</td>\n",
       "      <td>24.027668</td>\n",
       "    </tr>\n",
       "  </tbody>\n",
       "</table>\n",
       "</div>"
      ],
      "text/plain": [
       "      DO    PH  Salinitas  Kecerahan  Klorofil     Ammonia    Ammonium  \\\n",
       "0   4.40  7.60  20.000000   7.000000    26.700  135.294463  841.352550   \n",
       "1   4.40  7.60  22.000000   7.000000    13.350   79.320063  878.159645   \n",
       "2   3.20  7.52  21.000000   5.500000     2.670   79.284834  892.572062   \n",
       "3   3.20  7.52  21.000000   5.500000     2.670  110.187306  804.157428   \n",
       "4   3.30  7.50  20.000000   9.500000     5.340  171.992249  847.283814   \n",
       "5   2.35  6.90  21.000000   9.500000     2.670  121.777934  846.840355   \n",
       "6   2.32  7.42  20.000000   3.000000     8.010  150.748635  812.084257   \n",
       "7   3.20  7.52  21.000000   5.500000    18.690  181.651107  847.727273   \n",
       "8   4.08  7.90  20.466667   5.666667    20.025  183.776643  830.127494   \n",
       "9   4.96  7.50  20.409524   5.452381    24.564  195.945041  826.784922   \n",
       "10  5.84  6.90  20.352381   5.238095    29.103  208.113440  823.442350   \n",
       "11  6.72  7.42  20.295238   5.023810    33.642  220.281839  820.099778   \n",
       "12  7.60  7.52  20.238095   4.809524    38.181  232.450238  816.757206   \n",
       "13  8.48  7.90  20.180952   4.595238    42.720  244.618637  813.414634   \n",
       "\n",
       "       Nitrat     Nitrit  \n",
       "0   29.078347  23.062711  \n",
       "1   15.497162  23.127921  \n",
       "2    8.612223  23.019237  \n",
       "3    1.715993  23.345289  \n",
       "4    0.653174  22.997500  \n",
       "5   18.482410  22.975764  \n",
       "6    6.193059  23.019237  \n",
       "7   16.676101  24.084339  \n",
       "8   11.899290  23.581288  \n",
       "9   12.451608  23.670564  \n",
       "10  13.003926  23.759840  \n",
       "11  13.556244  23.849116  \n",
       "12  14.108562  23.938392  \n",
       "13  14.660880  24.027668  "
      ]
     },
     "execution_count": 28,
     "metadata": {},
     "output_type": "execute_result"
    }
   ],
   "source": [
    "data"
   ]
  },
  {
   "cell_type": "code",
   "execution_count": 29,
   "id": "a7bf93c5",
   "metadata": {},
   "outputs": [
    {
     "name": "stdout",
     "output_type": "stream",
     "text": [
      "Nilai DO masih dibawah ambang batas baku mutu\n",
      "Nilai DO masih dibawah ambang batas baku mutu\n",
      "Nilai DO masih dibawah ambang batas baku mutu\n",
      "Nilai DO masih dibawah ambang batas baku mutu\n",
      "Nilai DO masih dibawah ambang batas baku mutu\n",
      "Nilai DO masih dibawah ambang batas baku mutu\n",
      "Nilai DO masih dibawah ambang batas baku mutu\n",
      "Nilai DO masih dibawah ambang batas baku mutu\n",
      "Nilai DO masih dibawah ambang batas baku mutu\n",
      "Nilai DO masih dibawah ambang batas baku mutu\n",
      "Nilai DO melebihi ambang batas baku mutu\n",
      "Nilai DO melebihi ambang batas baku mutu\n",
      "Nilai DO melebihi ambang batas baku mutu\n",
      "Nilai DO melebihi ambang batas baku mutu\n"
     ]
    }
   ],
   "source": [
    "for i in data.DO:\n",
    "    if i < 5:\n",
    "        print ('Nilai DO masih dibawah ambang batas baku mutu')\n",
    "    else:\n",
    "        print ('Nilai DO melebihi ambang batas baku mutu')"
   ]
  },
  {
   "cell_type": "markdown",
   "id": "a2e1c3af",
   "metadata": {},
   "source": [
    "### buatlah perintah for loop, untuk nilai pH. Nilai baku mutunya adalah 7-8.5"
   ]
  },
  {
   "cell_type": "markdown",
   "id": "8221bdfb",
   "metadata": {},
   "source": [
    "# While loop"
   ]
  },
  {
   "cell_type": "markdown",
   "id": "eb770d3f",
   "metadata": {},
   "source": [
    "ada 3 argumen yang bisa digunakan:\n",
    "1. break= menghentikan looping\n",
    "2. continue = melanjutkan looping ke iterator selanjutnya dan melewati iterator saat ini\n",
    "3. pass = tidak melakukan apa-apa\n",
    "\n",
    "while (sebuah kondisi = True):\n",
    "    \n",
    "    eksekusi"
   ]
  },
  {
   "cell_type": "code",
   "execution_count": 1,
   "id": "0dcc7f07",
   "metadata": {},
   "outputs": [
    {
     "name": "stdout",
     "output_type": "stream",
     "text": [
      "Saya berhasil menjalankan while loop\n",
      "Saya berhasil menjalankan while loop\n",
      "Saya berhasil menjalankan while loop\n",
      "Saya berhasil menjalankan while loop\n",
      "Saya berhasil menjalankan while loop\n",
      "Saya berhasil menjalankan while loop\n",
      "Saya berhasil menjalankan while loop\n",
      "Saya berhasil menjalankan while loop\n",
      "Saya berhasil menjalankan while loop\n",
      "Saya berhasil menjalankan while loop\n"
     ]
    }
   ],
   "source": [
    "indeks = 0\n",
    "while True:\n",
    "    print('Saya berhasil menjalankan while loop')\n",
    "    indeks += 1 # sama dengan indeks = indeks+1\n",
    "    if indeks == 10:\n",
    "        break # maka akan lakukan printing 10x"
   ]
  },
  {
   "cell_type": "code",
   "execution_count": 2,
   "id": "cfb84030",
   "metadata": {},
   "outputs": [],
   "source": [
    "# while denan kondisi\n",
    "x=0"
   ]
  },
  {
   "cell_type": "code",
   "execution_count": 3,
   "id": "234deeb2",
   "metadata": {},
   "outputs": [
    {
     "name": "stdout",
     "output_type": "stream",
     "text": [
      "Bilangan x saat ini adalah:  0\n",
      "Bilangan x saat ini adalah:  2\n",
      "Bilangan x saat ini adalah:  4\n",
      "Bilangan x saat ini adalah:  6\n",
      "Bilangan x saat ini adalah:  8\n",
      "Bilangan x saat ini adalah:  10\n",
      "Bilangan x saat ini adalah:  12\n",
      "Bilangan x saat ini adalah:  14\n",
      "Bilangan x saat ini adalah:  16\n",
      "Bilangan x saat ini adalah:  18\n",
      "Bilangan x saat ini adalah:  20\n",
      "Bilangan x saat ini adalah:  22\n",
      "Bilangan x saat ini adalah:  24\n",
      "Bilangan x saat ini adalah:  26\n",
      "Bilangan x saat ini adalah:  28\n",
      "Bilangan x saat ini adalah:  30\n",
      "Bilangan x saat ini adalah:  32\n",
      "Bilangan x saat ini adalah:  34\n",
      "Bilangan x saat ini adalah:  36\n",
      "Bilangan x saat ini adalah:  38\n",
      "Bilangan x saat ini adalah:  40\n",
      "Bilangan x saat ini adalah:  42\n",
      "Bilangan x saat ini adalah:  44\n",
      "Bilangan x saat ini adalah:  46\n",
      "Bilangan x saat ini adalah:  48\n"
     ]
    }
   ],
   "source": [
    "#membuat perintah jika x< 50 maka print Bilangan x saat ini adalah:x\n",
    "while x < 50:\n",
    "    print ('Bilangan x saat ini adalah: ',x)\n",
    "    x += 2"
   ]
  },
  {
   "cell_type": "code",
   "execution_count": 5,
   "id": "167913c6",
   "metadata": {},
   "outputs": [],
   "source": [
    "#membuat variabel angka bersisi 1-10\n",
    "angka = list(range(1,11))"
   ]
  },
  {
   "cell_type": "code",
   "execution_count": 6,
   "id": "6a9e28d3",
   "metadata": {},
   "outputs": [
    {
     "data": {
      "text/plain": [
       "[1, 2, 3, 4, 5, 6, 7, 8, 9, 10]"
      ]
     },
     "execution_count": 6,
     "metadata": {},
     "output_type": "execute_result"
    }
   ],
   "source": [
    "angka"
   ]
  },
  {
   "cell_type": "code",
   "execution_count": 14,
   "id": "6a22ddd9",
   "metadata": {},
   "outputs": [
    {
     "name": "stdout",
     "output_type": "stream",
     "text": [
      "Anda berada di angka ganjil = 1\n",
      "Anda berada di angka ganjil = 3\n",
      "Anda berada di angka ganjil = 5\n",
      "Anda berada di angka ganjil = 7\n",
      "Anda berada di angka ganjil = 9\n"
     ]
    }
   ],
   "source": [
    "# membuat perintah jika item di variabel angka ganjil maka print Anda berada di angka ganjil = item\n",
    "for item in angka:\n",
    "    if item%2 == 0:\n",
    "        continue\n",
    "    else:\n",
    "        print('Anda berada di angka ganjil =', item)"
   ]
  },
  {
   "cell_type": "code",
   "execution_count": 15,
   "id": "bb83fa2d",
   "metadata": {},
   "outputs": [],
   "source": [
    "for i in 'Saya sudah mulai mahir di Python':\n",
    "    if i == 'a':\n",
    "        pass\n",
    "    else:\n",
    "        continue"
   ]
  },
  {
   "cell_type": "code",
   "execution_count": 16,
   "id": "5e3020fc",
   "metadata": {},
   "outputs": [],
   "source": [
    "for i in 'abcd':\n",
    "    pass"
   ]
  },
  {
   "cell_type": "code",
   "execution_count": 17,
   "id": "b05db768",
   "metadata": {},
   "outputs": [
    {
     "ename": "IndentationError",
     "evalue": "expected an indented block (Temp/ipykernel_149772/3797449237.py, line 1)",
     "output_type": "error",
     "traceback": [
      "\u001b[1;36m  File \u001b[1;32m\"C:\\Users\\EBCKOM~1\\AppData\\Local\\Temp/ipykernel_149772/3797449237.py\"\u001b[1;36m, line \u001b[1;32m1\u001b[0m\n\u001b[1;33m    for i in 'abcd':\u001b[0m\n\u001b[1;37m                    ^\u001b[0m\n\u001b[1;31mIndentationError\u001b[0m\u001b[1;31m:\u001b[0m expected an indented block\n"
     ]
    }
   ],
   "source": [
    "#setidaknya tambahkan passa agar tdk error\n",
    "for i in 'abcd':"
   ]
  },
  {
   "cell_type": "code",
   "execution_count": null,
   "id": "25eaf8d0",
   "metadata": {},
   "outputs": [],
   "source": []
  }
 ],
 "metadata": {
  "kernelspec": {
   "display_name": "Python 3 (ipykernel)",
   "language": "python",
   "name": "python3"
  },
  "language_info": {
   "codemirror_mode": {
    "name": "ipython",
    "version": 3
   },
   "file_extension": ".py",
   "mimetype": "text/x-python",
   "name": "python",
   "nbconvert_exporter": "python",
   "pygments_lexer": "ipython3",
   "version": "3.9.7"
  }
 },
 "nbformat": 4,
 "nbformat_minor": 5
}
