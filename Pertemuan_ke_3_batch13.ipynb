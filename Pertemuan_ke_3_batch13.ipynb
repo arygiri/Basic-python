{
  "nbformat": 4,
  "nbformat_minor": 0,
  "metadata": {
    "colab": {
      "name": "Pertemuan ke-3_batch13.ipynb",
      "provenance": [],
      "collapsed_sections": []
    },
    "kernelspec": {
      "name": "python3",
      "display_name": "Python 3"
    },
    "language_info": {
      "name": "python"
    }
  },
  "cells": [
    {
      "cell_type": "markdown",
      "source": [
        "#Pembahasan assignment#1"
      ],
      "metadata": {
        "id": "CI9LWpTAcvy-"
      }
    },
    {
      "cell_type": "code",
      "source": [
        "# Soal 1\n",
        "nama = input(\"Nama: \")\n",
        "umur = int(input(\"Umur: \"))\n",
        "tinggi = float(input(\"Tinggi: \"))\n",
        "\n",
        "text = \"Nama saya {}, umur saya {} tahun dan tinggi saya {} cm\".format(nama, umur, tinggi)\n",
        "\n",
        "print(text)"
      ],
      "metadata": {
        "colab": {
          "base_uri": "https://localhost:8080/"
        },
        "id": "wfFT6voXc1LF",
        "outputId": "ab210e42-373d-4f72-aeb4-713e178f1bde"
      },
      "execution_count": 5,
      "outputs": [
        {
          "output_type": "stream",
          "name": "stdout",
          "text": [
            "Nama: Rizki\n",
            "Umur: 17\n",
            "Tinggi: 170\n",
            "Nama saya Rizki, umur saya 17 tahun dan tinggi saya 170.0 cm\n"
          ]
        }
      ]
    },
    {
      "cell_type": "code",
      "source": [
        "# Soal 2\n",
        "\n",
        "r = float(input(\"Masukkan jari-jari lingkaran: \"))\n",
        "pi = 22/7\n",
        "\n",
        "luas = pi * r * r\n",
        "luas2 = round(luas,2)\n",
        "\n",
        "print(\"Luas Lingkaran dengan jari-jari\",r,\"cm adalah\", luas2,\"cm\\u00b2\")\n",
        "print(\"Luas Lingkaran dengan jari-jari\",r,\"cm adalah {:.2f}\".format(luas),\"cm\\u00b2\")"
      ],
      "metadata": {
        "colab": {
          "base_uri": "https://localhost:8080/"
        },
        "id": "TFn1gT2_dAtJ",
        "outputId": "db4c9c49-fc75-481a-cbcd-881fb49b3586"
      },
      "execution_count": 6,
      "outputs": [
        {
          "output_type": "stream",
          "name": "stdout",
          "text": [
            "Masukkan jari-jari lingkaran: 12.13\n",
            "Luas Lingkaran dengan jari-jari 12.13 cm adalah 462.43 cm²\n",
            "Luas Lingkaran dengan jari-jari 12.13 cm adalah 462.43 cm²\n"
          ]
        }
      ]
    },
    {
      "cell_type": "code",
      "source": [
        "# Soal 3\n",
        "\n",
        "nilai_minimum = float(input(\"Nilai minimun: \"))\n",
        "\n",
        "nilai_teori = float(input(\"Nilai teori: \"))\n",
        "nilai_praktek = float(input(\"Nilai praktek: \"))\n",
        "\n",
        "if nilai_teori >= nilai_minimum and nilai_praktek >= nilai_minimum:\n",
        "    print(\"Lulus\")\n",
        "elif nilai_teori >= nilai_minimum and nilai_praktek < nilai_minimum:\n",
        "    print(\"Anda mengulang ujian praktek\")\n",
        "elif nilai_teori < nilai_minimum and nilai_praktek >= nilai_minimum:\n",
        "    print(\"Anda mengulang ujian teori\")\n",
        "else:\n",
        "    print(\"Anda mengulang ujian teori dan praktek\")"
      ],
      "metadata": {
        "colab": {
          "base_uri": "https://localhost:8080/"
        },
        "id": "7bBn0_zRdP7I",
        "outputId": "7e11a273-10fb-48c5-d66e-29336638e308"
      },
      "execution_count": 7,
      "outputs": [
        {
          "output_type": "stream",
          "name": "stdout",
          "text": [
            "Nilai minimun: 75\n",
            "Nilai teori: 60\n",
            "Nilai praktek: 80\n",
            "Anda mengulang ujian teori\n"
          ]
        }
      ]
    },
    {
      "cell_type": "markdown",
      "source": [
        "# Range"
      ],
      "metadata": {
        "id": "Z2i_mTuBtryG"
      }
    },
    {
      "cell_type": "code",
      "source": [
        "for i in range (3):\n",
        "  print(i)"
      ],
      "metadata": {
        "colab": {
          "base_uri": "https://localhost:8080/"
        },
        "id": "TTB2tY5OtuQv",
        "outputId": "d65b1b48-e8a1-4d35-fbd7-e77eecd13c12"
      },
      "execution_count": 8,
      "outputs": [
        {
          "output_type": "stream",
          "name": "stdout",
          "text": [
            "0\n",
            "1\n",
            "2\n"
          ]
        }
      ]
    },
    {
      "cell_type": "code",
      "source": [
        "for x in range (1,3):\n",
        "  print(x)"
      ],
      "metadata": {
        "colab": {
          "base_uri": "https://localhost:8080/"
        },
        "id": "SIJFBrc7t6Li",
        "outputId": "c7aa4f45-d292-4a17-8bda-314111c9fef2"
      },
      "execution_count": 9,
      "outputs": [
        {
          "output_type": "stream",
          "name": "stdout",
          "text": [
            "1\n",
            "2\n"
          ]
        }
      ]
    },
    {
      "cell_type": "code",
      "source": [
        "for y in range (2, 20,3):\n",
        "  print (y)"
      ],
      "metadata": {
        "colab": {
          "base_uri": "https://localhost:8080/"
        },
        "id": "UVrJw5YVuD2q",
        "outputId": "0ff15f81-9b4e-4170-807c-93b3c923e268"
      },
      "execution_count": 10,
      "outputs": [
        {
          "output_type": "stream",
          "name": "stdout",
          "text": [
            "2\n",
            "5\n",
            "8\n",
            "11\n",
            "14\n",
            "17\n"
          ]
        }
      ]
    },
    {
      "cell_type": "markdown",
      "source": [
        "# Break"
      ],
      "metadata": {
        "id": "VDvYU_S0uUNt"
      }
    },
    {
      "cell_type": "code",
      "source": [
        "for i in range(6):\n",
        "  if i == 3:\n",
        "    break\n",
        "  print(i)"
      ],
      "metadata": {
        "colab": {
          "base_uri": "https://localhost:8080/"
        },
        "id": "BTrFaQYZuX5M",
        "outputId": "c8f72f4e-37fe-468c-fa84-9d5f1dd2871d"
      },
      "execution_count": 11,
      "outputs": [
        {
          "output_type": "stream",
          "name": "stdout",
          "text": [
            "0\n",
            "1\n",
            "2\n"
          ]
        }
      ]
    },
    {
      "cell_type": "code",
      "source": [
        "for i in range(5):\n",
        "  if i == 3:\n",
        "    break\n",
        "    print(i)"
      ],
      "metadata": {
        "id": "RRs6GBFOujJ4"
      },
      "execution_count": 12,
      "outputs": []
    },
    {
      "cell_type": "code",
      "source": [
        "for i in range(5):\n",
        "  if i == 3:\n",
        "    break\n",
        "print(i)"
      ],
      "metadata": {
        "colab": {
          "base_uri": "https://localhost:8080/"
        },
        "id": "aRiZggTxuzYJ",
        "outputId": "1ac2a1aa-fe8f-45ad-f27b-bf6560bb3a82"
      },
      "execution_count": 13,
      "outputs": [
        {
          "output_type": "stream",
          "name": "stdout",
          "text": [
            "3\n"
          ]
        }
      ]
    },
    {
      "cell_type": "markdown",
      "source": [
        "# Continue"
      ],
      "metadata": {
        "id": "OoVBuK0GvBm_"
      }
    },
    {
      "cell_type": "code",
      "source": [
        "for i in range(10):\n",
        "  if i == 3:\n",
        "    continue\n",
        "  print(i)"
      ],
      "metadata": {
        "colab": {
          "base_uri": "https://localhost:8080/"
        },
        "id": "BAy6utsXvDvr",
        "outputId": "efeae094-54e0-4159-f266-988727efa6dc"
      },
      "execution_count": 14,
      "outputs": [
        {
          "output_type": "stream",
          "name": "stdout",
          "text": [
            "0\n",
            "1\n",
            "2\n",
            "4\n",
            "5\n",
            "6\n",
            "7\n",
            "8\n",
            "9\n"
          ]
        }
      ]
    },
    {
      "cell_type": "code",
      "source": [
        "for i in range(10):\n",
        "  if i == 3:\n",
        "    continue\n",
        "  elif i == 7:\n",
        "    continue\n",
        "  print(i)"
      ],
      "metadata": {
        "colab": {
          "base_uri": "https://localhost:8080/"
        },
        "id": "HUAcp07fvPPj",
        "outputId": "9723b6ad-0f7a-4828-ffe1-eb4aebbd7e18"
      },
      "execution_count": 15,
      "outputs": [
        {
          "output_type": "stream",
          "name": "stdout",
          "text": [
            "0\n",
            "1\n",
            "2\n",
            "4\n",
            "5\n",
            "6\n",
            "8\n",
            "9\n"
          ]
        }
      ]
    },
    {
      "cell_type": "code",
      "source": [
        "for i in range(10):\n",
        "  if i == 3,5:\n",
        "    continue\n",
        "  print(i)"
      ],
      "metadata": {
        "colab": {
          "base_uri": "https://localhost:8080/",
          "height": 137
        },
        "id": "iuJBvtEqvr1G",
        "outputId": "53e03ef6-16fe-4b47-bee8-a3a0d1bdbae4"
      },
      "execution_count": 16,
      "outputs": [
        {
          "output_type": "error",
          "ename": "SyntaxError",
          "evalue": "ignored",
          "traceback": [
            "\u001b[0;36m  File \u001b[0;32m\"<ipython-input-16-b32e7f7053bd>\"\u001b[0;36m, line \u001b[0;32m2\u001b[0m\n\u001b[0;31m    if i == 3,5:\u001b[0m\n\u001b[0m             ^\u001b[0m\n\u001b[0;31mSyntaxError\u001b[0m\u001b[0;31m:\u001b[0m invalid syntax\n"
          ]
        }
      ]
    },
    {
      "cell_type": "markdown",
      "source": [
        "# List"
      ],
      "metadata": {
        "id": "DIkLebSPwFKC"
      }
    },
    {
      "cell_type": "code",
      "source": [
        "mylist = ['a','b','c','d','e']\n",
        "print(mylist)"
      ],
      "metadata": {
        "colab": {
          "base_uri": "https://localhost:8080/"
        },
        "id": "wBFoq3dTwJJt",
        "outputId": "4809b78a-4dd8-49e0-bf56-619d4f7785d1"
      },
      "execution_count": 17,
      "outputs": [
        {
          "output_type": "stream",
          "name": "stdout",
          "text": [
            "['a', 'b', 'c', 'd', 'e']\n"
          ]
        }
      ]
    },
    {
      "cell_type": "code",
      "source": [
        "mylist.remove('a')\n",
        "print(mylist)"
      ],
      "metadata": {
        "colab": {
          "base_uri": "https://localhost:8080/"
        },
        "id": "ryGcJ6ESwWbM",
        "outputId": "f9c6f77d-2997-4447-d047-4bb1c88b65e7"
      },
      "execution_count": 18,
      "outputs": [
        {
          "output_type": "stream",
          "name": "stdout",
          "text": [
            "['b', 'c', 'd', 'e']\n"
          ]
        }
      ]
    },
    {
      "cell_type": "code",
      "source": [
        "mylist2 = ['a','b','c','d','e']\n",
        "\n",
        "for s in mylist2:\n",
        "  print(s)"
      ],
      "metadata": {
        "colab": {
          "base_uri": "https://localhost:8080/"
        },
        "id": "vwQ-9KVuwq0W",
        "outputId": "b96fa7e1-aaad-4a79-c1ed-334b4510d00c"
      },
      "execution_count": 19,
      "outputs": [
        {
          "output_type": "stream",
          "name": "stdout",
          "text": [
            "a\n",
            "b\n",
            "c\n",
            "d\n",
            "e\n"
          ]
        }
      ]
    },
    {
      "cell_type": "code",
      "source": [
        "mylist2.remove('c')\n",
        "\n",
        "for t in mylist2:\n",
        "  print(t)"
      ],
      "metadata": {
        "colab": {
          "base_uri": "https://localhost:8080/"
        },
        "id": "FW7nBcCtw30Y",
        "outputId": "b824476e-0a0c-4cf2-bd22-0c75e7462c3d"
      },
      "execution_count": 21,
      "outputs": [
        {
          "output_type": "stream",
          "name": "stdout",
          "text": [
            "a\n",
            "b\n",
            "d\n",
            "e\n"
          ]
        }
      ]
    },
    {
      "cell_type": "markdown",
      "source": [
        "# Pendalaman Loop"
      ],
      "metadata": {
        "id": "elTDi9-bxOkU"
      }
    },
    {
      "cell_type": "markdown",
      "source": [
        "Kita diminta membuat sebuah program untuk menerima memasukkan sejumlah data pelanggan\n",
        "sejumlah n orang dengan n adalah integer berisi nama dan umur.\n",
        "\n",
        "Contoh:\n",
        "    \n",
        "Berapa data pelanggan: 2\n",
        "\n",
        "Masukkan data pelanggan\n",
        "\n",
        "Pelanggan ke 1\n",
        "Nama : Iqbal\n",
        "Umur : 21\n",
        "\n",
        "Pelanggan ke 2\n",
        "Nama : Aris\n",
        "Umur : 22\n",
        "\n",
        "Pelanggan yang terdaftar adalah :\n",
        "\n",
        "Pelanggan Iqbal berumur 21\n",
        "\n",
        "Pelanggan Aris berumur 22"
      ],
      "metadata": {
        "id": "uAa11x0AxUIt"
      }
    },
    {
      "cell_type": "code",
      "source": [
        "count = int(input('Berapa data pelanggan:'))\n",
        "\n",
        "nama_pelanggan = []\n",
        "umur_pelanggan = []\n",
        "\n",
        "for i in range(count):\n",
        "  print('Pelanggan ke-{}'.format(i+1))\n",
        "  nama = input('Nama:')\n",
        "  umur = int(input('Umur'))\n",
        "\n",
        "  nama_pelanggan.append(nama)\n",
        "  umur_pelanggan.append(umur)\n",
        "\n",
        "print('\\nPelanggan yang terdaftar adalah:')\n",
        "\n",
        "for x in range(len(nama_pelanggan)):\n",
        "  print('Pelanggan {} berumur {}'.format(nama_pelanggan[x], umur_pelanggan[x]))"
      ],
      "metadata": {
        "colab": {
          "base_uri": "https://localhost:8080/"
        },
        "id": "t4E-1aPyxdqQ",
        "outputId": "51db92e7-efde-4934-ca18-e0d813535b0f"
      },
      "execution_count": 22,
      "outputs": [
        {
          "output_type": "stream",
          "name": "stdout",
          "text": [
            "Berapa data pelanggan:2\n",
            "Pelanggan ke-1\n",
            "Nama:Iqbal\n",
            "Umur21\n",
            "Pelanggan ke-2\n",
            "Nama:Aris\n",
            "Umur22\n",
            "\n",
            "Pelanggan yang terdaftar adalah:\n",
            "Pelanggan Iqbal berumur 21\n",
            "Pelanggan Aris berumur 22\n"
          ]
        }
      ]
    },
    {
      "cell_type": "code",
      "source": [
        "for x in range(len(nama_pelanggan)):\n",
        "  print('Pelanggan {} berumur {}'.format(nama_pelanggan, umur_pelanggan))"
      ],
      "metadata": {
        "colab": {
          "base_uri": "https://localhost:8080/"
        },
        "id": "9FjWZZS3z1O-",
        "outputId": "a7ec242e-6bff-4d6e-b38b-4c784eed3691"
      },
      "execution_count": 23,
      "outputs": [
        {
          "output_type": "stream",
          "name": "stdout",
          "text": [
            "Pelanggan ['Iqbal', 'Aris'] berumur [21, 22]\n",
            "Pelanggan ['Iqbal', 'Aris'] berumur [21, 22]\n"
          ]
        }
      ]
    },
    {
      "cell_type": "markdown",
      "source": [
        "# While"
      ],
      "metadata": {
        "id": "MI-jbpxb0WDA"
      }
    },
    {
      "cell_type": "code",
      "source": [
        "i = 1\n",
        "while i < 6:\n",
        "  print(i)\n",
        "  i +=1"
      ],
      "metadata": {
        "colab": {
          "base_uri": "https://localhost:8080/"
        },
        "id": "HGF3Oaul0XXk",
        "outputId": "db9f7a8d-421f-4bc5-f793-d7b542869e04"
      },
      "execution_count": 24,
      "outputs": [
        {
          "output_type": "stream",
          "name": "stdout",
          "text": [
            "1\n",
            "2\n",
            "3\n",
            "4\n",
            "5\n"
          ]
        }
      ]
    },
    {
      "cell_type": "markdown",
      "source": [
        "# While True"
      ],
      "metadata": {
        "id": "7IbtrJ-q0rkY"
      }
    },
    {
      "cell_type": "code",
      "source": [
        "# Tanpa while True\n",
        "\n",
        "operasi = input('Silahkan pilih menu= 1:Penjumlahan, 2:Pengurangan, 3:Perkalian, 4:Pembagian, 5:Keluar')\n",
        "\n",
        "if operasi == '1':\n",
        "    x = int(input('Masukkan angka ke-1:'))\n",
        "    y = int(input('Masukkan angka ke-2'))\n",
        "    print('Nilai {} + {}'.format(x,y),'=',x+y)\n",
        "    print('==========================')\n",
        "elif operasi == '2':\n",
        "    x = int(input('Masukkan angka ke-1:'))\n",
        "    y = int(input('Masukkan angka ke-2'))\n",
        "    print('Nilai {} - {}'.format(x,y),'=',x-y)\n",
        "    print('==========================')\n",
        "elif operasi == '3':\n",
        "    x = int(input('Masukkan angka ke-1:'))\n",
        "    y = int(input('Masukkan angka ke-2'))\n",
        "    print('Nilai {} x {}'.format(x,y),'=',x*y)\n",
        "    print('==========================')\n",
        "elif operasi == '4':\n",
        "    x = int(input('Masukkan angka ke-1:'))\n",
        "    y = int(input('Masukkan angka ke-2'))\n",
        "    print('Nilai {} : {}'.format(x,y),'=',x/y)\n",
        "    print('==========================')\n",
        "elif operasi == '5':\n",
        "    print('\\nOke, terima kasih telah menggunakan kalkulator ini')\n",
        "    print('==========================')\n",
        "else:\n",
        "    print('\\nMaaf, pilihan menu angka tidak ada')\n",
        "    print('==========================')\n",
        "    "
      ],
      "metadata": {
        "colab": {
          "base_uri": "https://localhost:8080/"
        },
        "id": "FQNs1gaf0uoV",
        "outputId": "57d854a3-a905-4402-eabf-12da608890e2"
      },
      "execution_count": 25,
      "outputs": [
        {
          "output_type": "stream",
          "name": "stdout",
          "text": [
            "Silahkan pilih menu= 1:Penjumlahan, 2:Pengurangan, 3:Perkalian, 4:Pembagian, 5:Keluar1\n",
            "Masukkan angka ke-1:10\n",
            "Masukkan angka ke-213\n",
            "Nilai 10 + 13 = 23\n",
            "==========================\n"
          ]
        }
      ]
    },
    {
      "cell_type": "code",
      "source": [
        "# Dengan while True\n",
        "\n",
        "while True:\n",
        "\n",
        "    operasi = input('Silahkan pilih menu= 1:Penjumlahan, 2:Pengurangan, 3:Perkalian, 4:Pembagian, 5:Keluar')\n",
        "\n",
        "    if operasi == '1':\n",
        "        x = int(input('Masukkan angka ke-1:'))\n",
        "        y = int(input('Masukkan angka ke-2'))\n",
        "        print('Nilai {} + {}'.format(x,y),'=',x+y)\n",
        "        print('==========================')\n",
        "    elif operasi == '2':\n",
        "        x = int(input('Masukkan angka ke-1:'))\n",
        "        y = int(input('Masukkan angka ke-2'))\n",
        "        print('Nilai {} - {}'.format(x,y),'=',x-y)\n",
        "        print('==========================')\n",
        "    elif operasi == '3':\n",
        "        x = int(input('Masukkan angka ke-1:'))\n",
        "        y = int(input('Masukkan angka ke-2'))\n",
        "        print('Nilai {} x {}'.format(x,y),'=',x*y)\n",
        "        print('==========================')\n",
        "    elif operasi == '4':\n",
        "        x = int(input('Masukkan angka ke-1:'))\n",
        "        y = int(input('Masukkan angka ke-2'))\n",
        "        print('Nilai {} : {}'.format(x,y),'=',x/y)\n",
        "        print('==========================')\n",
        "    elif operasi == '5':\n",
        "        print('\\nOke, terima kasih telah menggunakan kalkulator ini')\n",
        "        print('==========================')\n",
        "        break\n",
        "    else:\n",
        "        print('\\nMaaf, pilihan menu angka tidak ada')\n",
        "        print('==========================')\n",
        "    "
      ],
      "metadata": {
        "colab": {
          "base_uri": "https://localhost:8080/"
        },
        "id": "EfVxgElz1o1-",
        "outputId": "d11babf4-e312-4dd6-fcfd-740194bf5f25"
      },
      "execution_count": 26,
      "outputs": [
        {
          "output_type": "stream",
          "name": "stdout",
          "text": [
            "Silahkan pilih menu= 1:Penjumlahan, 2:Pengurangan, 3:Perkalian, 4:Pembagian, 5:Keluar1\n",
            "Masukkan angka ke-1:10\n",
            "Masukkan angka ke-213\n",
            "Nilai 10 + 13 = 23\n",
            "==========================\n",
            "Silahkan pilih menu= 1:Penjumlahan, 2:Pengurangan, 3:Perkalian, 4:Pembagian, 5:Keluar7\n",
            "\n",
            "Maaf, pilihan menu angka tidak ada\n",
            "==========================\n",
            "Silahkan pilih menu= 1:Penjumlahan, 2:Pengurangan, 3:Perkalian, 4:Pembagian, 5:Keluar4\n",
            "Masukkan angka ke-1:10\n",
            "Masukkan angka ke-23\n",
            "Nilai 10 : 3 = 3.3333333333333335\n",
            "==========================\n",
            "Silahkan pilih menu= 1:Penjumlahan, 2:Pengurangan, 3:Perkalian, 4:Pembagian, 5:Keluar5\n",
            "\n",
            "Oke, terima kasih telah menggunakan kalkulator ini\n",
            "==========================\n"
          ]
        }
      ]
    },
    {
      "cell_type": "markdown",
      "source": [
        "# Nested loop"
      ],
      "metadata": {
        "id": "8KWzumW42g5g"
      }
    },
    {
      "cell_type": "code",
      "source": [
        "for i in range (2):\n",
        "  for j in range (3):\n",
        "    print('i:{}, j:{}'.format(i,j))\n",
        "  print()"
      ],
      "metadata": {
        "colab": {
          "base_uri": "https://localhost:8080/"
        },
        "id": "hvwJJ0tN2iud",
        "outputId": "bf40a876-e95c-4d58-ce42-b1b8bcef80bd"
      },
      "execution_count": 27,
      "outputs": [
        {
          "output_type": "stream",
          "name": "stdout",
          "text": [
            "i:0, j:0\n",
            "i:0, j:1\n",
            "i:0, j:2\n",
            "\n",
            "i:1, j:0\n",
            "i:1, j:1\n",
            "i:1, j:2\n",
            "\n"
          ]
        }
      ]
    },
    {
      "cell_type": "code",
      "source": [
        "for i in range (2):\n",
        "  for j in range (3):\n",
        "    print('i:{}, j:{}'.format(i,j))"
      ],
      "metadata": {
        "colab": {
          "base_uri": "https://localhost:8080/"
        },
        "id": "XO1SwLc1287Z",
        "outputId": "3309186a-4507-4455-98c2-d213ba2c8d04"
      },
      "execution_count": 31,
      "outputs": [
        {
          "output_type": "stream",
          "name": "stdout",
          "text": [
            "i:0, j:0\n",
            "i:0, j:1\n",
            "i:0, j:2\n",
            "i:1, j:0\n",
            "i:1, j:1\n",
            "i:1, j:2\n"
          ]
        }
      ]
    },
    {
      "cell_type": "code",
      "source": [
        "for i in range (2):\n",
        "  for j in range (3):\n",
        "    print()\n",
        "    print('i:{}, j:{}'.format(i,j))"
      ],
      "metadata": {
        "colab": {
          "base_uri": "https://localhost:8080/"
        },
        "id": "vPe0HJ8X3YDy",
        "outputId": "0c336ce1-5bea-47ed-ccda-8ad67e177770"
      },
      "execution_count": 32,
      "outputs": [
        {
          "output_type": "stream",
          "name": "stdout",
          "text": [
            "\n",
            "i:0, j:0\n",
            "\n",
            "i:0, j:1\n",
            "\n",
            "i:0, j:2\n",
            "\n",
            "i:1, j:0\n",
            "\n",
            "i:1, j:1\n",
            "\n",
            "i:1, j:2\n"
          ]
        }
      ]
    },
    {
      "cell_type": "code",
      "source": [
        "for i in range (5):\n",
        "  for j in range (3):\n",
        "    print('i:{}, j:{}'.format(i,j))\n",
        "  print()"
      ],
      "metadata": {
        "colab": {
          "base_uri": "https://localhost:8080/"
        },
        "id": "GcOYs_Kd3sgt",
        "outputId": "58485638-d879-484c-dde4-199367ed892c"
      },
      "execution_count": 33,
      "outputs": [
        {
          "output_type": "stream",
          "name": "stdout",
          "text": [
            "i:0, j:0\n",
            "i:0, j:1\n",
            "i:0, j:2\n",
            "\n",
            "i:1, j:0\n",
            "i:1, j:1\n",
            "i:1, j:2\n",
            "\n",
            "i:2, j:0\n",
            "i:2, j:1\n",
            "i:2, j:2\n",
            "\n",
            "i:3, j:0\n",
            "i:3, j:1\n",
            "i:3, j:2\n",
            "\n",
            "i:4, j:0\n",
            "i:4, j:1\n",
            "i:4, j:2\n",
            "\n"
          ]
        }
      ]
    },
    {
      "cell_type": "code",
      "source": [
        "for i in range (5):\n",
        "  for j in range (3):\n",
        "    print('i:{}, j:{}'.format(i,j),end ='')\n",
        "  print()"
      ],
      "metadata": {
        "colab": {
          "base_uri": "https://localhost:8080/"
        },
        "id": "91wg3ZfU32d8",
        "outputId": "5b62b580-74e8-46ff-e971-a8037e864f07"
      },
      "execution_count": 34,
      "outputs": [
        {
          "output_type": "stream",
          "name": "stdout",
          "text": [
            "i:0, j:0i:0, j:1i:0, j:2\n",
            "i:1, j:0i:1, j:1i:1, j:2\n",
            "i:2, j:0i:2, j:1i:2, j:2\n",
            "i:3, j:0i:3, j:1i:3, j:2\n",
            "i:4, j:0i:4, j:1i:4, j:2\n"
          ]
        }
      ]
    },
    {
      "cell_type": "code",
      "source": [
        "for i in range (5):\n",
        "  for j in range (3):\n",
        "    print('i:{}'.format(i),end ='')\n",
        "      print('j:{}'.format(j))\n",
        "  print()"
      ],
      "metadata": {
        "colab": {
          "base_uri": "https://localhost:8080/",
          "height": 137
        },
        "id": "D5Kgf2vX4GT_",
        "outputId": "acf1ac3b-51c8-4552-f843-0f15dedf4099"
      },
      "execution_count": 35,
      "outputs": [
        {
          "output_type": "error",
          "ename": "IndentationError",
          "evalue": "ignored",
          "traceback": [
            "\u001b[0;36m  File \u001b[0;32m\"<ipython-input-35-e36529055173>\"\u001b[0;36m, line \u001b[0;32m4\u001b[0m\n\u001b[0;31m    print('j:{}'.format(j))\u001b[0m\n\u001b[0m    ^\u001b[0m\n\u001b[0;31mIndentationError\u001b[0m\u001b[0;31m:\u001b[0m unexpected indent\n"
          ]
        }
      ]
    },
    {
      "cell_type": "code",
      "source": [
        "for i in range (2):\n",
        "  for j in range (3):\n",
        "    print('i:{}, j:{}'.format(i,j),end ='')\n",
        "  print()"
      ],
      "metadata": {
        "colab": {
          "base_uri": "https://localhost:8080/"
        },
        "id": "yMP5LHYr4raM",
        "outputId": "4fe017bc-bf80-4c84-f49b-a92688d252dc"
      },
      "execution_count": 36,
      "outputs": [
        {
          "output_type": "stream",
          "name": "stdout",
          "text": [
            "i:0, j:0i:0, j:1i:0, j:2\n",
            "i:1, j:0i:1, j:1i:1, j:2\n"
          ]
        }
      ]
    },
    {
      "cell_type": "code",
      "source": [
        "for baris in range (2):\n",
        "  for kolom in range (3):\n",
        "    print('{}, {}'.format(baris,kolom))\n",
        "  print()"
      ],
      "metadata": {
        "colab": {
          "base_uri": "https://localhost:8080/"
        },
        "id": "9pgUcZOd473d",
        "outputId": "cf20b79c-6852-440a-c2b6-610f343a6529"
      },
      "execution_count": 37,
      "outputs": [
        {
          "output_type": "stream",
          "name": "stdout",
          "text": [
            "0, 0\n",
            "0, 1\n",
            "0, 2\n",
            "\n",
            "1, 0\n",
            "1, 1\n",
            "1, 2\n",
            "\n"
          ]
        }
      ]
    },
    {
      "cell_type": "markdown",
      "source": [
        "# Exception"
      ],
      "metadata": {
        "id": "PaIfBs9K5eBx"
      }
    },
    {
      "cell_type": "markdown",
      "source": [
        "Buat program interaktif yang akan mengeluarkan output \"Kelipatan 7\" apabila input yang dimasukkan adalah merupakan bilangan kelipatan 7, dan \"Bukan Kelipatan 7\" jika sebaliknya"
      ],
      "metadata": {
        "id": "iEvHWBp75mqu"
      }
    },
    {
      "cell_type": "code",
      "source": [
        "angka = int(input('Masukkan angka:'))\n",
        "if angka == 0:\n",
        "    print('Bukan Kelipatan 7')\n",
        "elif angka %7 != 0:\n",
        "    print('Bukan Kelipatan 7')\n",
        "elif angka %7 == 0:\n",
        "    print('Kelipatan 7')"
      ],
      "metadata": {
        "colab": {
          "base_uri": "https://localhost:8080/",
          "height": 268
        },
        "id": "QcsqRjrj5lgx",
        "outputId": "d80e2296-d99c-4dcd-ca8a-3824962d1624"
      },
      "execution_count": 41,
      "outputs": [
        {
          "name": "stdout",
          "output_type": "stream",
          "text": [
            "Masukkan angka:a\n"
          ]
        },
        {
          "output_type": "error",
          "ename": "ValueError",
          "evalue": "ignored",
          "traceback": [
            "\u001b[0;31m---------------------------------------------------------------------------\u001b[0m",
            "\u001b[0;31mValueError\u001b[0m                                Traceback (most recent call last)",
            "\u001b[0;32m<ipython-input-41-b6f42aa37988>\u001b[0m in \u001b[0;36m<module>\u001b[0;34m()\u001b[0m\n\u001b[0;32m----> 1\u001b[0;31m \u001b[0mangka\u001b[0m \u001b[0;34m=\u001b[0m \u001b[0mint\u001b[0m\u001b[0;34m(\u001b[0m\u001b[0minput\u001b[0m\u001b[0;34m(\u001b[0m\u001b[0;34m'Masukkan angka:'\u001b[0m\u001b[0;34m)\u001b[0m\u001b[0;34m)\u001b[0m\u001b[0;34m\u001b[0m\u001b[0;34m\u001b[0m\u001b[0m\n\u001b[0m\u001b[1;32m      2\u001b[0m \u001b[0;32mif\u001b[0m \u001b[0mangka\u001b[0m \u001b[0;34m==\u001b[0m \u001b[0;36m0\u001b[0m\u001b[0;34m:\u001b[0m\u001b[0;34m\u001b[0m\u001b[0;34m\u001b[0m\u001b[0m\n\u001b[1;32m      3\u001b[0m     \u001b[0mprint\u001b[0m\u001b[0;34m(\u001b[0m\u001b[0;34m'Bukan Kelipatan 7'\u001b[0m\u001b[0;34m)\u001b[0m\u001b[0;34m\u001b[0m\u001b[0;34m\u001b[0m\u001b[0m\n\u001b[1;32m      4\u001b[0m \u001b[0;32melif\u001b[0m \u001b[0mangka\u001b[0m \u001b[0;34m%\u001b[0m\u001b[0;36m7\u001b[0m \u001b[0;34m!=\u001b[0m \u001b[0;36m0\u001b[0m\u001b[0;34m:\u001b[0m\u001b[0;34m\u001b[0m\u001b[0;34m\u001b[0m\u001b[0m\n\u001b[1;32m      5\u001b[0m     \u001b[0mprint\u001b[0m\u001b[0;34m(\u001b[0m\u001b[0;34m'Bukan Kelipatan 7'\u001b[0m\u001b[0;34m)\u001b[0m\u001b[0;34m\u001b[0m\u001b[0;34m\u001b[0m\u001b[0m\n",
            "\u001b[0;31mValueError\u001b[0m: invalid literal for int() with base 10: 'a'"
          ]
        }
      ]
    },
    {
      "cell_type": "code",
      "source": [
        "try:\n",
        "    angka = int(input('Masukkan angka:'))\n",
        "    if angka == 0:\n",
        "        print('Bukan Kelipatan 7')\n",
        "    elif angka %7 != 0:\n",
        "        print('Bukan Kelipatan 7')\n",
        "    elif angka %7 == 0:\n",
        "        print('Kelipatan 7')\n",
        "except:\n",
        "    print('Data yang diinput bukan angka')  "
      ],
      "metadata": {
        "colab": {
          "base_uri": "https://localhost:8080/"
        },
        "id": "I_wJ7XZG6Kxu",
        "outputId": "58a9bf9d-9357-4160-ef90-d76442d75866"
      },
      "execution_count": 42,
      "outputs": [
        {
          "output_type": "stream",
          "name": "stdout",
          "text": [
            "Masukkan angka:a\n",
            "Data yang diinput bukan angka\n"
          ]
        }
      ]
    },
    {
      "cell_type": "markdown",
      "source": [
        "# Contoh lain exception"
      ],
      "metadata": {
        "id": "v-7gAhzE6uIa"
      }
    },
    {
      "cell_type": "markdown",
      "source": [
        "Buatlah program interaktif untuk mengecek inputan user dengan ketentuan sebagai berikut:\n",
        "1.program akan menampilkan 'Input tidak Valid' jika yang dimasukkan bukan angka;\n",
        "2.program akan menampilkan 'Input Diluar Range' jika angka yang dimasukkan tidak diantara 0-99;\n",
        "3.program akan menampilkan 'Input Valid' jika input berupa angka dan ada di antara 0-99\n"
      ],
      "metadata": {
        "id": "s_gQ7Afg61qB"
      }
    },
    {
      "cell_type": "code",
      "source": [
        "while True:\n",
        "    awalan = input('\\nSilahkan pilih menu= 1:Menjalankan program, 2:Keluar program\\n')\n",
        "    \n",
        "    if awalan == '1':\n",
        "        try:\n",
        "            angka = int(input('Masukkan angka:'))\n",
        "            if angka < 0 or angka > 99:\n",
        "                print('Input diluar range')\n",
        "            elif angka >= 0 and angka <=99:\n",
        "                print('Input valid')\n",
        "        except:\n",
        "            print('Input tidak valid')\n",
        "    elif awalan == '2':\n",
        "        print('\\nOke, terima kasih telah menggunakan program ini')\n",
        "        print('==========================')\n",
        "        break"
      ],
      "metadata": {
        "colab": {
          "base_uri": "https://localhost:8080/"
        },
        "id": "27U103B06l40",
        "outputId": "3f23afd5-f7bd-4b01-cb61-153b41aa49cc"
      },
      "execution_count": 44,
      "outputs": [
        {
          "output_type": "stream",
          "name": "stdout",
          "text": [
            "\n",
            "Silahkan pilih menu= 1:Menjalankan program, 2:Keluar program\n",
            "1\n",
            "Masukkan angka:a\n",
            "Input tidak valid\n",
            "\n",
            "Silahkan pilih menu= 1:Menjalankan program, 2:Keluar program\n",
            "abc\n",
            "\n",
            "Silahkan pilih menu= 1:Menjalankan program, 2:Keluar program\n",
            "2\n",
            "\n",
            "Oke, terima kasih telah menggunakan program ini\n",
            "==========================\n"
          ]
        }
      ]
    },
    {
      "cell_type": "code",
      "source": [
        "while True:\n",
        "    operasi = input('Silahkan pilih menu= 1:Penjumlahan, 2:Pengurangan, 3:Perkalian, 4:Pembagian, 5:Keluar')\n",
        "\n",
        "    if operasi == '1':\n",
        "        try:\n",
        "            x = int(input('Masukkan angka ke-1:'))\n",
        "            y = int(input('Masukkan angka ke-2'))\n",
        "            print('Nilai {} + {}'.format(x,y),'=',x+y)\n",
        "            print('==========================')\n",
        "        except:\n",
        "            print('Input tidak valid')\n",
        "            print('==========================')\n",
        "    elif operasi == '2':\n",
        "        try:\n",
        "            x = int(input('Masukkan angka ke-1:'))\n",
        "            y = int(input('Masukkan angka ke-2'))\n",
        "            print('Nilai {} - {}'.format(x,y),'=',x-y)\n",
        "            print('==========================')\n",
        "        except:\n",
        "            print('Input tidak valid')\n",
        "            print('==========================') \n",
        "    elif operasi == '3':\n",
        "        try:\n",
        "            x = int(input('Masukkan angka ke-1:'))\n",
        "            y = int(input('Masukkan angka ke-2'))\n",
        "            print('Nilai {} x {}'.format(x,y),'=',x*y)\n",
        "            print('==========================')\n",
        "        except:\n",
        "            print('Input tidak valid')\n",
        "            print('==========================') \n",
        "    elif operasi == '4':\n",
        "        try:\n",
        "            x = int(input('Masukkan angka ke-1:'))\n",
        "            y = int(input('Masukkan angka ke-2'))\n",
        "            print('Nilai {} : {}'.format(x,y),'=',x/y)\n",
        "            print('==========================')\n",
        "        except:\n",
        "            print('Input tidak valid')\n",
        "            print('==========================') \n",
        "    elif operasi == '5':\n",
        "        print('\\nOke, terima kasih telah menggunakan kalkulator ini')\n",
        "        print('==========================')\n",
        "        break\n",
        "    else:\n",
        "        print('\\nMaaf, pilihan menu angka tidak ada')\n",
        "        print('==========================')"
      ],
      "metadata": {
        "colab": {
          "base_uri": "https://localhost:8080/"
        },
        "id": "LstH9d-U7eJ6",
        "outputId": "c8b99f51-b802-4d29-e2de-cd53e77aafa8"
      },
      "execution_count": 45,
      "outputs": [
        {
          "output_type": "stream",
          "name": "stdout",
          "text": [
            "Silahkan pilih menu= 1:Penjumlahan, 2:Pengurangan, 3:Perkalian, 4:Pembagian, 5:Keluar1\n",
            "Masukkan angka ke-1:c\n",
            "Input tidak valid\n",
            "==========================\n",
            "Silahkan pilih menu= 1:Penjumlahan, 2:Pengurangan, 3:Perkalian, 4:Pembagian, 5:Keluar2\n",
            "Masukkan angka ke-1:d\n",
            "Input tidak valid\n",
            "==========================\n",
            "Silahkan pilih menu= 1:Penjumlahan, 2:Pengurangan, 3:Perkalian, 4:Pembagian, 5:Keluarc\n",
            "\n",
            "Maaf, pilihan menu angka tidak ada\n",
            "==========================\n",
            "Silahkan pilih menu= 1:Penjumlahan, 2:Pengurangan, 3:Perkalian, 4:Pembagian, 5:Keluar5\n",
            "\n",
            "Oke, terima kasih telah menggunakan kalkulator ini\n",
            "==========================\n"
          ]
        }
      ]
    },
    {
      "cell_type": "code",
      "source": [
        ""
      ],
      "metadata": {
        "id": "428gLAVs8S27"
      },
      "execution_count": null,
      "outputs": []
    }
  ]
}